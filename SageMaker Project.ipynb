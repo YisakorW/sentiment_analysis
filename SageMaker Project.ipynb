{
 "cells": [
  {
   "cell_type": "markdown",
   "metadata": {},
   "source": [
    "# Creating a Sentiment Analysis Web App\n",
    "## Using PyTorch and SageMaker\n",
    "\n",
    "_Deep Learning Nanodegree Program | Deployment_\n",
    "\n",
    "---\n",
    "\n",
    "Now that we have a basic understanding of how SageMaker works we will try to use it to construct a complete project from end to end. Our goal will be to have a simple web page which a user can use to enter a movie review. The web page will then send the review off to our deployed model which will predict the sentiment of the entered review.\n",
    "\n",
    "## Instructions\n",
    "\n",
    "Some template code has already been provided for you, and you will need to implement additional functionality to successfully complete this notebook. You will not need to modify the included code beyond what is requested. Sections that begin with '**TODO**' in the header indicate that you need to complete or implement some portion within them. Instructions will be provided for each section and the specifics of the implementation are marked in the code block with a `# TODO: ...` comment. Please be sure to read the instructions carefully!\n",
    "\n",
    "In addition to implementing code, there will be questions for you to answer which relate to the task and your implementation. Each section where you will answer a question is preceded by a '**Question:**' header. Carefully read each question and provide your answer below the '**Answer:**' header by editing the Markdown cell.\n",
    "\n",
    "> **Note**: Code and Markdown cells can be executed using the **Shift+Enter** keyboard shortcut. In addition, a cell can be edited by typically clicking it (double-click for Markdown cells) or by pressing **Enter** while it is highlighted.\n",
    "\n",
    "## General Outline\n",
    "\n",
    "Recall the general outline for SageMaker projects using a notebook instance.\n",
    "\n",
    "1. Download or otherwise retrieve the data.\n",
    "2. Process / Prepare the data.\n",
    "3. Upload the processed data to S3.\n",
    "4. Train a chosen model.\n",
    "5. Test the trained model (typically using a batch transform job).\n",
    "6. Deploy the trained model.\n",
    "7. Use the deployed model.\n",
    "\n",
    "For this project, you will be following the steps in the general outline with some modifications. \n",
    "\n",
    "First, you will not be testing the model in its own step. You will still be testing the model, however, you will do it by deploying your model and then using the deployed model by sending the test data to it. One of the reasons for doing this is so that you can make sure that your deployed model is working correctly before moving forward.\n",
    "\n",
    "In addition, you will deploy and use your trained model a second time. In the second iteration you will customize the way that your trained model is deployed by including some of your own code. In addition, your newly deployed model will be used in the sentiment analysis web app."
   ]
  },
  {
   "cell_type": "markdown",
   "metadata": {},
   "source": [
    "## Step 1: Downloading the data\n",
    "\n",
    "As in the XGBoost in SageMaker notebook, we will be using the [IMDb dataset](http://ai.stanford.edu/~amaas/data/sentiment/)\n",
    "\n",
    "> Maas, Andrew L., et al. [Learning Word Vectors for Sentiment Analysis](http://ai.stanford.edu/~amaas/data/sentiment/). In _Proceedings of the 49th Annual Meeting of the Association for Computational Linguistics: Human Language Technologies_. Association for Computational Linguistics, 2011."
   ]
  },
  {
   "cell_type": "code",
   "execution_count": 1,
   "metadata": {},
   "outputs": [
    {
     "name": "stdout",
     "output_type": "stream",
     "text": [
      "mkdir: cannot create directory ‘../data’: File exists\n",
      "--2020-08-12 12:29:18--  http://ai.stanford.edu/~amaas/data/sentiment/aclImdb_v1.tar.gz\n",
      "Resolving ai.stanford.edu (ai.stanford.edu)... 171.64.68.10\n",
      "Connecting to ai.stanford.edu (ai.stanford.edu)|171.64.68.10|:80... connected.\n",
      "HTTP request sent, awaiting response... 200 OK\n",
      "Length: 84125825 (80M) [application/x-gzip]\n",
      "Saving to: ‘../data/aclImdb_v1.tar.gz’\n",
      "\n",
      "../data/aclImdb_v1. 100%[===================>]  80.23M  25.0MB/s    in 4.1s    \n",
      "\n",
      "2020-08-12 12:29:22 (19.5 MB/s) - ‘../data/aclImdb_v1.tar.gz’ saved [84125825/84125825]\n",
      "\n"
     ]
    }
   ],
   "source": [
    "%mkdir ../data\n",
    "!wget -O ../data/aclImdb_v1.tar.gz http://ai.stanford.edu/~amaas/data/sentiment/aclImdb_v1.tar.gz\n",
    "!tar -zxf ../data/aclImdb_v1.tar.gz -C ../data"
   ]
  },
  {
   "cell_type": "markdown",
   "metadata": {},
   "source": [
    "## Step 2: Preparing and Processing the data\n",
    "\n",
    "Also, as in the XGBoost notebook, we will be doing some initial data processing. The first few steps are the same as in the XGBoost example. To begin with, we will read in each of the reviews and combine them into a single input structure. Then, we will split the dataset into a training set and a testing set."
   ]
  },
  {
   "cell_type": "code",
   "execution_count": 2,
   "metadata": {},
   "outputs": [],
   "source": [
    "import os\n",
    "import glob\n",
    "\n",
    "def read_imdb_data(data_dir='../data/aclImdb'):\n",
    "    data = {}\n",
    "    labels = {}\n",
    "    \n",
    "    for data_type in ['train', 'test']:\n",
    "        data[data_type] = {}\n",
    "        labels[data_type] = {}\n",
    "        \n",
    "        for sentiment in ['pos', 'neg']:\n",
    "            data[data_type][sentiment] = []\n",
    "            labels[data_type][sentiment] = []\n",
    "            \n",
    "            path = os.path.join(data_dir, data_type, sentiment, '*.txt')\n",
    "            files = glob.glob(path)\n",
    "            \n",
    "            for f in files:\n",
    "                with open(f) as review:\n",
    "                    data[data_type][sentiment].append(review.read())\n",
    "                    # Here we represent a positive review by '1' and a negative review by '0'\n",
    "                    labels[data_type][sentiment].append(1 if sentiment == 'pos' else 0)\n",
    "                    \n",
    "            assert len(data[data_type][sentiment]) == len(labels[data_type][sentiment]), \\\n",
    "                    \"{}/{} data size does not match labels size\".format(data_type, sentiment)\n",
    "                \n",
    "    return data, labels"
   ]
  },
  {
   "cell_type": "code",
   "execution_count": 3,
   "metadata": {},
   "outputs": [
    {
     "name": "stdout",
     "output_type": "stream",
     "text": [
      "IMDB reviews: train = 12500 pos / 12500 neg, test = 12500 pos / 12500 neg\n"
     ]
    }
   ],
   "source": [
    "data, labels = read_imdb_data()\n",
    "print(\"IMDB reviews: train = {} pos / {} neg, test = {} pos / {} neg\".format(\n",
    "            len(data['train']['pos']), len(data['train']['neg']),\n",
    "            len(data['test']['pos']), len(data['test']['neg'])))"
   ]
  },
  {
   "cell_type": "markdown",
   "metadata": {},
   "source": [
    "Now that we've read the raw training and testing data from the downloaded dataset, we will combine the positive and negative reviews and shuffle the resulting records."
   ]
  },
  {
   "cell_type": "code",
   "execution_count": 4,
   "metadata": {},
   "outputs": [],
   "source": [
    "from sklearn.utils import shuffle\n",
    "\n",
    "def prepare_imdb_data(data, labels):\n",
    "    \"\"\"Prepare training and test sets from IMDb movie reviews.\"\"\"\n",
    "    \n",
    "    #Combine positive and negative reviews and labels\n",
    "    data_train = data['train']['pos'] + data['train']['neg']\n",
    "    data_test = data['test']['pos'] + data['test']['neg']\n",
    "    labels_train = labels['train']['pos'] + labels['train']['neg']\n",
    "    labels_test = labels['test']['pos'] + labels['test']['neg']\n",
    "    \n",
    "    #Shuffle reviews and corresponding labels within training and test sets\n",
    "    data_train, labels_train = shuffle(data_train, labels_train)\n",
    "    data_test, labels_test = shuffle(data_test, labels_test)\n",
    "    \n",
    "    # Return a unified training data, test data, training labels, test labets\n",
    "    return data_train, data_test, labels_train, labels_test"
   ]
  },
  {
   "cell_type": "code",
   "execution_count": 5,
   "metadata": {},
   "outputs": [
    {
     "name": "stdout",
     "output_type": "stream",
     "text": [
      "IMDb reviews (combined): train = 25000, test = 25000\n"
     ]
    }
   ],
   "source": [
    "train_X, test_X, train_y, test_y = prepare_imdb_data(data, labels)\n",
    "print(\"IMDb reviews (combined): train = {}, test = {}\".format(len(train_X), len(test_X)))"
   ]
  },
  {
   "cell_type": "markdown",
   "metadata": {},
   "source": [
    "Now that we have our training and testing sets unified and prepared, we should do a quick check and see an example of the data our model will be trained on. This is generally a good idea as it allows you to see how each of the further processing steps affects the reviews and it also ensures that the data has been loaded correctly."
   ]
  },
  {
   "cell_type": "code",
   "execution_count": 6,
   "metadata": {},
   "outputs": [
    {
     "name": "stdout",
     "output_type": "stream",
     "text": [
      "THE YOUNG VICTORIA is a elegantly costumed and reproduced bit of history that benefits from some fine settings, solid direction by Jean-Marc Vallée of stalwart Julian Fellowes' version of the youthful lass who was to become England's longest reigning monarch - Victoria. Much of the early portion of the film, that part when Victoria is a child whose ascent to the throne is contested by her mother (Miranda Richardson) and Sir John Conroy (Mark Strong) seems to drag and get lost in the multiple costumes and scenery variations. But once Victoria (Emily Blunt) comes of age and is courted by Prince Albert (Rupert Friend) the film blooms. Blunt is a strong actress and finds that delicate line between girlish infatuation and royal dignity that makes her a fine foil for those at court who would seek to control the 'child queen' - including her secretary Lord Melbourne (Paul Bettany). But as she matures into her role as queen her eye dwells on the dashing German Prince Albert, and a love affair that has lasted in the memories of everyone is matched by the concept of joining Royalty with concern for the care of her subjects - much due to the sensitivity of Albert. The film takes us to the birth of their first of nine children and then ends with some statements about the influence of Queen Victoria and Prince Albert's effect on the various Royalties throughout Europe! It makes for an evening of beautiful costume drama and allows us to appreciate the growth of two young stars in Emily Blunt and Rupert Friend. A solid if not transporting epic. <br /><br />Grady Harp\n",
      "1\n"
     ]
    }
   ],
   "source": [
    "print(train_X[100])\n",
    "print(train_y[100])"
   ]
  },
  {
   "cell_type": "markdown",
   "metadata": {},
   "source": [
    "The first step in processing the reviews is to make sure that any html tags that appear should be removed. In addition we wish to tokenize our input, that way words such as *entertained* and *entertaining* are considered the same with regard to sentiment analysis."
   ]
  },
  {
   "cell_type": "code",
   "execution_count": 7,
   "metadata": {},
   "outputs": [],
   "source": [
    "import nltk\n",
    "from nltk.corpus import stopwords\n",
    "from nltk.stem.porter import *\n",
    "\n",
    "import re\n",
    "from bs4 import BeautifulSoup\n",
    "\n",
    "def review_to_words(review):\n",
    "    nltk.download(\"stopwords\", quiet=True)\n",
    "    stemmer = PorterStemmer()\n",
    "    \n",
    "    text = BeautifulSoup(review, \"html.parser\").get_text() # Remove HTML tags\n",
    "    text = re.sub(r\"[^a-zA-Z0-9]\", \" \", text.lower()) # Convert to lower case\n",
    "    words = text.split() # Split string into words\n",
    "    words = [w for w in words if w not in stopwords.words(\"english\")] # Remove stopwords\n",
    "    words = [PorterStemmer().stem(w) for w in words] # stem\n",
    "    \n",
    "    return words"
   ]
  },
  {
   "cell_type": "markdown",
   "metadata": {},
   "source": [
    "The `review_to_words` method defined above uses `BeautifulSoup` to remove any html tags that appear and uses the `nltk` package to tokenize the reviews. As a check to ensure we know how everything is working, try applying `review_to_words` to one of the reviews in the training set."
   ]
  },
  {
   "cell_type": "code",
   "execution_count": 8,
   "metadata": {},
   "outputs": [
    {
     "name": "stdout",
     "output_type": "stream",
     "text": [
      "['young', 'victoria', 'elegantli', 'costum', 'reproduc', 'bit', 'histori', 'benefit', 'fine', 'set', 'solid', 'direct', 'jean', 'marc', 'vall', 'e', 'stalwart', 'julian', 'fellow', 'version', 'youth', 'lass', 'becom', 'england', 'longest', 'reign', 'monarch', 'victoria', 'much', 'earli', 'portion', 'film', 'part', 'victoria', 'child', 'whose', 'ascent', 'throne', 'contest', 'mother', 'miranda', 'richardson', 'sir', 'john', 'conroy', 'mark', 'strong', 'seem', 'drag', 'get', 'lost', 'multipl', 'costum', 'sceneri', 'variat', 'victoria', 'emili', 'blunt', 'come', 'age', 'court', 'princ', 'albert', 'rupert', 'friend', 'film', 'bloom', 'blunt', 'strong', 'actress', 'find', 'delic', 'line', 'girlish', 'infatu', 'royal', 'digniti', 'make', 'fine', 'foil', 'court', 'would', 'seek', 'control', 'child', 'queen', 'includ', 'secretari', 'lord', 'melbourn', 'paul', 'bettani', 'matur', 'role', 'queen', 'eye', 'dwell', 'dash', 'german', 'princ', 'albert', 'love', 'affair', 'last', 'memori', 'everyon', 'match', 'concept', 'join', 'royalti', 'concern', 'care', 'subject', 'much', 'due', 'sensit', 'albert', 'film', 'take', 'us', 'birth', 'first', 'nine', 'children', 'end', 'statement', 'influenc', 'queen', 'victoria', 'princ', 'albert', 'effect', 'variou', 'royalti', 'throughout', 'europ', 'make', 'even', 'beauti', 'costum', 'drama', 'allow', 'us', 'appreci', 'growth', 'two', 'young', 'star', 'emili', 'blunt', 'rupert', 'friend', 'solid', 'transport', 'epic', 'gradi', 'harp']\n"
     ]
    }
   ],
   "source": [
    "# TODO: Apply review_to_words to a review (train_X[100] or any other review)\n",
    "\n",
    "words = review_to_words(train_X[100])\n",
    "print(words)"
   ]
  },
  {
   "cell_type": "markdown",
   "metadata": {},
   "source": [
    "**Question:** Above we mentioned that `review_to_words` method removes html formatting and allows us to tokenize the words found in a review, for example, converting *entertained* and *entertaining* into *entertain* so that they are treated as though they are the same word. What else, if anything, does this method do to the input?"
   ]
  },
  {
   "cell_type": "markdown",
   "metadata": {},
   "source": [
    "    **Answer:** The review_to_words method also allows us to remove stopwords so that we can focus on more relevant terms. The method takes a review in the form of a string and returns a list of tokenized words."
   ]
  },
  {
   "cell_type": "markdown",
   "metadata": {},
   "source": [
    "The method below applies the `review_to_words` method to each of the reviews in the training and testing datasets. In addition it caches the results. This is because performing this processing step can take a long time. This way if you are unable to complete the notebook in the current session, you can come back without needing to process the data a second time."
   ]
  },
  {
   "cell_type": "code",
   "execution_count": 9,
   "metadata": {},
   "outputs": [],
   "source": [
    "import pickle\n",
    "\n",
    "cache_dir = os.path.join(\"../cache\", \"sentiment_analysis\")  # where to store cache files\n",
    "os.makedirs(cache_dir, exist_ok=True)  # ensure cache directory exists\n",
    "\n",
    "def preprocess_data(data_train, data_test, labels_train, labels_test,\n",
    "                    cache_dir=cache_dir, cache_file=\"preprocessed_data.pkl\"):\n",
    "    \"\"\"Convert each review to words; read from cache if available.\"\"\"\n",
    "\n",
    "    # If cache_file is not None, try to read from it first\n",
    "    cache_data = None\n",
    "    if cache_file is not None:\n",
    "        try:\n",
    "            with open(os.path.join(cache_dir, cache_file), \"rb\") as f:\n",
    "                cache_data = pickle.load(f)\n",
    "            print(\"Read preprocessed data from cache file:\", cache_file)\n",
    "        except:\n",
    "            pass  # unable to read from cache, but that's okay\n",
    "    \n",
    "    # If cache is missing, then do the heavy lifting\n",
    "    if cache_data is None:\n",
    "        # Preprocess training and test data to obtain words for each review\n",
    "        #words_train = list(map(review_to_words, data_train))\n",
    "        #words_test = list(map(review_to_words, data_test))\n",
    "        words_train = [review_to_words(review) for review in data_train]\n",
    "        words_test = [review_to_words(review) for review in data_test]\n",
    "        \n",
    "        # Write to cache file for future runs\n",
    "        if cache_file is not None:\n",
    "            cache_data = dict(words_train=words_train, words_test=words_test,\n",
    "                              labels_train=labels_train, labels_test=labels_test)\n",
    "            with open(os.path.join(cache_dir, cache_file), \"wb\") as f:\n",
    "                pickle.dump(cache_data, f)\n",
    "            print(\"Wrote preprocessed data to cache file:\", cache_file)\n",
    "    else:\n",
    "        # Unpack data loaded from cache file\n",
    "        words_train, words_test, labels_train, labels_test = (cache_data['words_train'],\n",
    "                cache_data['words_test'], cache_data['labels_train'], cache_data['labels_test'])\n",
    "    \n",
    "    return words_train, words_test, labels_train, labels_test"
   ]
  },
  {
   "cell_type": "code",
   "execution_count": 10,
   "metadata": {},
   "outputs": [
    {
     "name": "stdout",
     "output_type": "stream",
     "text": [
      "Read preprocessed data from cache file: preprocessed_data.pkl\n",
      "['govern', 'fought', 'establish', 'recogn', 'loyalti', 'promis', 'much', 'need', 'pension', 'ripstein', 'lyric', 'work', 'sweet', 'ode', 'like', 'colonel', 'suffer', 'abus', 'cynic', 'harden', 'societi', 'strengthen', 'deni', 'citizen', 'mean', 'live', 'digniti', 'purpos', 'unlik', 'absurd', 'wait', 'godot', 'colonel', 'wait', 'arriv', 'pension', 'give', 'hope', 'signific', 'otherwis', 'miser', 'life', 'two', 'thing', 'film', 'drive', 'colonel', 'master', 'play', 'fernando', 'lujan', 'hope', 'militari', 'pension', 'one', 'day', 'arriv', 'knowledg', 'son', 'agustin', 'die', 'nobl', 'caus', 'reason', 'drunken', 'fraca', 'rig', 'cockfight', 'unabl', 'realiz', 'former', 'forc', 'prove', 'world', 'latter', 'colonel', 'thing', 'set', 'train', 'son', 'fight', 'cock', 'cock', 'warrior', 'bring', 'fortun', 'justic', 'colonel', 'asthmat', 'wife', 'fight', 'ring', 'killer', 'former', 'owner', 'agustin', 'tens', 'scene', 'confront', 'colonel', 'nogal', 'son', 'killer', 'colonel', 'offer', 'nogal', 'paid', 'govern', 'agent', 'money', 'enough', 'equal', 'colonel', 'full', 'pension', 'blood', 'money', 'hush', 'money', 'design', 'hide', 'fact', 'power', 'turn', 'back', 'one', 'fought', 'polit', 'ideal', 'conceal', 'world', 'warrior', 'colonel', 'son', 'assassin', 'wrote', 'underground', 'paper', 'favor', 'right', 'labor', 'union', 'common', 'man', 'maximum', 'digniti', 'colonel', 'reject', 'nogal', 'offer', 'pick', 'fight', 'rooster', 'walk', 'away', 'nobli', 'old', 'leg', 'carri', 'home', 'dona', 'lola', 'scold', 'wife', 'want', 'know', 'colonel', 'refus', 'money', 'starv', 'respons', 'continu', 'question', 'go', 'eat', 'novemb', 'cockfight', 'season', 'begin', 'colonel', 'respond', 'shit', 'excrement', 'poor', 'disenfranchis', 'eat', 'live', 'excrement', 'meal', 'colonel', 'willingli', 'choos', 'eat', 'digniti', 'know', 'could', 'never', 'sell', 'soul', 'oppress', 'colonel', 'wait', 'man', 'honor', 'valor', 'world', 'without', 'principl'] 1\n"
     ]
    }
   ],
   "source": [
    "# Preprocess data\n",
    "train_X, test_X, train_y, test_y = preprocess_data(train_X, test_X, train_y, test_y)\n",
    "\n",
    "print(train_X[10],train_y[10])"
   ]
  },
  {
   "cell_type": "markdown",
   "metadata": {},
   "source": [
    "## Transform the data\n",
    "\n",
    "In the XGBoost notebook we transformed the data from its word representation to a bag-of-words feature representation. For the model we are going to construct in this notebook we will construct a feature representation which is very similar. To start, we will represent each word as an integer. Of course, some of the words that appear in the reviews occur very infrequently and so likely don't contain much information for the purposes of sentiment analysis. The way we will deal with this problem is that we will fix the size of our working vocabulary and we will only include the words that appear most frequently. We will then combine all of the infrequent words into a single category and, in our case, we will label it as `1`.\n",
    "\n",
    "Since we will be using a recurrent neural network, it will be convenient if the length of each review is the same. To do this, we will fix a size for our reviews and then pad short reviews with the category 'no word' (which we will label `0`) and truncate long reviews."
   ]
  },
  {
   "cell_type": "markdown",
   "metadata": {},
   "source": [
    "### (TODO) Create a word dictionary\n",
    "\n",
    "To begin with, we need to construct a way to map words that appear in the reviews to integers. Here we fix the size of our vocabulary (including the 'no word' and 'infrequent' categories) to be `5000` but you may wish to change this to see how it affects the model.\n",
    "\n",
    "> **TODO:** Complete the implementation for the `build_dict()` method below. Note that even though the vocab_size is set to `5000`, we only want to construct a mapping for the most frequently appearing `4998` words. This is because we want to reserve the special labels `0` for 'no word' and `1` for 'infrequent word'."
   ]
  },
  {
   "cell_type": "code",
   "execution_count": 11,
   "metadata": {
    "scrolled": true
   },
   "outputs": [],
   "source": [
    "import numpy as np\n",
    "import operator\n",
    "\n",
    "from collections import Counter\n",
    "\n",
    "\n",
    "def build_dict(data, vocab_size = 5000):\n",
    "    \"\"\"Construct and return a dictionary mapping each of the most frequently appearing words to a unique integer.\"\"\"\n",
    "    \n",
    "    # TODO: Determine how often each word appears in `data`. Note that `data` is a list of sentences and that a\n",
    "    #       sentence is a list of words.\n",
    "    \n",
    "    \n",
    "    word_count = Counter(np.concatenate(data, axis=0)) # A dict storing the words that appear in the reviews along with how often they occur\n",
    "    \n",
    "            \n",
    "    # TODO: Sort the words found in `data` so that sorted_words[0] is the most frequently appearing word and\n",
    "    #       sorted_words[-1] is the least frequently appearing word.\n",
    "    \n",
    "    sorted_words = sorted(word_count.items(), key=operator.itemgetter(1), reverse = True)    \n",
    "    print(sorted_words[:5])\n",
    "    \n",
    "    word_dict = {} # This is what we are building, a dictionary that translates words into integers\n",
    "    for idx, word in enumerate(sorted_words[:vocab_size - 2]): # The -2 is so that we save room for the 'no word'\n",
    "        word_dict[word] = idx + 2                              # 'infrequent' labels\n",
    "        \n",
    "    return word_dict"
   ]
  },
  {
   "cell_type": "code",
   "execution_count": 12,
   "metadata": {},
   "outputs": [
    {
     "name": "stdout",
     "output_type": "stream",
     "text": [
      "[('movi', 51695), ('film', 48190), ('one', 27741), ('like', 22799), ('time', 16191)]\n"
     ]
    }
   ],
   "source": [
    "word_dict = build_dict(train_X)"
   ]
  },
  {
   "cell_type": "markdown",
   "metadata": {},
   "source": [
    "**Question:** What are the five most frequently appearing (tokenized) words in the training set? Does it makes sense that these words appear frequently in the training set?"
   ]
  },
  {
   "cell_type": "markdown",
   "metadata": {},
   "source": [
    "**Answer:** The 5 most frequently appearing tokenized words are: 'movi','film','one','like','time'\n",
    "These words are very commonly used for description. A majority of them are adjectives so it makes sense that they would be the most frequently appearing words in movie review data."
   ]
  },
  {
   "cell_type": "code",
   "execution_count": 13,
   "metadata": {},
   "outputs": [
    {
     "name": "stdout",
     "output_type": "stream",
     "text": [
      "{('movi', 51695): 2, ('film', 48190): 3, ('one', 27741): 4, ('like', 22799): 5, ('time', 16191): 6, ('good', 15360): 7, ('make', 15207): 8, ('charact', 14178): 9, ('get', 14141): 10, ('see', 14111): 11, ('watch', 13940): 12, ('stori', 13168): 13, ('even', 12906): 14, ('would', 12436): 15, ('realli', 11736): 16, ('well', 11042): 17, ('scene', 10586): 18, ('look', 10051): 19, ('show', 9878): 20, ('much', 9765): 21, ('end', 9651): 22, ('peopl', 9391): 23, ('bad', 9344): 24, ('go', 9305): 25, ('great', 9171): 26, ('also', 9156): 27, ('first', 9062): 28, ('love', 9027): 29, ('think', 8913): 30, ('way', 8830): 31, ('act', 8794): 32, ('play', 8730): 33, ('made', 8362): 34, ('thing', 8213): 35, ('could', 7921): 36, ('know', 7514): 37, ('say', 7457): 38, ('seem', 7220): 39, ('work', 7101): 40, ('plot', 6967): 41, ('two', 6908): 42, ('actor', 6876): 43, ('year', 6874): 44, ('come', 6747): 45, ('mani', 6688): 46, ('seen', 6681): 47, ('take', 6654): 48, ('life', 6640): 49, ('want', 6640): 50, ('never', 6484): 51, ('littl', 6435): 52, ('best', 6424): 53, ('tri', 6357): 54, ('man', 6036): 55, ('ever', 5999): 56, ('give', 5792): 57, ('better', 5749): 58, ('still', 5664): 59, ('perform', 5528): 60, ('find', 5449): 61, ('feel', 5300): 62, ('part', 5247): 63, ('back', 5133): 64, ('use', 5123): 65, ('someth', 5122): 66, ('director', 5120): 67, ('actual', 5065): 68, ('interest', 4893): 69, ('lot', 4778): 70, ('real', 4741): 71, ('old', 4583): 72, ('cast', 4573): 73, ('though', 4566): 74, ('live', 4477): 75, ('star', 4447): 76, ('enjoy', 4353): 77, ('guy', 4339): 78, ('anoth', 4325): 79, ('new', 4315): 80, ('role', 4300): 81, ('noth', 4296): 82, ('10', 4289): 83, ('funni', 4288): 84, ('music', 4247): 85, ('point', 4238): 86, ('start', 4166): 87, ('set', 4116): 88, ('girl', 4064): 89, ('origin', 4044): 90, ('day', 4013): 91, ('world', 3979): 92, ('everi', 3977): 93, ('believ', 3917): 94, ('turn', 3880): 95, ('quit', 3841): 96, ('direct', 3794): 97, ('us', 3794): 98, ('thought', 3773): 99, ('fact', 3749): 100, ('minut', 3739): 101, ('horror', 3717): 102, ('kill', 3701): 103, ('action', 3694): 104, ('comedi', 3686): 105, ('pretti', 3665): 106, ('young', 3664): 107, ('wonder', 3639): 108, ('happen', 3624): 109, ('around', 3616): 110, ('got', 3583): 111, ('effect', 3581): 112, ('right', 3554): 113, ('long', 3540): 114, ('howev', 3537): 115, ('big', 3477): 116, ('line', 3458): 117, ('famili', 3454): 118, ('enough', 3452): 119, ('seri', 3420): 120, ('may', 3392): 121, ('need', 3378): 122, ('fan', 3370): 123, ('bit', 3348): 124, ('script', 3342): 125, ('beauti', 3292): 126, ('person', 3274): 127, ('becom', 3272): 128, ('without', 3268): 129, ('must', 3250): 130, ('alway', 3243): 131, ('friend', 3230): 132, ('tell', 3215): 133, ('reason', 3206): 134, ('saw', 3178): 135, ('last', 3158): 136, ('final', 3153): 137, ('kid', 3148): 138, ('almost', 3139): 139, ('put', 3132): 140, ('least', 3112): 141, ('sure', 3100): 142, ('done', 3096): 143, ('whole', 3080): 144, ('place', 3048): 145, ('complet', 3035): 146, ('kind', 3008): 147, ('differ', 3007): 148, ('expect', 3007): 149, ('shot', 2998): 150, ('far', 2978): 151, ('mean', 2961): 152, ('anyth', 2949): 153, ('book', 2935): 154, ('laugh', 2926): 155, ('might', 2919): 156, ('name', 2917): 157, ('sinc', 2906): 158, ('begin', 2905): 159, ('2', 2882): 160, ('probabl', 2874): 161, ('woman', 2838): 162, ('help', 2828): 163, ('entertain', 2827): 164, ('let', 2821): 165, ('screen', 2799): 166, ('call', 2792): 167, ('tv', 2786): 168, ('moment', 2784): 169, ('away', 2782): 170, ('read', 2762): 171, ('yet', 2753): 172, ('rather', 2733): 173, ('worst', 2731): 174, ('run', 2723): 175, ('fun', 2694): 176, ('lead', 2684): 177, ('hard', 2681): 178, ('audienc', 2675): 179, ('idea', 2638): 180, ('anyon', 2632): 181, ('episod', 2629): 182, ('american', 2618): 183, ('found', 2608): 184, ('appear', 2567): 185, ('bore', 2549): 186, ('especi', 2539): 187, ('although', 2537): 188, ('hope', 2529): 189, ('cours', 2520): 190, ('keep', 2520): 191, ('anim', 2483): 192, ('job', 2461): 193, ('goe', 2441): 194, ('move', 2434): 195, ('sens', 2416): 196, ('dvd', 2410): 197, ('version', 2410): 198, ('war', 2394): 199, ('money', 2370): 200, ('someon', 2363): 201, ('mind', 2354): 202, ('mayb', 2340): 203, ('problem', 2337): 204, ('true', 2333): 205, ('hous', 2328): 206, ('everyth', 2323): 207, ('nice', 2312): 208, ('second', 2309): 209, ('rate', 2300): 210, ('three', 2297): 211, ('night', 2293): 212, ('follow', 2292): 213, ('face', 2292): 214, ('recommend', 2290): 215, ('main', 2283): 216, ('product', 2283): 217, ('worth', 2280): 218, ('leav', 2272): 219, ('human', 2262): 220, ('special', 2258): 221, ('excel', 2251): 222, ('togeth', 2247): 223, ('wast', 2229): 224, ('everyon', 2228): 225, ('sound', 2228): 226, ('john', 2222): 227, ('hand', 2221): 228, ('1', 2213): 229, ('father', 2206): 230, ('later', 2202): 231, ('eye', 2200): 232, ('said', 2196): 233, ('view', 2193): 234, ('instead', 2190): 235, ('review', 2184): 236, ('boy', 2178): 237, ('high', 2174): 238, ('hour', 2164): 239, ('miss', 2160): 240, ('talk', 2159): 241, ('classic', 2159): 242, ('wife', 2140): 243, ('understand', 2132): 244, ('left', 2125): 245, ('care', 2124): 246, ('black', 2123): 247, ('death', 2113): 248, ('open', 2103): 249, ('murder', 2102): 250, ('write', 2096): 251, ('half', 2094): 252, ('head', 2075): 253, ('rememb', 2070): 254, ('chang', 2062): 255, ('viewer', 2047): 256, ('fight', 2040): 257, ('gener', 2022): 258, ('surpris', 2021): 259, ('short', 2020): 260, ('includ', 2020): 261, ('die', 2012): 262, ('fall', 2004): 263, ('less', 2003): 264, ('els', 2002): 265, ('entir', 1993): 266, ('piec', 1981): 267, ('involv', 1980): 268, ('pictur', 1968): 269, ('simpli', 1965): 270, ('top', 1957): 271, ('home', 1957): 272, ('power', 1957): 273, ('total', 1948): 274, ('usual', 1946): 275, ('budget', 1933): 276, ('attempt', 1932): 277, ('suppos', 1924): 278, ('releas', 1921): 279, ('hollywood', 1920): 280, ('terribl', 1917): 281, ('song', 1916): 282, ('men', 1915): 283, ('possibl', 1913): 284, ('featur', 1903): 285, ('portray', 1902): 286, ('disappoint', 1900): 287, ('poor', 1899): 288, ('3', 1899): 289, ('coupl', 1894): 290, ('camera', 1888): 291, ('stupid', 1888): 292, ('dead', 1883): 293, ('wrong', 1872): 294, ('produc', 1870): 295, ('low', 1870): 296, ('either', 1866): 297, ('video', 1866): 298, ('aw', 1861): 299, ('definit', 1856): 300, ('except', 1854): 301, ('rest', 1852): 302, ('given', 1849): 303, ('absolut', 1845): 304, ('women', 1827): 305, ('lack', 1821): 306, ('word', 1817): 307, ('writer', 1814): 308, ('titl', 1793): 309, ('talent', 1787): 310, ('decid', 1786): 311, ('full', 1783): 312, ('perfect', 1778): 313, ('along', 1777): 314, ('style', 1760): 315, ('close', 1744): 316, ('truli', 1743): 317, ('school', 1732): 318, ('save', 1731): 319, ('emot', 1731): 320, ('age', 1726): 321, ('sex', 1726): 322, ('next', 1716): 323, ('bring', 1715): 324, ('mr', 1708): 325, ('case', 1706): 326, ('killer', 1700): 327, ('heart', 1688): 328, ('comment', 1687): 329, ('sort', 1684): 330, ('creat', 1683): 331, ('perhap', 1681): 332, ('came', 1673): 333, ('brother', 1664): 334, ('sever', 1663): 335, ('joke', 1656): 336, ('art', 1653): 337, ('dialogu', 1652): 338, ('game', 1651): 339, ('small', 1648): 340, ('base', 1645): 341, ('flick', 1629): 342, ('written', 1616): 343, ('sequenc', 1609): 344, ('meet', 1608): 345, ('earli', 1605): 346, ('often', 1601): 347, ('other', 1598): 348, ('mother', 1597): 349, ('develop', 1595): 350, ('humor', 1592): 351, ('actress', 1588): 352, ('consid', 1585): 353, ('dark', 1573): 354, ('guess', 1565): 355, ('amaz', 1563): 356, ('unfortun', 1562): 357, ('lost', 1555): 358, ('light', 1555): 359, ('exampl', 1554): 360, ('cinema', 1553): 361, ('drama', 1552): 362, ('ye', 1551): 363, ('white', 1551): 364, ('experi', 1548): 365, ('imagin', 1547): 366, ('mention', 1545): 367, ('stop', 1543): 368, ('natur', 1541): 369, ('forc', 1534): 370, ('manag', 1529): 371, ('felt', 1528): 372, ('cut', 1520): 373, ('present', 1520): 374, ('children', 1515): 375, ('fail', 1511): 376, ('son', 1506): 377, ('qualiti', 1505): 378, ('support', 1505): 379, ('car', 1505): 380, ('ask', 1500): 381, ('hit', 1497): 382, ('side', 1490): 383, ('voic', 1482): 384, ('extrem', 1473): 385, ('impress', 1472): 386, ('evil', 1468): 387, ('wors', 1468): 388, ('stand', 1463): 389, ('went', 1463): 390, ('certainli', 1462): 391, ('basic', 1453): 392, ('oh', 1450): 393, ('overal', 1434): 394, ('favorit', 1421): 395, ('horribl', 1418): 396, ('mysteri', 1416): 397, ('number', 1413): 398, ('type', 1408): 399, ('danc', 1405): 400, ('wait', 1400): 401, ('hero', 1389): 402, ('5', 1381): 403, ('alreadi', 1381): 404, ('learn', 1375): 405, ('matter', 1373): 406, ('4', 1372): 407, ('michael', 1370): 408, ('genr', 1367): 409, ('fine', 1366): 410, ('despit', 1364): 411, ('throughout', 1360): 412, ('walk', 1358): 413, ('success', 1344): 414, ('histori', 1338): 415, ('question', 1333): 416, ('zombi', 1331): 417, ('town', 1328): 418, ('relationship', 1327): 419, ('realiz', 1327): 420, ('child', 1324): 421, ('past', 1324): 422, ('daughter', 1312): 423, ('late', 1309): 424, ('b', 1306): 425, ('wish', 1303): 426, ('credit', 1295): 427, ('hate', 1295): 428, ('event', 1293): 429, ('theme', 1292): 430, ('touch', 1284): 431, ('citi', 1283): 432, ('today', 1282): 433, ('sometim', 1281): 434, ('behind', 1280): 435, ('god', 1271): 436, ('twist', 1268): 437, ('sit', 1263): 438, ('deal', 1260): 439, ('annoy', 1260): 440, ('stay', 1260): 441, ('abl', 1259): 442, ('rent', 1256): 443, ('pleas', 1253): 444, ('edit', 1250): 445, ('blood', 1245): 446, ('deserv', 1236): 447, ('anyway', 1230): 448, ('comic', 1230): 449, ('appar', 1226): 450, ('soon', 1222): 451, ('gave', 1216): 452, ('etc', 1212): 453, ('level', 1210): 454, ('slow', 1207): 455, ('chanc', 1204): 456, ('score', 1203): 457, ('bodi', 1199): 458, ('brilliant', 1196): 459, ('incred', 1194): 460, ('figur', 1190): 461, ('situat', 1188): 462, ('major', 1185): 463, ('self', 1185): 464, ('stuff', 1181): 465, ('decent', 1178): 466, ('element', 1176): 467, ('return', 1174): 468, ('dream', 1174): 469, ('obvious', 1168): 470, ('continu', 1159): 471, ('order', 1159): 472, ('pace', 1156): 473, ('ridicul', 1154): 474, ('happi', 1151): 475, ('add', 1147): 476, ('group', 1147): 477, ('highli', 1147): 478, ('thank', 1146): 479, ('ladi', 1145): 480, ('novel', 1130): 481, ('speak', 1129): 482, ('pain', 1129): 483, ('career', 1116): 484, ('shoot', 1115): 485, ('strang', 1114): 486, ('heard', 1111): 487, ('sad', 1108): 488, ('husband', 1105): 489, ('polic', 1105): 490, ('import', 1103): 491, ('break', 1101): 492, ('took', 1100): 493, ('cannot', 1096): 494, ('strong', 1096): 495, ('predict', 1095): 496, ('robert', 1095): 497, ('violenc', 1091): 498, ('hilari', 1090): 499, ('recent', 1089): 500, ('countri', 1086): 501, ('known', 1081): 502, ('particularli', 1079): 503, ('pick', 1078): 504, ('documentari', 1074): 505, ('season', 1072): 506, ('critic', 1071): 507, ('jame', 1069): 508, ('compar', 1068): 509, ('obviou', 1066): 510, ('alon', 1066): 511, ('told', 1063): 512, ('state', 1060): 513, ('visual', 1058): 514, ('rock', 1058): 515, ('theater', 1057): 516, ('offer', 1057): 517, ('exist', 1057): 518, ('opinion', 1056): 519, ('gore', 1055): 520, ('hold', 1054): 521, ('crap', 1054): 522, ('result', 1052): 523, ('hear', 1050): 524, ('room', 1050): 525, ('realiti', 1050): 526, ('clich', 1047): 527, ('effort', 1047): 528, ('thriller', 1046): 529, ('caus', 1044): 530, ('explain', 1042): 531, ('serious', 1042): 532, ('sequel', 1042): 533, ('king', 1036): 534, ('local', 1035): 535, ('ago', 1033): 536, ('none', 1032): 537, ('hell', 1032): 538, ('note', 1027): 539, ('allow', 1026): 540, ('sister', 1025): 541, ('david', 1025): 542, ('simpl', 1023): 543, ('femal', 1022): 544, ('deliv', 1021): 545, ('ok', 1017): 546, ('convinc', 1012): 547, ('class', 1012): 548, ('check', 1011): 549, ('suspens', 1009): 550, ('win', 1008): 551, ('oscar', 1007): 552, ('buy', 1007): 553, ('huge', 1006): 554, ('valu', 1004): 555, ('sexual', 1000): 556, ('scari', 998): 557, ('cool', 998): 558, ('excit', 996): 559, ('similar', 996): 560, ('apart', 995): 561, ('exactli', 995): 562, ('provid', 995): 563, ('shown', 994): 564, ('avoid', 994): 565, ('seriou', 989): 566, ('english', 987): 567, ('taken', 986): 568, ('whose', 986): 569, ('cinematographi', 983): 570, ('shock', 979): 571, ('polit', 978): 572, ('spoiler', 976): 573, ('offic', 975): 574, ('across', 971): 575, ('middl', 969): 576, ('pass', 968): 577, ('street', 968): 578, ('messag', 966): 579, ('silli', 965): 580, ('somewhat', 965): 581, ('charm', 965): 582, ('modern', 964): 583, ('filmmak', 959): 584, ('confus', 959): 585, ('form', 957): 586, ('tale', 956): 587, ('singl', 950): 588, ('jack', 945): 589, ('mostli', 941): 590, ('carri', 940): 591, ('attent', 940): 592, ('william', 940): 593, ('sing', 939): 594, ('five', 938): 595, ('subject', 938): 596, ('prove', 937): 597, ('richard', 937): 598, ('stage', 935): 599, ('team', 935): 600, ('unlik', 934): 601, ('cop', 934): 602, ('georg', 933): 603, ('monster', 932): 604, ('televis', 932): 605, ('earth', 929): 606, ('villain', 927): 607, ('cover', 927): 608, ('pay', 924): 609, ('marri', 923): 610, ('toward', 922): 611, ('build', 921): 612, ('pull', 920): 613, ('parent', 920): 614, ('due', 918): 615, ('respect', 917): 616, ('fill', 917): 617, ('dialog', 915): 618, ('four', 915): 619, ('remind', 913): 620, ('futur', 912): 621, ('weak', 908): 622, ('typic', 908): 623, ('7', 904): 624, ('cheap', 903): 625, ('intellig', 902): 626, ('atmospher', 901): 627, ('british', 901): 628, ('80', 899): 629, ('clearli', 899): 630, ('paul', 898): 631, ('non', 898): 632, ('dog', 898): 633, ('8', 897): 634, ('knew', 897): 635, ('artist', 897): 636, ('fast', 897): 637, ('crime', 896): 638, ('easili', 892): 639, ('escap', 889): 640, ('doubt', 887): 641, ('adult', 887): 642, ('detail', 884): 643, ('date', 883): 644, ('romant', 879): 645, ('member', 879): 646, ('fire', 879): 647, ('drive', 872): 648, ('gun', 872): 649, ('straight', 869): 650, ('beyond', 866): 651, ('fit', 866): 652, ('attack', 864): 653, ('imag', 860): 654, ('upon', 859): 655, ('posit', 858): 656, ('whether', 856): 657, ('peter', 855): 658, ('fantast', 855): 659, ('aspect', 852): 660, ('captur', 852): 661, ('appreci', 852): 662, ('ten', 851): 663, ('plan', 850): 664, ('discov', 849): 665, ('remain', 846): 666, ('near', 843): 667, ('period', 843): 668, ('realist', 842): 669, ('air', 842): 670, ('mark', 838): 671, ('red', 837): 672, ('dull', 836): 673, ('adapt', 835): 674, ('within', 832): 675, ('spend', 828): 676, ('lose', 828): 677, ('materi', 827): 678, ('color', 827): 679, ('chase', 824): 680, ('mari', 823): 681, ('storylin', 822): 682, ('forget', 821): 683, ('bunch', 819): 684, ('clear', 818): 685, ('lee', 817): 686, ('victim', 816): 687, ('nearli', 815): 688, ('box', 813): 689, ('york', 812): 690, ('match', 811): 691, ('inspir', 811): 692, ('mess', 809): 693, ('finish', 809): 694, ('standard', 808): 695, ('easi', 806): 696, ('truth', 805): 697, ('suffer', 802): 698, ('busi', 802): 699, ('dramat', 799): 700, ('space', 799): 701, ('bill', 799): 702, ('western', 798): 703, ('e', 797): 704, ('list', 796): 705, ('battl', 795): 706, ('notic', 793): 707, ('de', 792): 708, ('french', 790): 709, ('ad', 788): 710, ('9', 787): 711, ('tom', 785): 712, ('larg', 784): 713, ('among', 783): 714, ('eventu', 782): 715, ('train', 781): 716, ('accept', 781): 717, ('agre', 779): 718, ('spirit', 778): 719, ('soundtrack', 778): 720, ('third', 776): 721, ('teenag', 775): 722, ('adventur', 773): 723, ('soldier', 773): 724, ('suggest', 771): 725, ('sorri', 771): 726, ('famou', 771): 727, ('drug', 771): 728, ('normal', 770): 729, ('cri', 770): 730, ('babi', 770): 731, ('troubl', 769): 732, ('ultim', 769): 733, ('contain', 765): 734, ('certain', 764): 735, ('cultur', 762): 736, ('romanc', 760): 737, ('rare', 759): 738, ('lame', 758): 739, ('somehow', 757): 740, ('mix', 755): 741, ('disney', 755): 742, ('gone', 754): 743, ('cartoon', 753): 744, ('student', 752): 745, ('fear', 751): 746, ('reveal', 751): 747, ('kept', 750): 748, ('suck', 750): 749, ('attract', 749): 750, ('appeal', 748): 751, ('premis', 747): 752, ('design', 745): 753, ('greatest', 745): 754, ('secret', 745): 755, ('shame', 743): 756, ('throw', 742): 757, ('copi', 741): 758, ('scare', 741): 759, ('wit', 739): 760, ('admit', 738): 761, ('america', 738): 762, ('relat', 737): 763, ('brought', 737): 764, ('particular', 737): 765, ('screenplay', 735): 766, ('whatev', 734): 767, ('pure', 733): 768, ('70', 732): 769, ('averag', 730): 770, ('harri', 730): 771, ('master', 729): 772, ('describ', 728): 773, ('treat', 727): 774, ('male', 727): 775, ('20', 726): 776, ('issu', 725): 777, ('fantasi', 725): 778, ('warn', 724): 779, ('inde', 722): 780, ('forward', 719): 781, ('background', 719): 782, ('project', 717): 783, ('free', 717): 784, ('memor', 714): 785, ('japanes', 714): 786, ('poorli', 713): 787, ('award', 712): 788, ('locat', 711): 789, ('amus', 710): 790, ('potenti', 710): 791, ('struggl', 709): 792, ('magic', 708): 793, ('weird', 708): 794, ('societi', 707): 795, ('okay', 706): 796, ('doctor', 704): 797, ('imdb', 704): 798, ('accent', 704): 799, ('water', 703): 800, ('hot', 703): 801, ('express', 702): 802, ('alien', 702): 803, ('30', 702): 804, ('dr', 702): 805, ('odd', 701): 806, ('choic', 699): 807, ('crazi', 699): 808, ('fiction', 698): 809, ('studio', 698): 810, ('control', 697): 811, ('becam', 697): 812, ('masterpiec', 696): 813, ('difficult', 695): 814, ('fli', 695): 815, ('joe', 692): 816, ('scream', 690): 817, ('costum', 689): 818, ('lover', 688): 819, ('uniqu', 687): 820, ('refer', 687): 821, ('remak', 686): 822, ('girlfriend', 684): 823, ('vampir', 684): 824, ('prison', 682): 825, ('execut', 680): 826, ('wear', 678): 827, ('jump', 677): 828, ('wood', 675): 829, ('unless', 675): 830, ('creepi', 673): 831, ('cheesi', 672): 832, ('superb', 671): 833, ('otherwis', 670): 834, ('parti', 668): 835, ('ghost', 666): 836, ('roll', 666): 837, ('mad', 664): 838, ('public', 664): 839, ('depict', 663): 840, ('badli', 662): 841, ('week', 662): 842, ('earlier', 662): 843, ('moral', 662): 844, ('jane', 662): 845, ('dumb', 660): 846, ('fi', 660): 847, ('grow', 659): 848, ('flaw', 659): 849, ('deep', 658): 850, ('sci', 658): 851, ('maker', 657): 852, ('cat', 657): 853, ('connect', 656): 854, ('older', 656): 855, ('footag', 656): 856, ('bother', 655): 857, ('plenti', 655): 858, ('outsid', 653): 859, ('stick', 650): 860, ('gay', 649): 861, ('catch', 647): 862, ('co', 645): 863, ('plu', 645): 864, ('popular', 643): 865, ('equal', 642): 866, ('social', 641): 867, ('quickli', 639): 868, ('disturb', 639): 869, ('perfectli', 637): 870, ('dress', 636): 871, ('era', 635): 872, ('90', 635): 873, ('mistak', 634): 874, ('lie', 632): 875, ('ride', 630): 876, ('previou', 630): 877, ('combin', 629): 878, ('concept', 627): 879, ('band', 627): 880, ('rich', 626): 881, ('surviv', 626): 882, ('answer', 626): 883, ('front', 624): 884, ('sweet', 623): 885, ('christma', 623): 886, ('insid', 622): 887, ('eat', 621): 888, ('concern', 621): 889, ('bare', 621): 890, ('listen', 619): 891, ('beat', 619): 892, ('ben', 619): 893, ('c', 617): 894, ('serv', 615): 895, ('term', 615): 896, ('meant', 614): 897, ('german', 614): 898, ('la', 614): 899, ('hardli', 613): 900, ('stereotyp', 613): 901, ('innoc', 609): 902, ('law', 609): 903, ('desper', 608): 904, ('promis', 607): 905, ('memori', 607): 906, ('cute', 604): 907, ('intent', 604): 908, ('variou', 603): 909, ('inform', 603): 910, ('steal', 603): 911, ('brain', 601): 912, ('post', 600): 913, ('tone', 599): 914, ('island', 598): 915, ('amount', 597): 916, ('track', 596): 917, ('compani', 596): 918, ('nuditi', 596): 919, ('store', 595): 920, ('claim', 595): 921, ('50', 594): 922, ('flat', 594): 923, ('hair', 594): 924, ('land', 592): 925, ('univers', 592): 926, ('fairli', 587): 927, ('danger', 587): 928, ('kick', 587): 929, ('scott', 587): 930, ('player', 586): 931, ('crew', 584): 932, ('step', 584): 933, ('plain', 584): 934, ('toni', 582): 935, ('share', 581): 936, ('tast', 580): 937, ('centuri', 580): 938, ('engag', 578): 939, ('achiev', 578): 940, ('cold', 577): 941, ('travel', 577): 942, ('rip', 576): 943, ('record', 576): 944, ('suit', 576): 945, ('manner', 575): 946, ('sadli', 575): 947, ('wrote', 574): 948, ('spot', 574): 949, ('tension', 574): 950, ('intens', 573): 951, ('fascin', 573): 952, ('familiar', 572): 953, ('depth', 570): 954, ('burn', 570): 955, ('remark', 570): 956, ('histor', 569): 957, ('destroy', 569): 958, ('sleep', 568): 959, ('purpos', 567): 960, ('languag', 566): 961, ('ignor', 565): 962, ('ruin', 565): 963, ('delight', 564): 964, ('unbeliev', 563): 965, ('italian', 563): 966, ('abil', 562): 967, ('soul', 562): 968, ('collect', 562): 969, ('clever', 561): 970, ('detect', 561): 971, ('violent', 560): 972, ('rape', 559): 973, ('reach', 558): 974, ('door', 557): 975, ('scienc', 556): 976, ('liter', 556): 977, ('trash', 556): 978, ('reveng', 555): 979, ('caught', 555): 980, ('commun', 555): 981, ('creatur', 554): 982, ('trip', 552): 983, ('approach', 552): 984, ('fashion', 550): 985, ('intrigu', 550): 986, ('introduc', 549): 987, ('paint', 549): 988, ('skill', 549): 989, ('channel', 548): 990, ('complex', 548): 991, ('camp', 546): 992, ('christian', 544): 993, ('hole', 543): 994, ('extra', 543): 995, ('mental', 542): 996, ('immedi', 542): 997, ('limit', 542): 998, ('ann', 542): 999, ('million', 541): 1000, ('6', 541): 1001, ('comput', 541): 1002, ('slightli', 541): 1003, ('mere', 541): 1004, ('conclus', 539): 1005, ('slasher', 539): 1006, ('imposs', 538): 1007, ('suddenli', 538): 1008, ('teen', 537): 1009, ('neither', 537): 1010, ('crimin', 537): 1011, ('spent', 536): 1012, ('nation', 536): 1013, ('physic', 536): 1014, ('respons', 535): 1015, ('planet', 534): 1016, ('fake', 532): 1017, ('receiv', 532): 1018, ('blue', 531): 1019, ('sick', 531): 1020, ('bizarr', 529): 1021, ('embarrass', 528): 1022, ('indian', 527): 1023, ('15', 525): 1024, ('ring', 525): 1025, ('pop', 524): 1026, ('drop', 524): 1027, ('drag', 523): 1028, ('haunt', 521): 1029, ('suspect', 519): 1030, ('pointless', 519): 1031, ('edg', 517): 1032, ('search', 517): 1033, ('handl', 516): 1034, ('common', 515): 1035, ('biggest', 515): 1036, ('arriv', 514): 1037, ('faith', 514): 1038, ('hurt', 514): 1039, ('technic', 513): 1040, ('angel', 512): 1041, ('dad', 511): 1042, ('genuin', 511): 1043, ('f', 510): 1044, ('awesom', 510): 1045, ('solid', 510): 1046, ('former', 509): 1047, ('focu', 509): 1048, ('colleg', 509): 1049, ('van', 509): 1050, ('count', 507): 1051, ('heavi', 506): 1052, ('tear', 506): 1053, ('rais', 505): 1054, ('wall', 505): 1055, ('laughabl', 504): 1056, ('younger', 504): 1057, ('visit', 504): 1058, ('excus', 503): 1059, ('sign', 503): 1060, ('fair', 503): 1061, ('cult', 502): 1062, ('motion', 501): 1063, ('key', 501): 1064, ('tough', 501): 1065, ('super', 500): 1066, ('desir', 500): 1067, ('addit', 499): 1068, ('stun', 499): 1069, ('cloth', 497): 1070, ('exploit', 497): 1071, ('smith', 496): 1072, ('tortur', 496): 1073, ('davi', 495): 1074, ('race', 495): 1075, ('author', 494): 1076, ('cross', 494): 1077, ('jim', 492): 1078, ('minor', 491): 1079, ('consist', 491): 1080, ('compel', 491): 1081, ('focus', 491): 1082, ('chemistri', 490): 1083, ('commit', 490): 1084, ('pathet', 490): 1085, ('park', 489): 1086, ('frank', 488): 1087, ('tradit', 488): 1088, ('obsess', 488): 1089, ('grade', 487): 1090, ('asid', 486): 1091, ('60', 486): 1092, ('brutal', 485): 1093, ('somewher', 483): 1094, ('steve', 483): 1095, ('depress', 482): 1096, ('explor', 482): 1097, ('u', 482): 1098, ('grant', 482): 1099, ('opportun', 482): 1100, ('rule', 482): 1101, ('besid', 481): 1102, ('honest', 481): 1103, ('dub', 480): 1104, ('anti', 480): 1105, ('intend', 479): 1106, ('trailer', 479): 1107, ('bar', 478): 1108, ('regard', 477): 1109, ('west', 477): 1110, ('scientist', 477): 1111, ('longer', 477): 1112, ('judg', 476): 1113, ('decad', 476): 1114, ('silent', 475): 1115, ('armi', 474): 1116, ('creativ', 474): 1117, ('wild', 473): 1118, ('g', 472): 1119, ('south', 472): 1120, ('stewart', 472): 1121, ('draw', 471): 1122, ('road', 470): 1123, ('govern', 469): 1124, ('boss', 468): 1125, ('ex', 468): 1126, ('practic', 467): 1127, ('gang', 466): 1128, ('festiv', 466): 1129, ('motiv', 466): 1130, ('surprisingli', 466): 1131, ('club', 466): 1132, ('green', 465): 1133, ('page', 465): 1134, ('redeem', 465): 1135, ('london', 465): 1136, ('machin', 464): 1137, ('militari', 464): 1138, ('display', 464): 1139, ('aliv', 464): 1140, ('idiot', 464): 1141, ('thrill', 463): 1142, ('repeat', 463): 1143, ('folk', 462): 1144, ('yeah', 462): 1145, ('nobodi', 462): 1146, ('100', 462): 1147, ('40', 461): 1148, ('garbag', 460): 1149, ('journey', 460): 1150, ('smile', 459): 1151, ('ground', 459): 1152, ('tire', 459): 1153, ('mood', 458): 1154, ('bought', 458): 1155, ('cost', 457): 1156, ('sam', 457): 1157, ('stone', 457): 1158, ('noir', 456): 1159, ('mouth', 456): 1160, ('agent', 455): 1161, ('terrif', 455): 1162, ('utterli', 454): 1163, ('requir', 454): 1164, ('honestli', 453): 1165, ('sexi', 453): 1166, ('area', 453): 1167, ('geniu', 452): 1168, ('report', 452): 1169, ('glad', 451): 1170, ('investig', 451): 1171, ('enter', 451): 1172, ('humour', 451): 1173, ('serial', 450): 1174, ('passion', 449): 1175, ('occasion', 449): 1176, ('narr', 449): 1177, ('marriag', 448): 1178, ('climax', 448): 1179, ('studi', 447): 1180, ('industri', 447): 1181, ('demon', 446): 1182, ('nowher', 446): 1183, ('ship', 446): 1184, ('center', 446): 1185, ('charli', 446): 1186, ('hors', 445): 1187, ('bear', 445): 1188, ('loos', 445): 1189, ('hang', 444): 1190, ('wow', 444): 1191, ('graphic', 442): 1192, ('admir', 440): 1193, ('giant', 440): 1194, ('send', 439): 1195, ('damn', 438): 1196, ('loud', 438): 1197, ('rel', 437): 1198, ('nake', 437): 1199, ('subtl', 437): 1200, ('profession', 437): 1201, ('blow', 436): 1202, ('bottom', 435): 1203, ('insult', 434): 1204, ('batman', 434): 1205, ('doubl', 433): 1206, ('r', 433): 1207, ('boyfriend', 433): 1208, ('kelli', 433): 1209, ('initi', 431): 1210, ('frame', 430): 1211, ('opera', 429): 1212, ('gem', 429): 1213, ('cinemat', 428): 1214, ('drawn', 428): 1215, ('challeng', 428): 1216, ('affect', 428): 1217, ('church', 428): 1218, ('seek', 426): 1219, ('fulli', 426): 1220, ('l', 426): 1221, ('evid', 426): 1222, ('j', 426): 1223, ('nightmar', 426): 1224, ('conflict', 425): 1225, ('essenti', 425): 1226, ('arm', 425): 1227, ('wind', 424): 1228, ('henri', 424): 1229, ('christoph', 424): 1230, ('grace', 424): 1231, ('witch', 423): 1232, ('narrat', 423): 1233, ('assum', 423): 1234, ('push', 422): 1235, ('hunt', 422): 1236, ('wise', 421): 1237, ('chri', 421): 1238, ('repres', 420): 1239, ('month', 420): 1240, ('nomin', 420): 1241, ('hide', 419): 1242, ('avail', 419): 1243, ('sceneri', 419): 1244, ('affair', 419): 1245, ('justic', 418): 1246, ('smart', 418): 1247, ('thu', 418): 1248, ('bond', 418): 1249, ('outstand', 417): 1250, ('flashback', 417): 1251, ('interview', 417): 1252, ('satisfi', 416): 1253, ('presenc', 416): 1254, ('constantli', 416): 1255, ('bed', 415): 1256, ('central', 415): 1257, ('iron', 414): 1258, ('sell', 414): 1259, ('content', 414): 1260, ('gag', 413): 1261, ('everybodi', 413): 1262, ('slowli', 412): 1263, ('hotel', 412): 1264, ('hire', 411): 1265, ('system', 410): 1266, ('hey', 409): 1267, ('thrown', 409): 1268, ('individu', 409): 1269, ('adam', 409): 1270, ('charl', 409): 1271, ('jone', 408): 1272, ('allen', 408): 1273, ('mediocr', 408): 1274, ('lesson', 407): 1275, ('ray', 407): 1276, ('billi', 407): 1277, ('photographi', 406): 1278, ('cameo', 406): 1279, ('fellow', 405): 1280, ('pari', 405): 1281, ('strike', 404): 1282, ('rise', 403): 1283, ('absurd', 403): 1284, ('brief', 403): 1285, ('independ', 403): 1286, ('neg', 402): 1287, ('impact', 401): 1288, ('phone', 401): 1289, ('model', 400): 1290, ('born', 400): 1291, ('ill', 400): 1292, ('angl', 399): 1293, ('fresh', 399): 1294, ('spoil', 399): 1295, ('abus', 398): 1296, ('likabl', 398): 1297, ('discuss', 397): 1298, ('hill', 397): 1299, ('ahead', 396): 1300, ('sight', 396): 1301, ('photograph', 395): 1302, ('sent', 395): 1303, ('blame', 394): 1304, ('shine', 394): 1305, ('logic', 394): 1306, ('occur', 394): 1307, ('mainli', 393): 1308, ('bruce', 393): 1309, ('forev', 392): 1310, ('skip', 392): 1311, ('commerci', 392): 1312, ('held', 391): 1313, ('segment', 391): 1314, ('surround', 391): 1315, ('teacher', 391): 1316, ('blond', 390): 1317, ('zero', 390): 1318, ('summer', 389): 1319, ('trap', 389): 1320, ('satir', 389): 1321, ('resembl', 389): 1322, ('six', 388): 1323, ('ball', 388): 1324, ('queen', 388): 1325, ('fool', 388): 1326, ('twice', 387): 1327, ('sub', 387): 1328, ('tragedi', 387): 1329, ('pack', 386): 1330, ('reaction', 386): 1331, ('bomb', 385): 1332, ('will', 384): 1333, ('hospit', 384): 1334, ('protagonist', 384): 1335, ('mile', 383): 1336, ('sport', 383): 1337, ('drink', 382): 1338, ('vote', 382): 1339, ('jerri', 382): 1340, ('trust', 382): 1341, ('mom', 382): 1342, ('encount', 381): 1343, ('plane', 380): 1344, ('current', 379): 1345, ('al', 379): 1346, ('program', 379): 1347, ('station', 379): 1348, ('choos', 378): 1349, ('martin', 378): 1350, ('celebr', 378): 1351, ('join', 377): 1352, ('favourit', 376): 1353, ('tragic', 376): 1354, ('field', 376): 1355, ('lord', 376): 1356, ('round', 376): 1357, ('vision', 375): 1358, ('robot', 375): 1359, ('jean', 375): 1360, ('tie', 374): 1361, ('arthur', 374): 1362, ('roger', 373): 1363, ('fortun', 373): 1364, ('random', 373): 1365, ('intern', 372): 1366, ('dread', 372): 1367, ('psycholog', 372): 1368, ('nonsens', 371): 1369, ('prefer', 371): 1370, ('improv', 371): 1371, ('epic', 371): 1372, ('formula', 370): 1373, ('highlight', 370): 1374, ('legend', 370): 1375, ('pleasur', 370): 1376, ('11', 369): 1377, ('dollar', 369): 1378, ('tape', 369): 1379, ('object', 368): 1380, ('thin', 368): 1381, ('wide', 368): 1382, ('gorgeou', 368): 1383, ('porn', 368): 1384, ('fox', 368): 1385, ('buddi', 367): 1386, ('influenc', 367): 1387, ('ugli', 367): 1388, ('ii', 366): 1389, ('prepar', 366): 1390, ('nasti', 366): 1391, ('progress', 365): 1392, ('warm', 365): 1393, ('reflect', 365): 1394, ('supposedli', 365): 1395, ('worthi', 364): 1396, ('youth', 364): 1397, ('latter', 362): 1398, ('length', 362): 1399, ('unusu', 362): 1400, ('crash', 361): 1401, ('superior', 360): 1402, ('childhood', 360): 1403, ('seven', 360): 1404, ('shop', 360): 1405, ('theatr', 359): 1406, ('remot', 359): 1407, ('paid', 358): 1408, ('funniest', 358): 1409, ('pilot', 358): 1410, ('disgust', 358): 1411, ('fell', 357): 1412, ('trick', 357): 1413, ('castl', 357): 1414, ('convers', 357): 1415, ('establish', 356): 1416, ('disast', 356): 1417, ('gangster', 356): 1418, ('rob', 356): 1419, ('mine', 355): 1420, ('heaven', 355): 1421, ('disappear', 355): 1422, ('ident', 355): 1423, ('suicid', 355): 1424, ('decis', 353): 1425, ('tend', 353): 1426, ('heroin', 353): 1427, ('forgotten', 353): 1428, ('mask', 353): 1429, ('singer', 353): 1430, ('partner', 352): 1431, ('brian', 352): 1432, ('recogn', 351): 1433, ('alan', 351): 1434, ('desert', 351): 1435, ('stuck', 350): 1436, ('p', 350): 1437, ('thoroughli', 350): 1438, ('ms', 350): 1439, ('sky', 350): 1440, ('accur', 349): 1441, ('replac', 349): 1442, ('market', 348): 1443, ('commentari', 347): 1444, ('uncl', 347): 1445, ('danni', 347): 1446, ('andi', 347): 1447, ('clue', 347): 1448, ('seemingli', 347): 1449, ('eddi', 347): 1450, ('jackson', 346): 1451, ('devil', 346): 1452, ('refus', 345): 1453, ('that', 345): 1454, ('therefor', 345): 1455, ('pair', 345): 1456, ('accid', 344): 1457, ('ed', 344): 1458, ('fate', 344): 1459, ('fault', 344): 1460, ('unit', 344): 1461, ('river', 344): 1462, ('tune', 343): 1463, ('afraid', 343): 1464, ('clean', 342): 1465, ('russian', 342): 1466, ('hidden', 342): 1467, ('stephen', 342): 1468, ('irrit', 341): 1469, ('instanc', 341): 1470, ('captain', 341): 1471, ('convey', 341): 1472, ('readi', 341): 1473, ('test', 341): 1474, ('quick', 341): 1475, ('european', 340): 1476, ('frustrat', 339): 1477, ('daniel', 339): 1478, ('insan', 339): 1479, ('food', 338): 1480, ('chines', 338): 1481, ('wed', 338): 1482, ('1950', 338): 1483, ('rescu', 338): 1484, ('lock', 337): 1485, ('angri', 337): 1486, ('dirti', 337): 1487, ('joy', 336): 1488, ('price', 335): 1489, ('steven', 335): 1490, ('bland', 334): 1491, ('cage', 334): 1492, ('rang', 333): 1493, ('anymor', 333): 1494, ('wooden', 332): 1495, ('n', 331): 1496, ('rush', 331): 1497, ('news', 331): 1498, ('jason', 331): 1499, ('worri', 330): 1500, ('twenti', 330): 1501, ('led', 330): 1502, ('martial', 330): 1503, ('12', 330): 1504, ('board', 330): 1505, ('cgi', 329): 1506, ('symbol', 329): 1507, ('hunter', 329): 1508, ('transform', 329): 1509, ('x', 328): 1510, ('onto', 328): 1511, ('invent', 328): 1512, ('johnni', 328): 1513, ('sentiment', 328): 1514, ('piti', 328): 1515, ('explan', 327): 1516, ('attitud', 327): 1517, ('process', 327): 1518, ('owner', 326): 1519, ('awar', 326): 1520, ('aim', 325): 1521, ('favor', 324): 1522, ('necessari', 324): 1523, ('energi', 324): 1524, ('floor', 324): 1525, ('target', 324): 1526, ('religi', 323): 1527, ('opposit', 323): 1528, ('chick', 322): 1529, ('window', 322): 1530, ('insight', 322): 1531, ('blind', 322): 1532, ('movement', 321): 1533, ('comparison', 320): 1534, ('mountain', 320): 1535, ('research', 320): 1536, ('possess', 320): 1537, ('deepli', 320): 1538, ('whatsoev', 319): 1539, ('rain', 319): 1540, ('grand', 319): 1541, ('comed', 319): 1542, ('shadow', 318): 1543, ('began', 318): 1544, ('bank', 318): 1545, ('mid', 318): 1546, ('parodi', 317): 1547, ('princ', 317): 1548, ('credibl', 316): 1549, ('weapon', 316): 1550, ('taylor', 316): 1551, ('friendship', 316): 1552, ('pre', 316): 1553, ('dougla', 315): 1554, ('teach', 315): 1555, ('flesh', 315): 1556, ('protect', 314): 1557, ('hint', 314): 1558, ('bloodi', 314): 1559, ('terror', 314): 1560, ('marvel', 312): 1561, ('accord', 311): 1562, ('superman', 311): 1563, ('drunk', 311): 1564, ('leader', 311): 1565, ('anybodi', 311): 1566, ('watchabl', 311): 1567, ('load', 311): 1568, ('brown', 310): 1569, ('freddi', 310): 1570, ('appropri', 309): 1571, ('jeff', 309): 1572, ('seat', 309): 1573, ('tim', 309): 1574, ('hitler', 309): 1575, ('unknown', 308): 1576, ('charg', 308): 1577, ('knock', 308): 1578, ('keaton', 308): 1579, ('villag', 308): 1580, ('unnecessari', 307): 1581, ('england', 307): 1582, ('media', 307): 1583, ('empti', 307): 1584, ('enemi', 307): 1585, ('craft', 306): 1586, ('utter', 306): 1587, ('strength', 306): 1588, ('dare', 306): 1589, ('buck', 306): 1590, ('wave', 306): 1591, ('perspect', 306): 1592, ('nativ', 305): 1593, ('correct', 305): 1594, ('kiss', 305): 1595, ('ford', 305): 1596, ('contrast', 305): 1597, ('speed', 304): 1598, ('knowledg', 304): 1599, ('magnific', 304): 1600, ('soap', 304): 1601, ('anywher', 304): 1602, ('nazi', 304): 1603, ('distract', 304): 1604, ('chill', 304): 1605, ('breath', 303): 1606, ('1980', 303): 1607, ('fred', 303): 1608, ('ice', 303): 1609, ('mission', 303): 1610, ('crowd', 302): 1611, ('moon', 302): 1612, ('jr', 302): 1613, ('joan', 302): 1614, ('frighten', 301): 1615, ('kate', 301): 1616, ('soft', 301): 1617, ('000', 301): 1618, ('dick', 300): 1619, ('dan', 300): 1620, ('nick', 300): 1621, ('hundr', 300): 1622, ('dozen', 299): 1623, ('somebodi', 299): 1624, ('radio', 299): 1625, ('simon', 299): 1626, ('shakespear', 298): 1627, ('andrew', 298): 1628, ('thousand', 298): 1629, ('academi', 298): 1630, ('loss', 298): 1631, ('sum', 297): 1632, ('vehicl', 297): 1633, ('account', 297): 1634, ('root', 297): 1635, ('quot', 297): 1636, ('leg', 296): 1637, ('1970', 296): 1638, ('behavior', 296): 1639, ('convent', 296): 1640, ('regular', 295): 1641, ('gold', 295): 1642, ('pretenti', 294): 1643, ('compet', 294): 1644, ('demand', 294): 1645, ('worker', 294): 1646, ('explos', 293): 1647, ('candi', 293): 1648, ('lynch', 293): 1649, ('japan', 293): 1650, ('notabl', 293): 1651, ('interpret', 293): 1652, ('stretch', 293): 1653, ('privat', 293): 1654, ('constant', 292): 1655, ('tarzan', 292): 1656, ('debut', 292): 1657, ('spi', 291): 1658, ('translat', 291): 1659, ('prais', 291): 1660, ('sea', 291): 1661, ('revolv', 291): 1662, ('quiet', 290): 1663, ('threaten', 290): 1664, ('franc', 290): 1665, ('sat', 290): 1666, ('technolog', 290): 1667, ('failur', 290): 1668, ('ass', 290): 1669, ('jesu', 290): 1670, ('toy', 289): 1671, ('punch', 289): 1672, ('met', 289): 1673, ('kevin', 289): 1674, ('higher', 289): 1675, ('aid', 289): 1676, ('abandon', 288): 1677, ('interact', 288): 1678, ('vh', 288): 1679, ('mike', 288): 1680, ('command', 287): 1681, ('confront', 287): 1682, ('bet', 287): 1683, ('separ', 287): 1684, ('stunt', 286): 1685, ('belong', 286): 1686, ('techniqu', 286): 1687, ('recal', 286): 1688, ('gotten', 286): 1689, ('servic', 286): 1690, ('site', 286): 1691, ('foot', 285): 1692, ('cabl', 285): 1693, ('bug', 285): 1694, ('freak', 285): 1695, ('capabl', 284): 1696, ('african', 284): 1697, ('fu', 284): 1698, ('jimmi', 284): 1699, ('bright', 284): 1700, ('boat', 283): 1701, ('stock', 283): 1702, ('fat', 283): 1703, ('clark', 283): 1704, ('presid', 283): 1705, ('succeed', 283): 1706, ('gene', 282): 1707, ('spanish', 282): 1708, ('structur', 282): 1709, ('paper', 281): 1710, ('kidnap', 281): 1711, ('factor', 280): 1712, ('belief', 280): 1713, ('whilst', 280): 1714, ('witti', 279): 1715, ('tree', 279): 1716, ('realis', 279): 1717, ('attend', 279): 1718, ('realism', 279): 1719, ('bob', 279): 1720, ('complic', 279): 1721, ('educ', 279): 1722, ('assist', 278): 1723, ('santa', 278): 1724, ('finest', 278): 1725, ('broken', 278): 1726, ('up', 277): 1727, ('depart', 277): 1728, ('determin', 277): 1729, ('observ', 277): 1730, ('v', 277): 1731, ('smoke', 277): 1732, ('oper', 276): 1733, ('routin', 276): 1734, ('hat', 276): 1735, ('domin', 276): 1736, ('fame', 276): 1737, ('lewi', 276): 1738, ('rubbish', 276): 1739, ('lone', 275): 1740, ('hook', 275): 1741, ('safe', 275): 1742, ('advanc', 275): 1743, ('kinda', 275): 1744, ('foreign', 275): 1745, ('morgan', 275): 1746, ('numer', 274): 1747, ('rank', 274): 1748, ('rose', 273): 1749, ('werewolf', 273): 1750, ('washington', 273): 1751, ('vs', 273): 1752, ('civil', 273): 1753, ('shallow', 273): 1754, ('shape', 273): 1755, ('gari', 272): 1756, ('morn', 272): 1757, ('ordinari', 271): 1758, ('winner', 271): 1759, ('accomplish', 271): 1760, ('kong', 271): 1761, ('virtual', 270): 1762, ('grab', 270): 1763, ('peac', 270): 1764, ('whenev', 270): 1765, ('offens', 269): 1766, ('luck', 269): 1767, ('h', 269): 1768, ('welcom', 268): 1769, ('bigger', 268): 1770, ('activ', 268): 1771, ('complain', 268): 1772, ('contriv', 268): 1773, ('patient', 268): 1774, ('unfunni', 268): 1775, ('pretend', 267): 1776, ('trek', 267): 1777, ('dimension', 267): 1778, ('con', 267): 1779, ('cain', 266): 1780, ('flash', 266): 1781, ('code', 266): 1782, ('wake', 266): 1783, ('dri', 266): 1784, ('lesbian', 266): 1785, ('eric', 266): 1786, ('dancer', 265): 1787, ('manipul', 265): 1788, ('statu', 265): 1789, ('corrupt', 265): 1790, ('albert', 265): 1791, ('guard', 265): 1792, ('signific', 264): 1793, ('sourc', 264): 1794, ('gain', 264): 1795, ('awkward', 264): 1796, ('speech', 264): 1797, ('context', 264): 1798, ('13', 263): 1799, ('clip', 263): 1800, ('sean', 263): 1801, ('corni', 263): 1802, ('psycho', 263): 1803, ('anthoni', 263): 1804, ('advic', 262): 1805, ('reli', 262): 1806, ('w', 262): 1807, ('priest', 262): 1808, ('theatric', 262): 1809, ('curiou', 262): 1810, ('religion', 262): 1811, ('flow', 261): 1812, ('addict', 261): 1813, ('specif', 260): 1814, ('jennif', 260): 1815, ('howard', 260): 1816, ('secur', 260): 1817, ('skin', 260): 1818, ('asian', 260): 1819, ('promot', 259): 1820, ('luke', 259): 1821, ('organ', 259): 1822, ('golden', 259): 1823, ('core', 259): 1824, ('comfort', 259): 1825, ('lucki', 258): 1826, ('cheat', 258): 1827, ('cash', 258): 1828, ('associ', 257): 1829, ('lower', 257): 1830, ('dislik', 257): 1831, ('frequent', 256): 1832, ('contribut', 256): 1833, ('spell', 256): 1834, ('devic', 256): 1835, ('wing', 256): 1836, ('frankli', 256): 1837, ('degre', 256): 1838, ('balanc', 256): 1839, ('regret', 256): 1840, ('lake', 255): 1841, ('print', 255): 1842, ('sake', 255): 1843, ('forgiv', 255): 1844, ('mass', 254): 1845, ('thoma', 254): 1846, ('betti', 254): 1847, ('unexpect', 253): 1848, ('gordon', 253): 1849, ('crack', 253): 1850, ('grown', 252): 1851, ('categori', 252): 1852, ('invit', 252): 1853, ('construct', 252): 1854, ('depend', 252): 1855, ('unfold', 252): 1856, ('amateur', 252): 1857, ('honor', 251): 1858, ('matur', 251): 1859, ('grew', 251): 1860, ('intellectu', 251): 1861, ('condit', 251): 1862, ('anna', 251): 1863, ('walter', 251): 1864, ('sole', 250): 1865, ('mirror', 250): 1866, ('spectacular', 250): 1867, ('veteran', 250): 1868, ('sudden', 250): 1869, ('grip', 249): 1870, ('card', 249): 1871, ('overli', 249): 1872, ('liner', 249): 1873, ('meanwhil', 249): 1874, ('freedom', 249): 1875, ('demonstr', 249): 1876, ('robin', 249): 1877, ('experienc', 249): 1878, ('gift', 249): 1879, ('sheriff', 248): 1880, ('unabl', 248): 1881, ('crappi', 248): 1882, ('colour', 248): 1883, ('theori', 248): 1884, ('brilliantli', 248): 1885, ('subtitl', 248): 1886, ('oliv', 248): 1887, ('drew', 248): 1888, ('section', 248): 1889, ('circumst', 248): 1890, ('cook', 247): 1891, ('pile', 247): 1892, ('laughter', 247): 1893, ('parker', 247): 1894, ('matt', 247): 1895, ('sheer', 247): 1896, ('altern', 247): 1897, ('path', 247): 1898, ('relief', 246): 1899, ('treatment', 246): 1900, ('accident', 246): 1901, ('wander', 246): 1902, ('lawyer', 246): 1903, ('defin', 246): 1904, ('hall', 246): 1905, ('sinatra', 246): 1906, ('captiv', 245): 1907, ('hank', 245): 1908, ('dragon', 245): 1909, ('halloween', 244): 1910, ('moor', 244): 1911, ('gratuit', 244): 1912, ('unintent', 243): 1913, ('barbara', 243): 1914, ('wound', 243): 1915, ('kung', 243): 1916, ('jacki', 243): 1917, ('cowboy', 243): 1918, ('broadway', 243): 1919, ('wayn', 243): 1920, ('k', 243): 1921, ('spoof', 242): 1922, ('surreal', 242): 1923, ('statement', 242): 1924, ('winter', 242): 1925, ('canadian', 242): 1926, ('gonna', 241): 1927, ('compos', 241): 1928, ('treasur', 241): 1929, ('fare', 241): 1930, ('cheer', 241): 1931, ('fish', 241): 1932, ('unrealist', 240): 1933, ('sensit', 240): 1934, ('woodi', 240): 1935, ('victor', 240): 1936, ('emerg', 240): 1937, ('ran', 239): 1938, ('neighbor', 239): 1939, ('sympathet', 239): 1940, ('driven', 239): 1941, ('topic', 238): 1942, ('authent', 238): 1943, ('glass', 238): 1944, ('expos', 238): 1945, ('menac', 238): 1946, ('overlook', 238): 1947, ('chief', 237): 1948, ('ancient', 237): 1949, ('gross', 237): 1950, ('handsom', 237): 1951, ('michel', 237): 1952, ('built', 236): 1953, ('comedian', 236): 1954, ('feet', 236): 1955, ('pleasant', 236): 1956, ('stranger', 236): 1957, ('network', 236): 1958, ('contemporari', 236): 1959, ('nevertheless', 236): 1960, ('russel', 236): 1961, ('cinderella', 236): 1962, ('underr', 235): 1963, ('miser', 235): 1964, ('consider', 235): 1965, ('gori', 235): 1966, ('blockbust', 235): 1967, ('earn', 235): 1968, ('endless', 235): 1969, ('letter', 235): 1970, ('switch', 234): 1971, ('solv', 234): 1972, ('brook', 234): 1973, ('virgin', 233): 1974, ('convict', 233): 1975, ('bullet', 233): 1976, ('joseph', 233): 1977, ('edward', 233): 1978, ('victoria', 233): 1979, ('cynic', 232): 1980, ('scale', 232): 1981, ('0', 232): 1982, ('scenario', 232): 1983, ('chosen', 232): 1984, ('alex', 232): 1985, ('outrag', 231): 1986, ('com', 231): 1987, ('curs', 231): 1988, ('sword', 231): 1989, ('gut', 231): 1990, ('substanc', 230): 1991, ('proper', 230): 1992, ('monkey', 230): 1993, ('driver', 230): 1994, ('uk', 230): 1995, ('screenwrit', 230): 1996, ('juli', 230): 1997, ('wrap', 230): 1998, ('remov', 229): 1999, ('court', 229): 2000, ('indic', 229): 2001, ('bird', 229): 2002, ('par', 229): 2003, ('inevit', 228): 2004, ('rental', 228): 2005, ('nanci', 228): 2006, ('advertis', 228): 2007, ('roy', 228): 2008, ('consequ', 228): 2009, ('naiv', 228): 2010, ('grave', 228): 2011, ('loser', 228): 2012, ('fatal', 227): 2013, ('bridg', 227): 2014, ('brave', 227): 2015, ('le', 227): 2016, ('germani', 227): 2017, ('slap', 227): 2018, ('invis', 227): 2019, ('footbal', 226): 2020, ('provok', 226): 2021, ('loui', 226): 2022, ('anger', 226): 2023, ('ador', 226): 2024, ('alcohol', 225): 2025, ('chan', 225): 2026, ('anderson', 225): 2027, ('willi', 224): 2028, ('ryan', 224): 2029, ('stumbl', 224): 2030, ('professor', 224): 2031, ('assassin', 223): 2032, ('sharp', 223): 2033, ('1930', 223): 2034, ('bat', 223): 2035, ('australian', 223): 2036, ('patrick', 223): 2037, ('lousi', 222): 2038, ('deni', 222): 2039, ('heck', 222): 2040, ('amateurish', 222): 2041, ('strongli', 222): 2042, ('cell', 222): 2043, ('eight', 222): 2044, ('saturday', 222): 2045, ('refresh', 222): 2046, ('liber', 222): 2047, ('ape', 222): 2048, ('trilog', 222): 2049, ('sin', 221): 2050, ('vagu', 220): 2051, ('justifi', 220): 2052, ('resid', 220): 2053, ('san', 220): 2054, ('reput', 219): 2055, ('creator', 219): 2056, ('sympathi', 219): 2057, ('defeat', 219): 2058, ('terrifi', 219): 2059, ('mini', 219): 2060, ('indi', 219): 2061, ('task', 218): 2062, ('endur', 218): 2063, ('tabl', 218): 2064, ('tediou', 218): 2065, ('prevent', 218): 2066, ('expert', 218): 2067, ('basebal', 217): 2068, ('rival', 217): 2069, ('offend', 217): 2070, ('imit', 217): 2071, ('trial', 217): 2072, ('che', 217): 2073, ('employ', 217): 2074, ('complaint', 216): 2075, ('beach', 216): 2076, ('dig', 216): 2077, ('europ', 216): 2078, ('weekend', 216): 2079, ('pitch', 216): 2080, ('fairi', 216): 2081, ('max', 216): 2082, ('risk', 215): 2083, ('format', 215): 2084, ('purchas', 215): 2085, ('murphi', 215): 2086, ('glimps', 214): 2087, ('hype', 214): 2088, ('powel', 214): 2089, ('nois', 214): 2090, ('bite', 214): 2091, ('titan', 214): 2092, ('tini', 214): 2093, ('harsh', 214): 2094, ('reminisc', 214): 2095, ('fals', 213): 2096, ('asleep', 213): 2097, ('14', 213): 2098, ('strip', 213): 2099, ('till', 213): 2100, ('prime', 213): 2101, ('north', 213): 2102, ('destruct', 212): 2103, ('revel', 212): 2104, ('descript', 212): 2105, ('africa', 212): 2106, ('texa', 212): 2107, ('surfac', 211): 2108, ('inner', 211): 2109, ('semi', 211): 2110, ('excess', 211): 2111, ('spin', 211): 2112, ('uninterest', 211): 2113, ('sitcom', 211): 2114, ('arrest', 211): 2115, ('twin', 210): 2116, ('argu', 210): 2117, ('controversi', 210): 2118, ('makeup', 210): 2119, ('maintain', 210): 2120, ('massiv', 210): 2121, ('dinosaur', 210): 2122, ('hitchcock', 210): 2123, ('ideal', 209): 2124, ('reject', 209): 2125, ('stare', 209): 2126, ('kim', 209): 2127, ('melodrama', 209): 2128, ('insist', 209): 2129, ('ludicr', 209): 2130, ('expens', 209): 2131, ('host', 208): 2132, ('forest', 208): 2133, ('supernatur', 208): 2134, ('press', 208): 2135, ('atroci', 208): 2136, ('ala', 208): 2137, ('subplot', 208): 2138, ('nail', 208): 2139, ('ga', 208): 2140, ('erot', 208): 2141, ('columbo', 208): 2142, ('notch', 207): 2143, ('cant', 207): 2144, ('dude', 207): 2145, ('presum', 207): 2146, ('identifi', 207): 2147, ('plagu', 206): 2148, ('crude', 206): 2149, ('closer', 206): 2150, ('forgett', 206): 2151, ('method', 206): 2152, ('guest', 206): 2153, ('character', 206): 2154, ('landscap', 205): 2155, ('lion', 205): 2156, ('border', 205): 2157, ('princess', 205): 2158, ('beast', 205): 2159, ('ear', 205): 2160, ('foster', 205): 2161, ('bound', 204): 2162, ('damag', 204): 2163, ('storytel', 204): 2164, ('urban', 204): 2165, ('accus', 204): 2166, ('previous', 204): 2167, ('birth', 204): 2168, ('aunt', 204): 2169, ('pacino', 204): 2170, ('jungl', 204): 2171, ('thirti', 203): 2172, ('emma', 203): 2173, ('nude', 203): 2174, ('propaganda', 203): 2175, ('chose', 203): 2176, ('jess', 203): 2177, ('doll', 203): 2178, ('guid', 203): 2179, ('whoever', 202): 2180, ('warrior', 202): 2181, ('mainstream', 202): 2182, ('mate', 202): 2183, ('pet', 202): 2184, ('25', 202): 2185, ('exact', 201): 2186, ('merit', 201): 2187, ('gritti', 201): 2188, ('deadli', 201): 2189, ('latest', 201): 2190, ('poster', 201): 2191, ('cooper', 201): 2192, ('size', 201): 2193, ('upset', 201): 2194, ('friday', 201): 2195, ('ton', 200): 2196, ('citizen', 200): 2197, ('popul', 200): 2198, ('rough', 200): 2199, ('contact', 200): 2200, ('blend', 200): 2201, ('corps', 200): 2202, ('buff', 200): 2203, ('1990', 200): 2204, ('wilson', 200): 2205, ('settl', 200): 2206, ('warner', 200): 2207, ('sun', 200): 2208, ('contest', 200): 2209, ('widow', 199): 2210, ('select', 199): 2211, ('rat', 199): 2212, ('bu', 199): 2213, ('overcom', 199): 2214, ('environ', 199): 2215, ('pitt', 199): 2216, ('metal', 199): 2217, ('alic', 199): 2218, ('mgm', 199): 2219, ('guilti', 198): 2220, ('revolut', 198): 2221, ('particip', 198): 2222, ('ted', 198): 2223, ('link', 198): 2224, ('lift', 198): 2225, ('corner', 197): 2226, ('johnson', 197): 2227, ('1960', 197): 2228, ('corpor', 197): 2229, ('exagger', 197): 2230, ('prostitut', 197): 2231, ('moron', 197): 2232, ('afternoon', 197): 2233, ('matrix', 197): 2234, ('accompani', 197): 2235, ('doom', 196): 2236, ('hood', 196): 2237, ('leagu', 196): 2238, ('multipl', 196): 2239, ('instal', 196): 2240, ('sincer', 196): 2241, ('friendli', 196): 2242, ('clair', 196): 2243, ('holm', 196): 2244, ('defend', 195): 2245, ('junk', 195): 2246, ('string', 195): 2247, ('examin', 195): 2248, ('hip', 195): 2249, ('campi', 195): 2250, ('sunday', 195): 2251, ('aka', 195): 2252, ('advis', 195): 2253, ('lugosi', 195): 2254, ('grim', 195): 2255, ('irish', 195): 2256, ('blah', 195): 2257, ('icon', 194): 2258, ('shut', 194): 2259, ('tight', 194): 2260, ('varieti', 194): 2261, ('shake', 194): 2262, ('confid', 194): 2263, ('pro', 194): 2264, ('rachel', 194): 2265, ('jaw', 193): 2266, ('mexican', 193): 2267, ('denni', 193): 2268, ('medic', 193): 2269, ('directli', 193): 2270, ('goal', 193): 2271, ('sullivan', 193): 2272, ('attach', 193): 2273, ('prior', 192): 2274, ('dean', 192): 2275, ('truck', 192): 2276, ('vietnam', 192): 2277, ('sentenc', 192): 2278, ('terrorist', 192): 2279, ('bourn', 192): 2280, ('breast', 192): 2281, ('courag', 192): 2282, ('duke', 192): 2283, ('sarah', 192): 2284, ('legendari', 192): 2285, ('proceed', 191): 2286, ('nose', 191): 2287, ('entri', 191): 2288, ('split', 191): 2289, ('un', 191): 2290, ('donald', 191): 2291, ('behav', 191): 2292, ('yell', 191): 2293, ('hong', 191): 2294, ('forth', 190): 2295, ('crush', 190): 2296, ('swim', 190): 2297, ('everywher', 190): 2298, ('concentr', 190): 2299, ('confess', 190): 2300, ('unconvinc', 190): 2301, ('buri', 190): 2302, ('borrow', 190): 2303, ('gather', 190): 2304, ('jerk', 190): 2305, ('stolen', 190): 2306, ('lifetim', 190): 2307, ('lip', 189): 2308, ('pan', 189): 2309, ('turkey', 189): 2310, ('spite', 189): 2311, ('deliveri', 189): 2312, ('julia', 189): 2313, ('california', 189): 2314, ('downright', 188): 2315, ('offici', 188): 2316, ('proud', 188): 2317, ('hoffman', 188): 2318, ('china', 188): 2319, ('quest', 188): 2320, ('flight', 188): 2321, ('reward', 188): 2322, ('freeman', 188): 2323, ('worthwhil', 187): 2324, ('fabul', 187): 2325, ('sink', 187): 2326, ('inept', 187): 2327, ('jon', 187): 2328, ('lazi', 187): 2329, ('notori', 187): 2330, ('sir', 187): 2331, ('fade', 187): 2332, ('encourag', 187): 2333, ('betray', 187): 2334, ('jail', 187): 2335, ('storm', 186): 2336, ('bell', 186): 2337, ('cousin', 186): 2338, ('imageri', 186): 2339, ('relev', 186): 2340, ('shower', 186): 2341, ('survivor', 186): 2342, ('branagh', 186): 2343, ('susan', 186): 2344, ('retard', 186): 2345, ('lisa', 186): 2346, ('bag', 186): 2347, ('teeth', 186): 2348, ('finger', 185): 2349, ('hugh', 185): 2350, ('trade', 185): 2351, ('stab', 185): 2352, ('facial', 185): 2353, ('toler', 185): 2354, ('quirki', 185): 2355, ('alright', 185): 2356, ('mexico', 185): 2357, ('shark', 185): 2358, ('tremend', 185): 2359, ('bride', 185): 2360, ('summari', 185): 2361, ('blown', 184): 2362, ('hyster', 184): 2363, ('pose', 184): 2364, ('von', 184): 2365, ('ha', 184): 2366, ('bitter', 184): 2367, ('larri', 183): 2368, ('cruel', 183): 2369, ('ron', 183): 2370, ('afterward', 183): 2371, ('christ', 183): 2372, ('address', 183): 2373, ('ned', 183): 2374, ('bone', 183): 2375, ('scheme', 183): 2376, ('swear', 182): 2377, ('feed', 182): 2378, ('distinct', 182): 2379, ('screw', 182): 2380, ('beg', 182): 2381, ('tour', 182): 2382, ('pursu', 182): 2383, ('snake', 182): 2384, ('traci', 182): 2385, ('thumb', 182): 2386, ('occas', 181): 2387, ('obscur', 181): 2388, ('stomach', 181): 2389, ('photo', 181): 2390, ('chair', 181): 2391, ('mechan', 181): 2392, ('raw', 181): 2393, ('cabin', 180): 2394, ('holiday', 180): 2395, ('chain', 180): 2396, ('necessarili', 180): 2397, ('heavili', 180): 2398, ('southern', 180): 2399, ('gruesom', 180): 2400, ('render', 180): 2401, ('argument', 180): 2402, ('resist', 180): 2403, ('hardi', 180): 2404, ('sidney', 180): 2405, ('understood', 179): 2406, ('philip', 179): 2407, ('satan', 179): 2408, ('indulg', 179): 2409, ('india', 179): 2410, ('racist', 179): 2411, ('lay', 178): 2412, ('integr', 178): 2413, ('outfit', 178): 2414, ('fourth', 178): 2415, ('belov', 178): 2416, ('stalk', 178): 2417, ('tongu', 178): 2418, ('forgot', 178): 2419, ('pregnant', 178): 2420, ('midnight', 178): 2421, ('obnoxi', 178): 2422, ('restor', 177): 2423, ('ticket', 177): 2424, ('slapstick', 177): 2425, ('17', 177): 2426, ('inhabit', 177): 2427, ('deeper', 177): 2428, ('magazin', 177): 2429, ('carol', 177): 2430, ('garden', 177): 2431, ('incid', 176): 2432, ('shoe', 176): 2433, ('devot', 176): 2434, ('brad', 176): 2435, ('lincoln', 176): 2436, ('anticip', 175): 2437, ('underground', 175): 2438, ('benefit', 175): 2439, ('sandler', 175): 2440, ('maria', 175): 2441, ('guarante', 175): 2442, ('lili', 175): 2443, ('disbelief', 175): 2444, ('divorc', 175): 2445, ('elizabeth', 175): 2446, ('bbc', 174): 2447, ('capit', 174): 2448, ('greater', 174): 2449, ('slave', 174): 2450, ('creation', 174): 2451, ('princip', 174): 2452, ('cring', 174): 2453, ('amazingli', 174): 2454, ('explod', 174): 2455, ('mildli', 174): 2456, ('introduct', 173): 2457, ('halfway', 173): 2458, ('extraordinari', 173): 2459, ('lesli', 173): 2460, ('funnier', 173): 2461, ('advantag', 172): 2462, ('wreck', 172): 2463, ('overwhelm', 172): 2464, ('transfer', 172): 2465, ('text', 172): 2466, ('tap', 172): 2467, ('extent', 172): 2468, ('punish', 172): 2469, ('enhanc', 172): 2470, ('jessica', 171): 2471, ('east', 171): 2472, ('error', 171): 2473, ('dynam', 171): 2474, ('lo', 171): 2475, ('deliber', 171): 2476, ('lane', 171): 2477, ('preview', 171): 2478, ('horrif', 171): 2479, ('plant', 171): 2480, ('miller', 170): 2481, ('sophist', 170): 2482, ('ensu', 170): 2483, ('basi', 170): 2484, ('miscast', 170): 2485, ('vincent', 170): 2486, ('vacat', 170): 2487, ('appli', 170): 2488, ('homosexu', 170): 2489, ('2000', 170): 2490, ('sleazi', 169): 2491, ('elev', 169): 2492, ('uncomfort', 169): 2493, ('spoken', 169): 2494, ('steel', 169): 2495, ('bollywood', 169): 2496, ('extend', 169): 2497, ('measur', 169): 2498, ('via', 169): 2499, ('reed', 169): 2500, ('mansion', 169): 2501, ('breathtak', 168): 2502, ('blair', 168): 2503, ('fix', 168): 2504, ('conceiv', 168): 2505, ('goofi', 168): 2506, ('dentist', 168): 2507, ('assign', 168): 2508, ('alter', 168): 2509, ('cathol', 168): 2510, ('melt', 168): 2511, ('hippi', 168): 2512, ('overact', 168): 2513, ('beer', 168): 2514, ('savag', 168): 2515, ('daili', 168): 2516, ('stanley', 168): 2517, ('mous', 168): 2518, ('nowaday', 167): 2519, ('succe', 167): 2520, ('properli', 167): 2521, ('subsequ', 167): 2522, ('carpent', 167): 2523, ('sacrific', 167): 2524, ('oppos', 167): 2525, ('everyday', 167): 2526, ('inspector', 167): 2527, ('burt', 167): 2528, ('laura', 166): 2529, ('neck', 166): 2530, ('massacr', 166): 2531, ('block', 166): 2532, ('circl', 166): 2533, ('access', 165): 2534, ('fallen', 165): 2535, ('pool', 165): 2536, ('grey', 165): 2537, ('christi', 165): 2538, ('lesser', 165): 2539, ('concert', 165): 2540, ('mob', 165): 2541, ('fay', 165): 2542, ('portrait', 165): 2543, ('seagal', 165): 2544, ('relax', 164): 2545, ('chees', 164): 2546, ('jewish', 164): 2547, ('jake', 164): 2548, ('usa', 164): 2549, ('sinist', 164): 2550, ('competit', 164): 2551, ('isol', 164): 2552, ('react', 164): 2553, ('stink', 163): 2554, ('lyric', 163): 2555, ('immens', 163): 2556, ('creep', 163): 2557, ('chop', 163): 2558, ('nonetheless', 163): 2559, ('nine', 163): 2560, ('spiritu', 163): 2561, ('appal', 163): 2562, ('ironi', 163): 2563, ('suitabl', 163): 2564, ('2006', 163): 2565, ('nut', 162): 2566, ('sold', 162): 2567, ('retir', 162): 2568, ('shirt', 162): 2569, ('navi', 162): 2570, ('needless', 162): 2571, ('user', 162): 2572, ('showcas', 162): 2573, ('spring', 162): 2574, ('luci', 162): 2575, ('rage', 162): 2576, ('adopt', 162): 2577, ('franchis', 162): 2578, ('reduc', 162): 2579, ('uninspir', 161): 2580, ('zone', 161): 2581, ('bath', 161): 2582, ('digit', 161): 2583, ('nurs', 161): 2584, ('jay', 161): 2585, ('per', 161): 2586, ('bulli', 161): 2587, ('asham', 161): 2588, ('stanwyck', 161): 2589, ('upper', 160): 2590, ('1940', 160): 2591, ('oddli', 160): 2592, ('sutherland', 160): 2593, ('amongst', 160): 2594, ('broadcast', 160): 2595, ('2001', 160): 2596, ('laid', 160): 2597, ('illustr', 160): 2598, ('throat', 159): 2599, ('stylish', 159): 2600, ('brando', 159): 2601, ('aspir', 159): 2602, ('baker', 159): 2603, ('disguis', 159): 2604, ('fulfil', 159): 2605, ('pound', 158): 2606, ('nobl', 158): 2607, ('pride', 158): 2608, ('wwii', 158): 2609, ('impli', 158): 2610, ('thief', 158): 2611, ('18', 158): 2612, ('neighborhood', 158): 2613, ('wanna', 158): 2614, ('em', 158): 2615, ('endear', 158): 2616, ('diseas', 157): 2617, ('tens', 157): 2618, ('shift', 157): 2619, ('coher', 157): 2620, ('dawn', 157): 2621, ('albeit', 157): 2622, ('dinner', 157): 2623, ('rochest', 157): 2624, ('distribut', 157): 2625, ('shoulder', 157): 2626, ('cinematograph', 157): 2627, ('prop', 157): 2628, ('16', 157): 2629, ('bett', 157): 2630, ('bo', 157): 2631, ('shout', 156): 2632, ('poignant', 156): 2633, ('knife', 156): 2634, ('snow', 156): 2635, ('rebel', 156): 2636, ('wash', 156): 2637, ('function', 156): 2638, ('silenc', 156): 2639, ('contract', 156): 2640, ('forti', 156): 2641, ('surf', 156): 2642, ('matthau', 156): 2643, ('instinct', 155): 2644, ('proof', 155): 2645, ('henc', 155): 2646, ('widmark', 155): 2647, ('eeri', 155): 2648, ('height', 155): 2649, ('duti', 155): 2650, ('internet', 155): 2651, ('elvira', 155): 2652, ('cancel', 155): 2653, ('horrend', 155): 2654, ('heat', 155): 2655, ('chuck', 155): 2656, ('mindless', 155): 2657, ('reunion', 155): 2658, ('derek', 155): 2659, ('cannib', 155): 2660, ('silver', 155): 2661, ('mill', 154): 2662, ('innov', 154): 2663, ('torn', 154): 2664, ('incoher', 154): 2665, ('repetit', 154): 2666, ('greatli', 154): 2667, ('alik', 154): 2668, ('etern', 154): 2669, ('pie', 154): 2670, ('absorb', 154): 2671, ('premier', 154): 2672, ('musician', 154): 2673, ('neat', 154): 2674, ('spielberg', 154): 2675, ('glori', 154): 2676, ('elvi', 154): 2677, ('horrifi', 153): 2678, ('precis', 153): 2679, ('wealthi', 153): 2680, ('diamond', 153): 2681, ('racism', 153): 2682, ('nelson', 153): 2683, ('bang', 153): 2684, ('crisi', 153): 2685, ('redempt', 153): 2686, ('itali', 153): 2687, ('trite', 153): 2688, ('blank', 153): 2689, ('fbi', 153): 2690, ('burton', 153): 2691, ('lovabl', 153): 2692, ('britain', 153): 2693, ('infam', 153): 2694, ('homag', 153): 2695, ('announc', 153): 2696, ('resolut', 152): 2697, ('happili', 152): 2698, ('parallel', 152): 2699, ('hammer', 152): 2700, ('ensembl', 152): 2701, ('streisand', 152): 2702, ('flop', 152): 2703, ('pat', 152): 2704, ('chaplin', 152): 2705, ('helen', 152): 2706, ('dedic', 152): 2707, ('wilder', 152): 2708, ('plastic', 151): 2709, ('triumph', 151): 2710, ('oil', 151): 2711, ('st', 151): 2712, ('disagre', 151): 2713, ('carter', 151): 2714, ('factori', 151): 2715, ('mar', 151): 2716, ('conclud', 151): 2717, ('broke', 151): 2718, ('cube', 151): 2719, ('chuckl', 150): 2720, ('weight', 150): 2721, ('own', 150): 2722, ('fighter', 150): 2723, ('row', 150): 2724, ('bush', 150): 2725, ('vega', 150): 2726, ('rocket', 150): 2727, ('climb', 150): 2728, ('march', 150): 2729, ('unforgett', 149): 2730, ('mst3k', 149): 2731, ('wherea', 149): 2732, ('thug', 149): 2733, ('meaning', 149): 2734, ('sensibl', 149): 2735, ('kurt', 149): 2736, ('dump', 149): 2737, ('enorm', 149): 2738, ('spare', 149): 2739, ('dane', 149): 2740, ('lust', 149): 2741, ('luca', 149): 2742, ('boot', 149): 2743, ('adequ', 148): 2744, ('rap', 148): 2745, ('dear', 148): 2746, ('engin', 148): 2747, ('stress', 148): 2748, ('difficulti', 148): 2749, ('brand', 148): 2750, ('bobbi', 148): 2751, ('caricatur', 148): 2752, ('arnold', 148): 2753, ('butt', 148): 2754, ('fifti', 148): 2755, ('threat', 148): 2756, ('karloff', 148): 2757, ('barri', 147): 2758, ('polish', 147): 2759, ('ego', 147): 2760, ('secretari', 147): 2761, ('fest', 147): 2762, ('elabor', 147): 2763, ('ralph', 147): 2764, ('swing', 147): 2765, ('arrog', 147): 2766, ('journalist', 147): 2767, ('homeless', 147): 2768, ('hamlet', 147): 2769, ('flynn', 147): 2770, ('float', 146): 2771, ('spike', 146): 2772, ('grate', 146): 2773, ('unbear', 146): 2774, ('arrang', 146): 2775, ('fanci', 146): 2776, ('tool', 146): 2777, ('resort', 146): 2778, ('simpson', 146): 2779, ('conspiraci', 146): 2780, ('induc', 146): 2781, ('puppet', 146): 2782, ('cruis', 145): 2783, ('guilt', 145): 2784, ('tribut', 145): 2785, ('choreograph', 145): 2786, ('pig', 145): 2787, ('boll', 145): 2788, ('phillip', 145): 2789, ('basement', 145): 2790, ('exercis', 145): 2791, ('muppet', 145): 2792, ('file', 144): 2793, ('editor', 144): 2794, ('korean', 144): 2795, ('toilet', 144): 2796, ('ham', 144): 2797, ('layer', 144): 2798, ('24', 144): 2799, ('puzzl', 144): 2800, ('babe', 144): 2801, ('stan', 144): 2802, ('tower', 144): 2803, ('document', 144): 2804, ('medium', 144): 2805, ('fianc', 144): 2806, ('ward', 144): 2807, ('slip', 144): 2808, ('item', 144): 2809, ('scarecrow', 144): 2810, ('catherin', 143): 2811, ('glover', 143): 2812, ('persona', 143): 2813, ('philosoph', 143): 2814, ('slaughter', 143): 2815, ('inexplic', 143): 2816, ('assur', 143): 2817, ('transit', 143): 2818, ('portion', 143): 2819, ('minim', 143): 2820, ('doc', 143): 2821, ('larger', 143): 2822, ('superfici', 143): 2823, ('denzel', 143): 2824, ('orient', 143): 2825, ('librari', 143): 2826, ('spark', 143): 2827, ('territori', 143): 2828, ('pg', 142): 2829, ('jet', 142): 2830, ('financi', 142): 2831, ('wolf', 142): 2832, ('boredom', 142): 2833, ('jeremi', 142): 2834, ('ban', 142): 2835, ('curti', 142): 2836, ('sneak', 142): 2837, ('owe', 142): 2838, ('shi', 142): 2839, ('dorothi', 142): 2840, ('walken', 142): 2841, ('backdrop', 141): 2842, ('multi', 141): 2843, ('ambigu', 141): 2844, ('eleph', 141): 2845, ('metaphor', 141): 2846, ('hudson', 141): 2847, ('cusack', 141): 2848, ('profound', 141): 2849, ('whale', 141): 2850, ('union', 140): 2851, ('rave', 140): 2852, ('2005', 140): 2853, ('birthday', 140): 2854, ('elsewher', 140): 2855, ('implaus', 140): 2856, ('hack', 140): 2857, ('stiff', 140): 2858, ('notion', 140): 2859, ('ultra', 140): 2860, ('gadget', 140): 2861, ('viru', 140): 2862, ('pad', 139): 2863, ('poison', 139): 2864, ('slight', 139): 2865, ('bibl', 139): 2866, ('reader', 139): 2867, ('eva', 139): 2868, ('lloyd', 139): 2869, ('newspap', 139): 2870, ('deriv', 139): 2871, ('1st', 139): 2872, ('distanc', 139): 2873, ('urg', 139): 2874, ('afford', 139): 2875, ('disc', 139): 2876, ('eastwood', 139): 2877, ('canada', 139): 2878, ('superhero', 139): 2879, ('hawk', 139): 2880, ('squar', 139): 2881, ('essenc', 138): 2882, ('button', 138): 2883, ('montag', 138): 2884, ('skit', 138): 2885, ('charisma', 138): 2886, ('drown', 138): 2887, ('health', 138): 2888, ('huh', 138): 2889, ('heston', 138): 2890, ('spread', 138): 2891, ('sadist', 138): 2892, ('restaur', 138): 2893, ('cure', 138): 2894, ('dealt', 137): 2895, ('fetch', 137): 2896, ('companion', 137): 2897, ('peak', 137): 2898, ('gradual', 137): 2899, ('lab', 137): 2900, ('estat', 137): 2901, ('scoobi', 137): 2902, ('muslim', 137): 2903, ('godfath', 137): 2904, ('invest', 137): 2905, ('maniac', 137): 2906, ('ritter', 136): 2907, ('tea', 136): 2908, ('cup', 136): 2909, ('countless', 136): 2910, ('gothic', 136): 2911, ('servant', 136): 2912, ('kane', 136): 2913, ('subtleti', 136): 2914, ('alli', 136): 2915, ('miik', 136): 2916, ('briefli', 135): 2917, ('iii', 135): 2918, ('charismat', 135): 2919, ('salli', 135): 2920, ('heroic', 135): 2921, ('electr', 135): 2922, ('elect', 135): 2923, ('bud', 134): 2924, ('cole', 134): 2925, ('resourc', 134): 2926, ('reel', 134): 2927, ('wannab', 134): 2928, ('ingredi', 134): 2929, ('grandmoth', 134): 2930, ('toss', 134): 2931, ('tender', 134): 2932, ('admittedli', 134): 2933, ('nuanc', 134): 2934, ('neil', 134): 2935, ('mild', 133): 2936, ('stood', 133): 2937, ('mafia', 133): 2938, ('pit', 133): 2939, ('shall', 133): 2940, ('kubrick', 133): 2941, ('label', 133): 2942, ('pauli', 133): 2943, ('gate', 133): 2944, ('stronger', 133): 2945, ('punk', 133): 2946, ('poverti', 133): 2947, ('reev', 133): 2948, ('carrey', 133): 2949, ('dawson', 133): 2950, ('updat', 132): 2951, ('cardboard', 132): 2952, ('useless', 132): 2953, ('ian', 132): 2954, ('burst', 132): 2955, ('bakshi', 132): 2956, ('smash', 132): 2957, ('assault', 132): 2958, ('easier', 132): 2959, ('cox', 132): 2960, ('smooth', 132): 2961, ('outcom', 132): 2962, ('fond', 132): 2963, ('tag', 132): 2964, ('astair', 132): 2965, ('terri', 132): 2966, ('vulner', 131): 2967, ('melodramat', 131): 2968, ('resolv', 131): 2969, ('vari', 131): 2970, ('increasingli', 131): 2971, ('sketch', 131): 2972, ('2002', 131): 2973, ('coincid', 131): 2974, ('exchang', 131): 2975, ('divers', 131): 2976, ('samurai', 131): 2977, ('fist', 131): 2978, ('rex', 131): 2979, ('qualifi', 131): 2980, ('brillianc', 130): 2981, ('tame', 130): 2982, ('conveni', 130): 2983, ('be', 130): 2984, ('blast', 130): 2985, ('templ', 130): 2986, ('scratch', 130): 2987, ('suspend', 130): 2988, ('luckili', 130): 2989, ('insert', 130): 2990, ('reynold', 130): 2991, ('hamilton', 129): 2992, ('farm', 129): 2993, ('meat', 129): 2994, ('coach', 129): 2995, ('matthew', 129): 2996, ('gotta', 129): 2997, ('pin', 129): 2998, ('strictli', 129): 2999, ('soprano', 129): 3000, ('seventi', 129): 3001, ('fisher', 129): 3002, ('ambiti', 129): 3003, ('jami', 129): 3004, ('walker', 129): 3005, ('nuclear', 129): 3006, ('spooki', 128): 3007, ('struck', 128): 3008, ('kudo', 128): 3009, ('ninja', 128): 3010, ('empir', 128): 3011, ('worthless', 128): 3012, ('convolut', 128): 3013, ('monk', 128): 3014, ('instantli', 128): 3015, ('closet', 128): 3016, ('clock', 128): 3017, ('cave', 128): 3018, ('recreat', 128): 3019, ('eccentr', 128): 3020, ('butcher', 128): 3021, ('brosnan', 128): 3022, ('timeless', 128): 3023, ('revers', 128): 3024, ('grasp', 128): 3025, ('joey', 128): 3026, ('discoveri', 128): 3027, ('evok', 127): 3028, ('bleak', 127): 3029, ('wipe', 127): 3030, ('seller', 127): 3031, ('importantli', 127): 3032, ('fifteen', 127): 3033, ('selfish', 127): 3034, ('norman', 127): 3035, ('pal', 127): 3036, ('sidekick', 127): 3037, ('declar', 127): 3038, ('gray', 127): 3039, ('partli', 127): 3040, ('inconsist', 127): 3041, ('mitchel', 127): 3042, ('miracl', 127): 3043, ('clown', 127): 3044, ('sloppi', 127): 3045, ('eighti', 127): 3046, ('communist', 127): 3047, ('cliff', 127): 3048, ('websit', 126): 3049, ('flawless', 126): 3050, ('chew', 126): 3051, ('piano', 126): 3052, ('ho', 126): 3053, ('debat', 126): 3054, ('45', 126): 3055, ('destin', 126): 3056, ('australia', 126): 3057, ('farc', 126): 3058, ('aforement', 126): 3059, ('psychiatrist', 126): 3060, ('seed', 126): 3061, ('stoog', 126): 3062, ('cheek', 126): 3063, ('enthusiast', 126): 3064, ('superbl', 126): 3065, ('lifestyl', 126): 3066, ('bash', 125): 3067, ('pressur', 125): 3068, ('kitchen', 125): 3069, ('anni', 125): 3070, ('akshay', 125): 3071, ('slice', 125): 3072, ('emili', 125): 3073, ('abc', 125): 3074, ('dash', 125): 3075, ('wick', 125): 3076, ('dire', 125): 3077, ('soviet', 125): 3078, ('splatter', 125): 3079, ('wrestl', 125): 3080, ('incompet', 125): 3081, ('regardless', 125): 3082, ('drivel', 125): 3083, ('directori', 125): 3084, ('blob', 124): 3085, ('increas', 124): 3086, ('dave', 124): 3087, ('suppli', 124): 3088, ('distant', 124): 3089, ('pleasantli', 124): 3090, ('chapter', 124): 3091, ('flower', 124): 3092, ('boil', 124): 3093, ('prize', 124): 3094, ('curios', 124): 3095, ('ken', 124): 3096, ('cagney', 124): 3097, ('seduc', 124): 3098, ('beaten', 124): 3099, ('duo', 124): 3100, ('cameron', 124): 3101, ('glow', 124): 3102, ('lou', 124): 3103, ('jar', 124): 3104, ('doo', 124): 3105, ('artifici', 124): 3106, ('judi', 124): 3107, ('helicopt', 124): 3108, ('recov', 124): 3109, ('cia', 124): 3110, ('mann', 124): 3111, ('drunken', 123): 3112, ('eleg', 123): 3113, ('laurel', 123): 3114, ('panic', 123): 3115, ('turner', 123): 3116, ('hop', 123): 3117, ('psychot', 123): 3118, ('combat', 123): 3119, ('web', 123): 3120, ('ellen', 123): 3121, ('ranger', 123): 3122, ('perri', 123): 3123, ('craven', 123): 3124, ('splendid', 123): 3125, ('goldberg', 123): 3126, ('favour', 123): 3127, ('craig', 123): 3128, ('glenn', 123): 3129, ('francisco', 123): 3130, ('gentl', 122): 3131, ('fx', 122): 3132, ('plausibl', 122): 3133, ('philosophi', 122): 3134, ('min', 122): 3135, ('modesti', 122): 3136, ('greek', 122): 3137, ('20th', 122): 3138, ('slightest', 122): 3139, ('shortli', 122): 3140, ('gandhi', 122): 3141, ('alexand', 122): 3142, ('hatr', 122): 3143, ('falk', 122): 3144, ('flip', 122): 3145, ('wizard', 122): 3146, ('rid', 122): 3147, ('ruth', 122): 3148, ('graduat', 122): 3149, ('manhattan', 121): 3150, ('lend', 121): 3151, ('jealou', 121): 3152, ('dracula', 121): 3153, ('we', 121): 3154, ('harm', 121): 3155, ('fund', 121): 3156, ('legal', 121): 3157, ('tall', 121): 3158, ('preciou', 121): 3159, ('knight', 121): 3160, ('holi', 121): 3161, ('ocean', 121): 3162, ('futurist', 121): 3163, ('unpleas', 121): 3164, ('felix', 121): 3165, ('digniti', 120): 3166, ('thread', 120): 3167, ('reviv', 120): 3168, ('mock', 120): 3169, ('ami', 120): 3170, ('giallo', 120): 3171, ('explicit', 120): 3172, ('overdon', 120): 3173, ('scientif', 120): 3174, ('forbidden', 120): 3175, ('tank', 120): 3176, ('nod', 120): 3177, ('bless', 120): 3178, ('childish', 120): 3179, ('fever', 119): 3180, ('broad', 119): 3181, ('unwatch', 119): 3182, ('torment', 119): 3183, ('yesterday', 119): 3184, ('nerv', 119): 3185, ('repeatedli', 119): 3186, ('eve', 119): 3187, ('thick', 119): 3188, ('2004', 119): 3189, ('verhoeven', 119): 3190, ('elderli', 119): 3191, ('99', 119): 3192, ('mel', 119): 3193, ('awaken', 119): 3194, ('margaret', 119): 3195, ('pirat', 119): 3196, ('awe', 119): 3197, ('uniform', 118): 3198, ('bin', 118): 3199, ('politician', 118): 3200, ('griffith', 118): 3201, ('custom', 118): 3202, ('romero', 118): 3203, ('ambit', 118): 3204, ('publish', 118): 3205, ('ah', 118): 3206, ('lean', 118): 3207, ('royal', 118): 3208, ('roman', 118): 3209, ('kay', 118): 3210, ('timothi', 118): 3211, ('acclaim', 118): 3212, ('stiller', 118): 3213, ('absenc', 118): 3214, ('launch', 118): 3215, ('eas', 118): 3216, ('automat', 118): 3217, ('rivet', 118): 3218, ('transport', 117): 3219, ('phrase', 117): 3220, ('darker', 117): 3221, ('bathroom', 117): 3222, ('warren', 117): 3223, ('pierc', 117): 3224, ('tomato', 117): 3225, ('sunshin', 117): 3226, ('foul', 117): 3227, ('antic', 117): 3228, ('termin', 117): 3229, ('gabriel', 117): 3230, ('homicid', 117): 3231, ('stinker', 117): 3232, ('purpl', 117): 3233, ('pulp', 117): 3234, ('crook', 117): 3235, ('wallac', 117): 3236, ('saint', 116): 3237, ('ought', 116): 3238, ('karen', 116): 3239, ('prom', 116): 3240, ('brazil', 116): 3241, ('awak', 116): 3242, ('kenneth', 116): 3243, ('horrid', 116): 3244, ('choreographi', 116): 3245, ('rambo', 116): 3246, ('juvenil', 116): 3247, ('pray', 116): 3248, ('coloni', 116): 3249, ('revolutionari', 116): 3250, ('li', 116): 3251, ('sixti', 116): 3252, ('evolv', 116): 3253, ('viciou', 116): 3254, ('marin', 116): 3255, ('contrari', 116): 3256, ('hollow', 116): 3257, ('2003', 116): 3258, ('q', 116): 3259, ('eyr', 116): 3260, ('packag', 116): 3261, ('donna', 116): 3262, ('album', 116): 3263, ('ireland', 115): 3264, ('defi', 115): 3265, ('overr', 115): 3266, ('kapoor', 115): 3267, ('dose', 115): 3268, ('stole', 115): 3269, ('nerd', 115): 3270, ('conserv', 115): 3271, ('ramon', 115): 3272, ('twelv', 115): 3273, ('option', 115): 3274, ('boast', 115): 3275, ('mummi', 115): 3276, ('beatti', 115): 3277, ('blade', 115): 3278, ('candid', 115): 3279, ('mildr', 115): 3280, ('detract', 114): 3281, ('flame', 114): 3282, ('astonish', 114): 3283, ('trio', 114): 3284, ('altman', 114): 3285, ('collabor', 114): 3286, ('funer', 114): 3287, ('protest', 114): 3288, ('confirm', 114): 3289, ('natali', 114): 3290, ('kirk', 114): 3291, ('fulci', 114): 3292, ('jazz', 114): 3293, ('global', 114): 3294, ('leap', 113): 3295, ('spit', 113): 3296, ('shade', 113): 3297, ('racial', 113): 3298, ('yellow', 113): 3299, ('mystic', 113): 3300, ('destini', 113): 3301, ('bottl', 113): 3302, ('nicholson', 113): 3303, ('delici', 113): 3304, ('audio', 113): 3305, ('tommi', 113): 3306, ('blake', 113): 3307, ('whip', 113): 3308, ('bull', 113): 3309, ('enterpris', 113): 3310, ('bedroom', 112): 3311, ('adolesc', 112): 3312, ('pseudo', 112): 3313, ('threw', 112): 3314, ('merci', 112): 3315, ('meaningless', 112): 3316, ('todd', 112): 3317, ('inherit', 112): 3318, ('staff', 112): 3319, ('reunit', 112): 3320, ('popcorn', 112): 3321, ('swedish', 112): 3322, ('visibl', 112): 3323, ('harder', 112): 3324, ('fonda', 112): 3325, ('vivid', 112): 3326, ('altogeth', 112): 3327, ('enchant', 112): 3328, ('neo', 112): 3329, ('respond', 111): 3330, ('moodi', 111): 3331, ('uneven', 111): 3332, ('befriend', 111): 3333, ('lawrenc', 111): 3334, ('synopsi', 111): 3335, ('suspici', 111): 3336, ('await', 111): 3337, ('reserv', 111): 3338, ('wire', 111): 3339, ('crocodil', 111): 3340, ('bust', 111): 3341, ('madonna', 111): 3342, ('decor', 111): 3343, ('tip', 111): 3344, ('atlanti', 111): 3345, ('exhibit', 111): 3346, ('lemmon', 111): 3347, ('jew', 111): 3348, ('leonard', 111): 3349, ('ruthless', 111): 3350, ('kennedi', 111): 3351, ('edi', 111): 3352, ('roommat', 111): 3353, ('voight', 111): 3354, ('fanat', 111): 3355, ('bold', 110): 3356, ('ventur', 110): 3357, ('dimens', 110): 3358, ('2007', 110): 3359, ('carl', 110): 3360, ('bradi', 110): 3361, ('unsettl', 110): 3362, ('rural', 110): 3363, ('chao', 110): 3364, ('garner', 110): 3365, ('clint', 110): 3366, ('voyag', 110): 3367, ('incident', 110): 3368, ('audit', 110): 3369, ('holli', 110): 3370, ('abysm', 110): 3371, ('centr', 110): 3372, ('clumsi', 110): 3373, ('bargain', 110): 3374, ('palma', 110): 3375, ('cuba', 109): 3376, ('humili', 109): 3377, ('neglect', 109): 3378, ('imperson', 109): 3379, ('hart', 109): 3380, ('cari', 109): 3381, ('lit', 109): 3382, ('tiger', 109): 3383, ('2nd', 109): 3384, ('characterist', 109): 3385, ('troop', 109): 3386, ('versu', 109): 3387, ('elimin', 109): 3388, ('acknowledg', 109): 3389, ('trail', 109): 3390, ('echo', 109): 3391, ('timon', 109): 3392, ('mall', 109): 3393, ('wealth', 109): 3394, ('ant', 109): 3395, ('nearbi', 109): 3396, ('immigr', 109): 3397, ('daddi', 109): 3398, ('poetic', 109): 3399, ('cd', 109): 3400, ('prejudic', 108): 3401, ('domest', 108): 3402, ('marshal', 108): 3403, ('collaps', 108): 3404, ('infect', 108): 3405, ('homer', 108): 3406, ('pun', 108): 3407, ('jeffrey', 108): 3408, ('celluloid', 108): 3409, ('repuls', 108): 3410, ('saga', 108): 3411, ('solo', 108): 3412, ('mistaken', 108): 3413, ('paus', 108): 3414, ('mickey', 108): 3415, ('undoubtedli', 107): 3416, ('coffe', 107): 3417, ('interrupt', 107): 3418, ('chest', 107): 3419, ('milk', 107): 3420, ('gear', 107): 3421, ('assembl', 107): 3422, ('coat', 107): 3423, ('apolog', 107): 3424, ('inappropri', 107): 3425, ('cake', 107): 3426, ('inan', 107): 3427, ('sore', 107): 3428, ('promin', 107): 3429, ('tribe', 107): 3430, ('hbo', 107): 3431, ('1996', 107): 3432, ('harvey', 107): 3433, ('pant', 107): 3434, ('leon', 107): 3435, ('olivi', 107): 3436, ('equip', 107): 3437, ('ginger', 107): 3438, ('consum', 106): 3439, ('colonel', 106): 3440, ('pot', 106): 3441, ('primari', 106): 3442, ('devast', 106): 3443, ('institut', 106): 3444, ('brooklyn', 106): 3445, ('embrac', 106): 3446, ('exot', 106): 3447, ('furthermor', 106): 3448, ('highest', 106): 3449, ('pen', 106): 3450, ('colleagu', 106): 3451, ('aveng', 106): 3452, ('polanski', 106): 3453, ('trace', 106): 3454, ('humbl', 106): 3455, ('vulgar', 106): 3456, ('maggi', 106): 3457, ('florida', 106): 3458, ('retain', 106): 3459, ('jenni', 106): 3460, ('instant', 106): 3461, ('airplan', 106): 3462, ('solut', 106): 3463, ('ya', 105): 3464, ('linda', 105): 3465, ('1999', 105): 3466, ('principl', 105): 3467, ('descend', 105): 3468, ('illog', 105): 3469, ('rick', 105): 3470, ('bowl', 105): 3471, ('poke', 105): 3472, ('outer', 105): 3473, ('sale', 105): 3474, ('dutch', 105): 3475, ('dian', 105): 3476, ('smaller', 105): 3477, ('seduct', 105): 3478, ('3rd', 105): 3479, ('wive', 105): 3480, ('cope', 105): 3481, ('strain', 105): 3482, ('gender', 105): 3483, ('godzilla', 105): 3484, ('disabl', 105): 3485, ('dud', 104): 3486, ('bubbl', 104): 3487, ('vast', 104): 3488, ('cue', 104): 3489, ('primarili', 104): 3490, ('rabbit', 104): 3491, ('glamor', 104): 3492, ('secondli', 104): 3493, ('devoid', 104): 3494, ('mixtur', 104): 3495, ('scope', 104): 3496, ('blatant', 104): 3497, ('lol', 104): 3498, ('beneath', 104): 3499, ('dive', 104): 3500, ('hal', 104): 3501, ('inferior', 104): 3502, ('gloriou', 104): 3503, ('predecessor', 104): 3504, ('yard', 104): 3505, ('gundam', 104): 3506, ('disjoint', 103): 3507, ('hideou', 103): 3508, ('shirley', 103): 3509, ('aggress', 103): 3510, ('trademark', 103): 3511, ('pearl', 103): 3512, ('senseless', 103): 3513, ('et', 103): 3514, ('alert', 103): 3515, ('shelf', 103): 3516, ('simplist', 103): 3517, ('arab', 103): 3518, ('museum', 103): 3519, ('alfr', 103): 3520, ('grinch', 103): 3521, ('breed', 103): 3522, ('z', 103): 3523, ('invas', 103): 3524, ('myer', 103): 3525, ('streep', 103): 3526, ('april', 103): 3527, ('talki', 103): 3528, ('countrysid', 103): 3529, ('domino', 103): 3530, ('casual', 103): 3531, ('garbo', 103): 3532, ('disgrac', 102): 3533, ('loyal', 102): 3534, ('applaud', 102): 3535, ('acid', 102): 3536, ('defens', 102): 3537, ('stack', 102): 3538, ('hardcor', 102): 3539, ('vanish', 102): 3540, ('rendit', 102): 3541, ('experiment', 102): 3542, ('robinson', 102): 3543, ('mail', 102): 3544, ('maci', 102): 3545, ('slide', 102): 3546, ('robberi', 102): 3547, ('hopeless', 102): 3548, ('uwe', 102): 3549, ('stir', 102): 3550, ('boom', 102): 3551, ('mayor', 102): 3552, ('illeg', 102): 3553, ('oz', 102): 3554, ('obtain', 102): 3555, ('unhappi', 102): 3556, ('stellar', 102): 3557, ('khan', 102): 3558, ('sh', 102): 3559, ('wont', 101): 3560, ('berlin', 101): 3561, ('tempt', 101): 3562, ('declin', 101): 3563, ('counter', 101): 3564, ('psychic', 101): 3565, ('dismiss', 101): 3566, ('incomprehens', 101): 3567, ('emphasi', 101): 3568, ('grandfath', 101): 3569, ('tenant', 101): 3570, ('rifl', 101): 3571, ('fri', 101): 3572, ('craze', 101): 3573, ('recruit', 101): 3574, ('blew', 101): 3575, ('span', 101): 3576, ('spider', 101): 3577, ('diana', 101): 3578, ('scroog', 101): 3579, ('soccer', 101): 3580, ('amanda', 101): 3581, ('topless', 101): 3582, ('hartley', 101): 3583, ('dicken', 101): 3584, ('justin', 100): 3585, ('shed', 100): 3586, ('resurrect', 100): 3587, ('sibl', 100): 3588, ('woo', 100): 3589, ('goer', 100): 3590, ('bitch', 100): 3591, ('trashi', 100): 3592, ('shaw', 100): 3593, ('riot', 100): 3594, ('parad', 100): 3595, ('revolt', 100): 3596, ('sympath', 100): 3597, ('faster', 100): 3598, ('wet', 100): 3599, ('ethnic', 100): 3600, ('ration', 100): 3601, ('lumet', 100): 3602, ('niro', 100): 3603, ('intim', 100): 3604, ('porno', 100): 3605, ('ballet', 99): 3606, ('slick', 99): 3607, ('enlighten', 99): 3608, ('unreal', 99): 3609, ('00', 99): 3610, ('worm', 99): 3611, ('dealer', 99): 3612, ('ensur', 99): 3613, ('commend', 99): 3614, ('wheel', 99): 3615, ('biographi', 99): 3616, ('farmer', 99): 3617, ('hopper', 99): 3618, ('mario', 99): 3619, ('gap', 99): 3620, ('immort', 99): 3621, ('honesti', 99): 3622, ('region', 99): 3623, ('wendi', 99): 3624, ('steam', 99): 3625, ('feminist', 99): 3626, ('weakest', 99): 3627, ('andr', 99): 3628, ('patriot', 99): 3629, ('partial', 99): 3630, ('jonathan', 99): 3631, ('eager', 99): 3632, ('hesit', 99): 3633, ('lena', 99): 3634, ('choru', 99): 3635, ('rider', 99): 3636, ('nephew', 99): 3637, ('sappi', 98): 3638, ('composit', 98): 3639, ('repress', 98): 3640, ('wore', 98): 3641, ('blunt', 98): 3642, ('confin', 98): 3643, ('mutant', 98): 3644, ('psychopath', 98): 3645, ('nostalg', 98): 3646, ('skull', 98): 3647, ('vice', 98): 3648, ('charlott', 98): 3649, ('similarli', 98): 3650, ('leo', 98): 3651, ('franco', 98): 3652, ('hung', 98): 3653, ('owen', 98): 3654, ('properti', 98): 3655, ('kingdom', 98): 3656, ('util', 98): 3657, ('safeti', 98): 3658, ('prequel', 98): 3659, ('victori', 98): 3660, ('sandra', 98): 3661, ('snap', 98): 3662, ('morri', 98): 3663, ('macarthur', 98): 3664, ('drum', 97): 3665, ('rope', 97): 3666, ('strand', 97): 3667, ('emperor', 97): 3668, ('drain', 97): 3669, ('nervou', 97): 3670, ('exit', 97): 3671, ('speci', 97): 3672, ('tad', 97): 3673, ('campbel', 97): 3674, ('compens', 97): 3675, ('rocki', 97): 3676, ('tail', 97): 3677, ('hyde', 97): 3678, ('despair', 97): 3679, ('heartbreak', 97): 3680, ('deed', 97): 3681, ('bow', 97): 3682, ('dalton', 97): 3683, ('rambl', 97): 3684, ('bergman', 97): 3685, ('miseri', 97): 3686, ('montana', 97): 3687, ('whoopi', 97): 3688, ('1972', 97): 3689, ('repli', 97): 3690, ('farrel', 97): 3691, ('bonu', 97): 3692, ('acquir', 97): 3693, ('latin', 97): 3694, ('compass', 97): 3695, ('bumbl', 97): 3696, ('recycl', 97): 3697, ('cg', 97): 3698, ('dust', 97): 3699, ('thru', 97): 3700, ('valuabl', 97): 3701, ('kyle', 97): 3702, ('del', 97): 3703, ('snl', 97): 3704, ('pattern', 97): 3705, ('oppress', 96): 3706, ('roth', 96): 3707, ('romp', 96): 3708, ('tonight', 96): 3709, ('pour', 96): 3710, ('downhil', 96): 3711, ('carradin', 96): 3712, ('da', 96): 3713, ('radic', 96): 3714, ('rapist', 96): 3715, ('slug', 96): 3716, ('rotten', 96): 3717, ('35', 96): 3718, ('wacki', 96): 3719, ('chess', 96): 3720, ('orson', 96): 3721, ('gal', 96): 3722, ('mistress', 96): 3723, ('bleed', 96): 3724, ('martian', 96): 3725, ('olli', 96): 3726, ('percept', 96): 3727, ('gimmick', 96): 3728, ('airport', 96): 3729, ('contempl', 96): 3730, ('slash', 95): 3731, ('paltrow', 95): 3732, ('unpredict', 95): 3733, ('programm', 95): 3734, ('taught', 95): 3735, ('dazzl', 95): 3736, ('preach', 95): 3737, ('tackl', 95): 3738, ('belt', 95): 3739, ('heal', 95): 3740, ('pervert', 95): 3741, ('1983', 95): 3742, ('arc', 95): 3743, ('pursuit', 95): 3744, ('shelley', 95): 3745, ('attorney', 95): 3746, ('stilt', 95): 3747, ('mislead', 95): 3748, ('edgar', 95): 3749, ('banal', 95): 3750, ('arguabl', 95): 3751, ('champion', 95): 3752, ('melodi', 95): 3753, ('pervers', 95): 3754, ('tooth', 95): 3755, ('mesmer', 94): 3756, ('dixon', 94): 3757, ('gambl', 94): 3758, ('chicken', 94): 3759, ('tiresom', 94): 3760, ('conneri', 94): 3761, ('vengeanc', 94): 3762, ('duval', 94): 3763, ('uplift', 94): 3764, ('closest', 94): 3765, ('cleverli', 94): 3766, ('passeng', 94): 3767, ('franki', 94): 3768, ('rubi', 94): 3769, ('employe', 94): 3770, ('plight', 94): 3771, ('poem', 94): 3772, ('bela', 94): 3773, ('sensat', 94): 3774, ('maid', 94): 3775, ('orang', 94): 3776, ('virginia', 94): 3777, ('graham', 94): 3778, ('vocal', 94): 3779, ('raymond', 94): 3780, ('marti', 94): 3781, ('monologu', 93): 3782, ('secretli', 93): 3783, ('outing', 93): 3784, ('mute', 93): 3785, ('habit', 93): 3786, ('crystal', 93): 3787, ('quarter', 93): 3788, ('convincingli', 93): 3789, ('bay', 93): 3790, ('sirk', 93): 3791, ('whine', 93): 3792, ('clone', 93): 3793, ('inject', 93): 3794, ('swallow', 93): 3795, ('giggl', 93): 3796, ('gerard', 93): 3797, ('amitabh', 93): 3798, ('tube', 93): 3799, ('numb', 93): 3800, ('calm', 93): 3801, ('climact', 93): 3802, ('extens', 93): 3803, ('profan', 93): 3804, ('lundgren', 93): 3805, ('scottish', 93): 3806, ('volum', 93): 3807, ('suffic', 93): 3808, ('yawn', 93): 3809, ('1968', 93): 3810, ('engross', 93): 3811, ('paranoia', 93): 3812, ('iran', 93): 3813, ('abraham', 93): 3814, ('pokemon', 93): 3815, ('abort', 92): 3816, ('bend', 92): 3817, ('meander', 92): 3818, ('poetri', 92): 3819, ('earl', 92): 3820, ('franci', 92): 3821, ('fed', 92): 3822, ('linger', 92): 3823, ('septemb', 92): 3824, ('dispos', 92): 3825, ('im', 92): 3826, ('lowest', 92): 3827, ('plod', 92): 3828, ('backward', 92): 3829, ('frankenstein', 92): 3830, ('ethan', 92): 3831, ('profess', 92): 3832, ('surpass', 92): 3833, ('austen', 92): 3834, ('junior', 92): 3835, ('richardson', 92): 3836, ('trend', 92): 3837, ('spock', 92): 3838, ('nichola', 92): 3839, ('chicago', 92): 3840, ('taxi', 92): 3841, ('expand', 92): 3842, ('grotesqu', 92): 3843, ('underst', 92): 3844, ('nostalgia', 91): 3845, ('sue', 91): 3846, ('catchi', 91): 3847, ('dysfunct', 91): 3848, ('hum', 91): 3849, ('simplic', 91): 3850, ('rant', 91): 3851, ('instrument', 91): 3852, ('greedi', 91): 3853, ('rubber', 91): 3854, ('tourist', 91): 3855, ('waitress', 91): 3856, ('stallon', 91): 3857, ('spoke', 91): 3858, ('household', 91): 3859, ('compliment', 91): 3860, ('der', 91): 3861, ('descent', 91): 3862, ('lure', 91): 3863, ('literatur', 91): 3864, ('mundan', 91): 3865, ('cannon', 91): 3866, ('econom', 91): 3867, ('myth', 91): 3868, ('muddl', 91): 3869, ('eugen', 91): 3870, ('map', 90): 3871, ('carel', 90): 3872, ('irrelev', 90): 3873, ('deaf', 90): 3874, ('phoni', 90): 3875, ('hello', 90): 3876, ('furi', 90): 3877, ('phantom', 90): 3878, ('mortal', 90): 3879, ('stale', 90): 3880, ('coast', 90): 3881, ('dictat', 90): 3882, ('lang', 90): 3883, ('flee', 90): 3884, ('eaten', 90): 3885, ('omen', 90): 3886, ('insur', 90): 3887, ('alongsid', 90): 3888, ('firstli', 90): 3889, ('june', 90): 3890, ('molli', 90): 3891, ('dement', 90): 3892, ('crucial', 90): 3893, ('occupi', 90): 3894, ('bacal', 90): 3895, ('duck', 90): 3896, ('louis', 90): 3897, ('equival', 90): 3898, ('recognis', 90): 3899, ('cent', 90): 3900, ('randi', 90): 3901, ('mankind', 90): 3902, ('recognit', 90): 3903, ('damon', 90): 3904, ('sissi', 90): 3905, ('ashley', 89): 3906, ('loyalti', 89): 3907, ('labor', 89): 3908, ('twilight', 89): 3909, ('newli', 89): 3910, ('rude', 89): 3911, ('bump', 89): 3912, ('cyborg', 89): 3913, ('likewis', 89): 3914, ('lengthi', 89): 3915, ('heel', 89): 3916, ('blackmail', 89): 3917, ('dreari', 89): 3918, ('bike', 89): 3919, ('daisi', 89): 3920, ('damm', 89): 3921, ('biko', 89): 3922, ('onlin', 89): 3923, ('freez', 89): 3924, ('reign', 89): 3925, ('1973', 89): 3926, ('antwon', 89): 3927, ('drake', 89): 3928, ('grayson', 89): 3929, ('wisdom', 89): 3930, ('distinguish', 89): 3931, ('buffalo', 89): 3932, ('rooney', 89): 3933, ('baddi', 88): 3934, ('incorpor', 88): 3935, ('ridden', 88): 3936, ('worn', 88): 3937, ('pink', 88): 3938, ('basketbal', 88): 3939, ('keith', 88): 3940, ('unorigin', 88): 3941, ('attribut', 88): 3942, ('chronicl', 88): 3943, ('exposur', 88): 3944, ('analysi', 88): 3945, ('proce', 88): 3946, ('boxer', 88): 3947, ('inher', 88): 3948, ('nineti', 88): 3949, ('interior', 88): 3950, ('tunnel', 88): 3951, ('barrymor', 88): 3952, ('approv', 88): 3953, ('prey', 88): 3954, ('emphas', 88): 3955, ('sailor', 88): 3956, ('butler', 88): 3957, ('vein', 88): 3958, ('provoc', 88): 3959, ('startl', 88): 3960, ('belushi', 87): 3961, ('substitut', 87): 3962, ('degrad', 87): 3963, ('underli', 87): 3964, ('improvis', 87): 3965, ('nicol', 87): 3966, ('drift', 87): 3967, ('er', 87): 3968, ('mormon', 87): 3969, ('unrel', 87): 3970, ('millionair', 87): 3971, ('mighti', 87): 3972, ('indiffer', 87): 3973, ('fleet', 87): 3974, ('predat', 87): 3975, ('condemn', 87): 3976, ('undeni', 87): 3977, ('meyer', 87): 3978, ('barrel', 87): 3979, ('stalker', 87): 3980, ('othello', 87): 3981, ('walsh', 87): 3982, ('bunni', 87): 3983, ('hypnot', 87): 3984, ('elm', 87): 3985, ('carla', 87): 3986, ('simmon', 87): 3987, ('julian', 87): 3988, ('robbin', 87): 3989, ('meg', 87): 3990, ('greed', 86): 3991, ('hay', 86): 3992, ('alarm', 86): 3993, ('vital', 86): 3994, ('unawar', 86): 3995, ('exquisit', 86): 3996, ('nyc', 86): 3997, ('watson', 86): 3998, ('alison', 86): 3999, ('shove', 86): 4000, ('enthusiasm', 86): 4001, ('disord', 86): 4002, ('edgi', 86): 4003, ('mtv', 86): 4004, ('warmth', 86): 4005, ('priceless', 86): 4006, ('novak', 86): 4007, ('dolph', 86): 4008, ('roof', 86): 4009, ('3d', 86): 4010, ('firm', 86): 4011, ('palac', 86): 4012, ('marion', 86): 4013, ('lampoon', 86): 4014, ('agenda', 86): 4015, ('errol', 86): 4016, ('rukh', 86): 4017, ('reid', 86): 4018, ('glanc', 85): 4019, ('drip', 85): 4020, ('petti', 85): 4021, ('orlean', 85): 4022, ('israel', 85): 4023, ('crown', 85): 4024, ('iraq', 85): 4025, ('preserv', 85): 4026, ('randomli', 85): 4027, ('coup', 85): 4028, ('championship', 85): 4029, ('peck', 85): 4030, ('eastern', 85): 4031, ('angela', 85): 4032, ('unleash', 85): 4033, ('distort', 85): 4034, ('profit', 85): 4035, ('peril', 85): 4036, ('simultan', 85): 4037, ('sergeant', 85): 4038, ('cassidi', 85): 4039, ('gestur', 85): 4040, ('nun', 85): 4041, ('testament', 85): 4042, ('minimum', 85): 4043, ('session', 85): 4044, ('campaign', 85): 4045, ('valentin', 85): 4046, ('what', 85): 4047, ('spain', 85): 4048, ('13th', 85): 4049, ('1933', 85): 4050, ('ponder', 85): 4051, ('beatl', 85): 4052, ('pamela', 85): 4053, ('thompson', 85): 4054, ('showdown', 85): 4055, ('zizek', 85): 4056, ('jan', 84): 4057, ('represent', 84): 4058, ('restrain', 84): 4059, ('valley', 84): 4060, ('stroke', 84): 4061, ('stake', 84): 4062, ('unimagin', 84): 4063, ('reson', 84): 4064, ('brenda', 84): 4065, ('exposit', 84): 4066, ('mon', 84): 4067, ('han', 84): 4068, ('cream', 84): 4069, ('rout', 84): 4070, ('climat', 84): 4071, ('shootout', 84): 4072, ('calib', 84): 4073, ('bro', 84): 4074, ('realm', 84): 4075, ('gentleman', 84): 4076, ('1984', 84): 4077, ('quinn', 84): 4078, ('contradict', 84): 4079, ('crow', 84): 4080, ('regist', 84): 4081, ('perpetu', 84): 4082, ('crawl', 84): 4083, ('travesti', 84): 4084, ('sabrina', 84): 4085, ('scotland', 84): 4086, ('empathi', 84): 4087, ('wig', 84): 4088, ('kurosawa', 84): 4089, ('miyazaki', 84): 4090, ('buster', 84): 4091, ('cooki', 84): 4092, ('fido', 84): 4093, ('din', 84): 4094, ('femm', 83): 4095, ('cloud', 83): 4096, ('dana', 83): 4097, ('traumat', 83): 4098, ('censor', 83): 4099, ('1997', 83): 4100, ('painter', 83): 4101, ('shoddi', 83): 4102, ('tacki', 83): 4103, ('monoton', 83): 4104, ('derang', 83): 4105, ('geek', 83): 4106, ('greg', 83): 4107, ('absent', 83): 4108, ('abomin', 83): 4109, ('sammi', 83): 4110, ('wax', 83): 4111, ('crawford', 83): 4112, ('businessman', 83): 4113, ('unseen', 83): 4114, ('passabl', 83): 4115, ('unsatisfi', 83): 4116, ('sucker', 83): 4117, ('mclaglen', 83): 4118, ('pretens', 83): 4119, ('pole', 83): 4120, ('distress', 83): 4121, ('meryl', 83): 4122, ('ross', 83): 4123, ('josh', 83): 4124, ('perceiv', 83): 4125, ('baldwin', 83): 4126, ('stargat', 83): 4127, ('compromis', 83): 4128, ('1987', 83): 4129, ('ustinov', 83): 4130, ('warrant', 83): 4131, ('shaki', 83): 4132, ('demis', 83): 4133, ('darren', 83): 4134, ('delic', 83): 4135, ('soderbergh', 83): 4136, ('fuller', 83): 4137, ('spacey', 83): 4138, ('antonioni', 82): 4139, ('tarantino', 82): 4140, ('uncov', 82): 4141, ('accuraci', 82): 4142, ('fog', 82): 4143, ('austin', 82): 4144, ('seal', 82): 4145, ('correctli', 82): 4146, ('deceas', 82): 4147, ('kumar', 82): 4148, ('jewel', 82): 4149, ('primit', 82): 4150, ('norm', 82): 4151, ('judgment', 82): 4152, ('clash', 82): 4153, ('wholli', 82): 4154, ('deniro', 82): 4155, ('unravel', 82): 4156, ('valid', 82): 4157, ('verbal', 82): 4158, ('tech', 82): 4159, ('expedit', 82): 4160, ('1993', 82): 4161, ('furiou', 82): 4162, ('dee', 82): 4163, ('exclus', 82): 4164, ('nathan', 82): 4165, ('reluct', 82): 4166, ('polici', 82): 4167, ('sid', 82): 4168, ('click', 82): 4169, ('fenc', 82): 4170, ('anchor', 82): 4171, ('3000', 81): 4172, ('fought', 81): 4173, ('unfair', 81): 4174, ('1995', 81): 4175, ('1971', 81): 4176, ('wretch', 81): 4177, ('enforc', 81): 4178, ('crippl', 81): 4179, ('logan', 81): 4180, ('ritual', 81): 4181, ('slam', 81): 4182, ('fart', 81): 4183, ('pocket', 81): 4184, ('roller', 81): 4185, ('behold', 81): 4186, ('sustain', 81): 4187, ('wang', 81): 4188, ('darn', 81): 4189, ('tax', 81): 4190, ('sand', 81): 4191, ('conduct', 81): 4192, ('hallucin', 81): 4193, ('seldom', 81): 4194, ('patienc', 81): 4195, ('mode', 81): 4196, ('dreck', 81): 4197, ('debt', 81): 4198, ('nicola', 81): 4199, ('alec', 81): 4200, ('sheet', 81): 4201, ('clerk', 81): 4202, ('vanc', 81): 4203, ('sunni', 81): 4204, ('trait', 81): 4205, ('shanghai', 81): 4206, ('2008', 81): 4207, ('murray', 81): 4208, ('joel', 81): 4209, ('bake', 81): 4210, ('temper', 81): 4211, ('fabric', 81): 4212, ('malon', 81): 4213, ('bridget', 80): 4214, ('technicolor', 80): 4215, ('exhaust', 80): 4216, ('stark', 80): 4217, ('guitar', 80): 4218, ('shell', 80): 4219, ('tactic', 80): 4220, ('critiqu', 80): 4221, ('outlin', 80): 4222, ('schedul', 80): 4223, ('grief', 80): 4224, ('soup', 80): 4225, ('clau', 80): 4226, ('bias', 80): 4227, ('preposter', 80): 4228, ('scriptwrit', 80): 4229, ('penni', 80): 4230, ('conscious', 80): 4231, ('phil', 80): 4232, ('robber', 80): 4233, ('isabel', 80): 4234, ('divid', 80): 4235, ('stuart', 80): 4236, ('fundament', 80): 4237, ('helpless', 80): 4238, ('rita', 80): 4239, ('sweep', 80): 4240, ('despis', 80): 4241, ('canyon', 80): 4242, ('squad', 80): 4243, ('legaci', 80): 4244, ('preston', 80): 4245, ('pete', 80): 4246, ('runner', 80): 4247, ('marc', 79): 4248, ('inabl', 79): 4249, ('russia', 79): 4250, ('palanc', 79): 4251, ('jacket', 79): 4252, ('alicia', 79): 4253, ('sentinel', 79): 4254, ('rehash', 79): 4255, ('unexpectedli', 79): 4256, ('downey', 79): 4257, ('connor', 79): 4258, ('lacklust', 79): 4259, ('invad', 79): 4260, ('delv', 79): 4261, ('restrict', 79): 4262, ('bloom', 79): 4263, ('consciou', 79): 4264, ('drove', 79): 4265, ('flair', 79): 4266, ('implic', 79): 4267, ('propos', 79): 4268, ('sugar', 79): 4269, ('alley', 79): 4270, ('passag', 79): 4271, ('sniper', 79): 4272, ('cigarett', 79): 4273, ('boyl', 79): 4274, ('agenc', 79): 4275, ('liberti', 79): 4276, ('jodi', 79): 4277, ('rear', 79): 4278, ('kansa', 79): 4279, ('culmin', 79): 4280, ('vomit', 79): 4281, ('gregori', 79): 4282, ('newman', 79): 4283, ('karl', 78): 4284, ('tendenc', 78): 4285, ('horn', 78): 4286, ('22', 78): 4287, ('yeti', 78): 4288, ('rampag', 78): 4289, ('feat', 78): 4290, ('1936', 78): 4291, ('rehears', 78): 4292, ('delet', 78): 4293, ('behaviour', 78): 4294, ('cap', 78): 4295, ('improb', 78): 4296, ('tripe', 78): 4297, ('ladder', 78): 4298, ('lush', 78): 4299, ('asylum', 78): 4300, ('rod', 78): 4301, ('pale', 78): 4302, ('wrench', 78): 4303, ('awhil', 78): 4304, ('vet', 78): 4305, ('aesthet', 78): 4306, ('foxx', 78): 4307, ('arrow', 78): 4308, ('chainsaw', 78): 4309, ('sharon', 78): 4310, ('bacon', 78): 4311, ('mccoy', 78): 4312, ('kolchak', 78): 4313, ('wildli', 77): 4314, ('loneli', 77): 4315, ('el', 77): 4316, ('1988', 77): 4317, ('1920', 77): 4318, ('visitor', 77): 4319, ('spice', 77): 4320, ('hungri', 77): 4321, ('tomorrow', 77): 4322, ('coaster', 77): 4323, ('19th', 77): 4324, ('wagner', 77): 4325, ('paradis', 77): 4326, ('scoop', 77): 4327, ('hackney', 77): 4328, ('amazon', 77): 4329, ('rumor', 77): 4330, ('suspicion', 77): 4331, ('stream', 77): 4332, ('lurk', 77): 4333, ('filler', 77): 4334, ('suffici', 77): 4335, ('elit', 77): 4336, ('sung', 77): 4337, ('financ', 77): 4338, ('globe', 77): 4339, ('underneath', 77): 4340, ('tasteless', 77): 4341, ('shortcom', 77): 4342, ('1978', 77): 4343, ('weav', 77): 4344, ('prank', 77): 4345, ('minu', 77): 4346, ('basing', 77): 4347, ('aristocrat', 77): 4348, ('rhythm', 77): 4349, ('hulk', 77): 4350, ('newcom', 77): 4351, ('fright', 77): 4352, ('conscienc', 77): 4353, ('paramount', 77): 4354, ('thunderbird', 77): 4355, ('cancer', 76): 4356, ('beverli', 76): 4357, ('1939', 76): 4358, ('tierney', 76): 4359, ('ingeni', 76): 4360, ('standout', 76): 4361, ('dirt', 76): 4362, ('bread', 76): 4363, ('quietli', 76): 4364, ('ram', 76): 4365, ('worship', 76): 4366, ('iv', 76): 4367, ('straightforward', 76): 4368, ('penn', 76): 4369, ('minist', 76): 4370, ('en', 76): 4371, ('choppi', 76): 4372, ('entranc', 76): 4373, ('recogniz', 76): 4374, ('inmat', 76): 4375, ('secondari', 76): 4376, ('couch', 76): 4377, ('smell', 76): 4378, ('naughti', 76): 4379, ('counterpart', 76): 4380, ('chavez', 76): 4381, ('1989', 76): 4382, ('atroc', 76): 4383, ('75', 76): 4384, ('brit', 76): 4385, ('rub', 76): 4386, ('literari', 76): 4387, ('paxton', 76): 4388, ('immers', 76): 4389, ('hopkin', 76): 4390, ('impos', 76): 4391, ('heist', 76): 4392, ('abrupt', 76): 4393, ('teas', 76): 4394, ('curli', 76): 4395, ('lectur', 76): 4396, ('posey', 76): 4397, ('grudg', 76): 4398, ('chamberlain', 76): 4399, ('leigh', 76): 4400, ('springer', 76): 4401, ('wwe', 76): 4402, ('duel', 75): 4403, ('nemesi', 75): 4404, ('missil', 75): 4405, ('entitl', 75): 4406, ('esther', 75): 4407, ('moreov', 75): 4408, ('variat', 75): 4409, ('enthral', 75): 4410, ('morbid', 75): 4411, ('net', 75): 4412, ('injuri', 75): 4413, ('1986', 75): 4414, ('attenborough', 75): 4415, ('clan', 75): 4416, ('transcend', 75): 4417, ('heartfelt', 75): 4418, ('convert', 75): 4419, ('sassi', 75): 4420, ('ace', 75): 4421, ('cattl', 75): 4422, ('bernard', 75): 4423, ('geni', 75): 4424, ('watcher', 75): 4425, ('laurenc', 75): 4426, ('policeman', 75): 4427, ('skeptic', 75): 4428, ('yearn', 75): 4429, ('lindsay', 75): 4430, ('ratso', 75): 4431, ('sublim', 75): 4432, ('quaid', 75): 4433, ('misguid', 75): 4434, ('nolan', 75): 4435, ('moder', 74): 4436, ('artsi', 74): 4437, ('hopelessli', 74): 4438, ('facil', 74): 4439, ('poe', 74): 4440, ('grin', 74): 4441, ('vader', 74): 4442, ('buzz', 74): 4443, ('bean', 74): 4444, ('steadi', 74): 4445, ('graini', 74): 4446, ('egg', 74): 4447, ('brood', 74): 4448, ('out', 74): 4449, ('rosemari', 74): 4450, ('kidman', 74): 4451, ('dont', 74): 4452, ('unexplain', 74): 4453, ('tyler', 74): 4454, ('1979', 74): 4455, ('hk', 74): 4456, ('characteris', 74): 4457, ('setup', 74): 4458, ('bye', 74): 4459, ('obstacl', 74): 4460, ('puppi', 74): 4461, ('mytholog', 74): 4462, ('reliabl', 74): 4463, ('cruelti', 74): 4464, ('enabl', 74): 4465, ('kitti', 74): 4466, ('diari', 74): 4467, ('uncut', 74): 4468, ('youngest', 74): 4469, ('carlito', 74): 4470, ('spiral', 74): 4471, ('fuel', 73): 4472, ('underworld', 73): 4473, ('hain', 73): 4474, ('spontan', 73): 4475, ('bewar', 73): 4476, ('clueless', 73): 4477, ('weather', 73): 4478, ('patricia', 73): 4479, ('gina', 73): 4480, ('bronson', 73): 4481, ('christin', 73): 4482, ('niec', 73): 4483, ('kline', 73): 4484, ('heap', 73): 4485, ('despic', 73): 4486, ('exterior', 73): 4487, ('oblig', 73): 4488, ('disastr', 73): 4489, ('decept', 73): 4490, ('acquaint', 73): 4491, ('baffl', 73): 4492, ('athlet', 73): 4493, ('bounc', 73): 4494, ('effici', 73): 4495, ('martha', 73): 4496, ('sweat', 73): 4497, ('narrow', 73): 4498, ('1969', 73): 4499, ('hammi', 73): 4500, ('preming', 73): 4501, ('brendan', 73): 4502, ('gillian', 73): 4503, ('rome', 72): 4504, ('angst', 72): 4505, ('insipid', 72): 4506, ('headach', 72): 4507, ('loi', 72): 4508, ('analyz', 72): 4509, ('sooner', 72): 4510, ('mayhem', 72): 4511, ('harmless', 72): 4512, ('shatter', 72): 4513, ('enlist', 72): 4514, ('trigger', 72): 4515, ('biker', 72): 4516, ('uh', 72): 4517, ('candl', 72): 4518, ('preachi', 72): 4519, ('suprem', 72): 4520, ('injur', 72): 4521, ('scar', 72): 4522, ('circu', 72): 4523, ('tick', 72): 4524, ('housewif', 72): 4525, ('19', 72): 4526, ('sleepwalk', 72): 4527, ('viewpoint', 72): 4528, ('virtu', 72): 4529, ('outlaw', 72): 4530, ('mermaid', 72): 4531, ('dilemma', 72): 4532, ('hepburn', 72): 4533, ('astound', 72): 4534, ('taboo', 72): 4535, ('73', 72): 4536, ('loath', 72): 4537, ('renaiss', 72): 4538, ('fontain', 72): 4539, ('dandi', 72): 4540, ('lester', 72): 4541, ('goof', 72): 4542, ('redund', 71): 4543, ('spade', 71): 4544, ('ebert', 71): 4545, ('whore', 71): 4546, ('camcord', 71): 4547, ('zoom', 71): 4548, ('foolish', 71): 4549, ('amor', 71): 4550, ('bent', 71): 4551, ('salt', 71): 4552, ('oldest', 71): 4553, ('hooker', 71): 4554, ('hostag', 71): 4555, ('stair', 71): 4556, ('gere', 71): 4557, ('overlong', 71): 4558, ('phenomenon', 71): 4559, ('hokey', 71): 4560, ('stimul', 71): 4561, ('filth', 71): 4562, ('claustrophob', 71): 4563, ('ariel', 71): 4564, ('guin', 71): 4565, ('contempt', 71): 4566, ('glorifi', 71): 4567, ('tripl', 71): 4568, ('corbett', 71): 4569, ('steer', 71): 4570, ('intric', 71): 4571, ('slimi', 71): 4572, ('macho', 71): 4573, ('fluff', 71): 4574, ('dish', 71): 4575, ('boston', 71): 4576, ('sox', 71): 4577, ('scorses', 71): 4578, ('dismal', 71): 4579, ('immatur', 71): 4580, ('idol', 71): 4581, ('surgeri', 71): 4582, ('cassavet', 71): 4583, ('corman', 70): 4584, ('assert', 70): 4585, ('spree', 70): 4586, ('antagonist', 70): 4587, ('proport', 70): 4588, ('preced', 70): 4589, ('naschi', 70): 4590, ('cush', 70): 4591, ('nolt', 70): 4592, ('1976', 70): 4593, ('rhyme', 70): 4594, ('gasp', 70): 4595, ('cow', 70): 4596, ('muscl', 70): 4597, ('flag', 70): 4598, ('flirt', 70): 4599, ('schlock', 70): 4600, ('remad', 70): 4601, ('shred', 70): 4602, ('trivia', 70): 4603, ('cohen', 70): 4604, ('fascist', 70): 4605, ('joker', 70): 4606, ('transplant', 70): 4607, ('harold', 70): 4608, ('mutual', 70): 4609, ('1981', 70): 4610, ('strongest', 70): 4611, ('perman', 70): 4612, ('mount', 70): 4613, ('spinal', 70): 4614, ('dwarf', 70): 4615, ('flashi', 70): 4616, ('zane', 70): 4617, ('gabl', 70): 4618, ('keen', 70): 4619, ('down', 70): 4620, ('radiat', 70): 4621, ('faint', 70): 4622, ('conquer', 70): 4623, ('shield', 70): 4624, ('obligatori', 70): 4625, ('widescreen', 70): 4626, ('frantic', 70): 4627, ('beard', 70): 4628, ('astronaut', 70): 4629, ('alvin', 70): 4630, ('margin', 70): 4631, ('messi', 70): 4632, ('bachelor', 69): 4633, ('divin', 69): 4634, ('95', 69): 4635, ('deer', 69): 4636, ('archiv', 69): 4637, ('bitten', 69): 4638, ('interestingli', 69): 4639, ('28', 69): 4640, ('off', 69): 4641, ('departur', 69): 4642, ('persuad', 69): 4643, ('ritchi', 69): 4644, ('claud', 69): 4645, ('resum', 69): 4646, ('discern', 69): 4647, ('boob', 69): 4648, ('neurot', 69): 4649, ('scandal', 69): 4650, ('instruct', 69): 4651, ('vaniti', 69): 4652, ('sensual', 69): 4653, ('flock', 69): 4654, ('strive', 69): 4655, ('repris', 69): 4656, ('brush', 69): 4657, ('1945', 69): 4658, ('inflict', 69): 4659, ('someday', 69): 4660, ('barn', 69): 4661, ('www', 69): 4662, ('danish', 69): 4663, ('hara', 69): 4664, ('info', 69): 4665, ('triangl', 69): 4666, ('wield', 69): 4667, ('mobil', 69): 4668, ('fishburn', 69): 4669, ('aborigin', 69): 4670, ('mol', 69): 4671, ('carey', 69): 4672, ('raj', 69): 4673, ('bate', 68): 4674, ('vibrant', 68): 4675, ('clad', 68): 4676, ('luka', 68): 4677, ('hug', 68): 4678, ('casino', 68): 4679, ('proclaim', 68): 4680, ('mobster', 68): 4681, ('ish', 68): 4682, ('carlo', 68): 4683, ('timberlak', 68): 4684, ('dylan', 68): 4685, ('melissa', 68): 4686, ('wendigo', 68): 4687, ('biblic', 68): 4688, ('helm', 68): 4689, ('miracul', 68): 4690, ('harrison', 68): 4691, ('cycl', 68): 4692, ('prophet', 68): 4693, ('fragil', 68): 4694, ('dame', 68): 4695, ('hilar', 68): 4696, ('colin', 68): 4697, ('pacif', 68): 4698, ('parson', 68): 4699, ('cb', 68): 4700, ('artwork', 68): 4701, ('hapless', 68): 4702, ('submit', 68): 4703, ('dim', 68): 4704, ('loretta', 68): 4705, ('undermin', 68): 4706, ('recit', 68): 4707, ('cliffhang', 68): 4708, ('rot', 68): 4709, ('heartwarm', 68): 4710, ('banter', 68): 4711, ('earnest', 68): 4712, ('senior', 68): 4713, ('frontier', 68): 4714, ('traffic', 68): 4715, ('anton', 68): 4716, ('neill', 68): 4717, ('europa', 68): 4718, ('jade', 68): 4719, ('axe', 68): 4720, ('kathryn', 68): 4721, ('cher', 68): 4722, ('pixar', 68): 4723, ('pickford', 68): 4724, ('wardrob', 67): 4725, ('rooki', 67): 4726, ('eli', 67): 4727, ('redneck', 67): 4728, ('bondag', 67): 4729, ('holocaust', 67): 4730, ('cerebr', 67): 4731, ('sicken', 67): 4732, ('mason', 67): 4733, ('lucil', 67): 4734, ('bikini', 67): 4735, ('uma', 67): 4736, ('pc', 67): 4737, ('aris', 67): 4738, ('venom', 67): 4739, ('vile', 67): 4740, ('seedi', 67): 4741, ('northern', 67): 4742, ('jordan', 67): 4743, ('electron', 67): 4744, ('illus', 67): 4745, ('misfortun', 67): 4746, ('estrang', 67): 4747, ('flavor', 67): 4748, ('articl', 67): 4749, ('feast', 67): 4750, ('winchest', 67): 4751, ('marlon', 67): 4752, ('static', 67): 4753, ('isra', 67): 4754, ('milo', 67): 4755, ('akin', 67): 4756, ('vanessa', 67): 4757, ('breakfast', 67): 4758, ('lui', 67): 4759, ('http', 67): 4760, ('alexandr', 67): 4761, ('shepherd', 67): 4762, ('orphan', 67): 4763, ('antholog', 67): 4764, ('razor', 67): 4765, ('jo', 67): 4766, ('legitim', 67): 4767, ('toronto', 67): 4768, ('token', 67): 4769, ('choke', 67): 4770, ('nope', 67): 4771, ('foil', 67): 4772, ('blatantli', 67): 4773, ('trier', 67): 4774, ('mathieu', 67): 4775, ('smack', 66): 4776, ('howl', 66): 4777, ('nightclub', 66): 4778, ('frog', 66): 4779, ('deem', 66): 4780, ('affleck', 66): 4781, ('peer', 66): 4782, ('tack', 66): 4783, ('comprehend', 66): 4784, ('outdat', 66): 4785, ('charlton', 66): 4786, ('shorter', 66): 4787, ('knightley', 66): 4788, ('leather', 66): 4789, ('boyer', 66): 4790, ('abund', 66): 4791, ('ceremoni', 66): 4792, ('styliz', 66): 4793, ('glare', 66): 4794, ('retriev', 66): 4795, ('linear', 66): 4796, ('ideolog', 66): 4797, ('fifth', 66): 4798, ('oppon', 66): 4799, ('psych', 66): 4800, ('disregard', 66): 4801, ('huston', 66): 4802, ('swept', 66): 4803, ('turd', 66): 4804, ('cartoonish', 66): 4805, ('clinic', 66): 4806, ('gilbert', 66): 4807, ('audrey', 66): 4808, ('highway', 66): 4809, ('wrestler', 66): 4810, ('feminin', 66): 4811, ('dudley', 66): 4812, ('magician', 66): 4813, ('gunga', 66): 4814, ('evolut', 65): 4815, ('summar', 65): 4816, ('lifeless', 65): 4817, ('breakdown', 65): 4818, ('salman', 65): 4819, ('sleaz', 65): 4820, ('greet', 65): 4821, ('tara', 65): 4822, ('boo', 65): 4823, ('potter', 65): 4824, ('snatch', 65): 4825, ('1994', 65): 4826, ('spine', 65): 4827, ('monument', 65): 4828, ('lighter', 65): 4829, ('spawn', 65): 4830, ('toe', 65): 4831, ('energet', 65): 4832, ('chip', 65): 4833, ('4th', 65): 4834, ('newer', 65): 4835, ('1991', 65): 4836, ('cemeteri', 65): 4837, ('bastard', 65): 4838, ('whack', 65): 4839, ('corn', 65): 4840, ('conrad', 65): 4841, ('uniformli', 65): 4842, ('goldsworthi', 65): 4843, ('durat', 65): 4844, ('collector', 65): 4845, ('client', 65): 4846, ('braveheart', 65): 4847, ('btw', 65): 4848, ('bogu', 65): 4849, ('lavish', 65): 4850, ('plate', 65): 4851, ('phenomen', 65): 4852, ('deliver', 65): 4853, ('einstein', 65): 4854, ('cuban', 65): 4855, ('senat', 65): 4856, ('compris', 65): 4857, ('moe', 65): 4858, ('mitch', 65): 4859, ('armstrong', 64): 4860, ('jam', 64): 4861, ('sorrow', 64): 4862, ('nina', 64): 4863, ('undead', 64): 4864, ('kent', 64): 4865, ('lex', 64): 4866, ('trauma', 64): 4867, ('neatli', 64): 4868, ('kazan', 64): 4869, ('luxuri', 64): 4870, ('bulk', 64): 4871, ('jare', 64): 4872, ('embark', 64): 4873, ('ol', 64): 4874, ('eleven', 64): 4875, ('pronounc', 64): 4876, ('outright', 64): 4877, ('judd', 64): 4878, ('spectacl', 64): 4879, ('jule', 64): 4880, ('undertak', 64): 4881, ('liu', 64): 4882, ('wtf', 64): 4883, ('alleg', 64): 4884, ('evelyn', 64): 4885, ('creek', 64): 4886, ('fluid', 64): 4887, ('belli', 64): 4888, ('constitut', 64): 4889, ('historian', 64): 4890, ('occup', 64): 4891, ('appl', 64): 4892, ('firmli', 64): 4893, ('mcqueen', 64): 4894, ('inaccuraci', 64): 4895, ('cecil', 64): 4896, ('ie', 64): 4897, ('bori', 64): 4898, ('1974', 64): 4899, ('1977', 64): 4900, ('clara', 64): 4901, ('replay', 64): 4902, ('signal', 64): 4903, ('randolph', 64): 4904, ('healthi', 64): 4905, ('gilliam', 64): 4906, ('capot', 64): 4907, ('jedi', 64): 4908, ('meal', 63): 4909, ('sidewalk', 63): 4910, ('curtain', 63): 4911, ('unsuspect', 63): 4912, ('bait', 63): 4913, ('abound', 63): 4914, ('sacrif', 63): 4915, ('genet', 63): 4916, ('groan', 63): 4917, ('walt', 63): 4918, ('forgiven', 63): 4919, ('carmen', 63): 4920, ('pioneer', 63): 4921, ('unattract', 63): 4922, ('pepper', 63): 4923, ('inaccur', 63): 4924, ('comprehens', 63): 4925, ('id', 63): 4926, ('roar', 63): 4927, ('fruit', 63): 4928, ('vignett', 63): 4929, ('blur', 63): 4930, ('relentless', 63): 4931, ('decapit', 63): 4932, ('miami', 63): 4933, ('palm', 63): 4934, ('vain', 63): 4935, ('knee', 63): 4936, ('tokyo', 63): 4937, ('paula', 63): 4938, ('lauren', 63): 4939, ('bsg', 63): 4940, ('truman', 63): 4941, ('miniseri', 63): 4942, ('comb', 63): 4943, ('1985', 63): 4944, ('aussi', 63): 4945, ('antonio', 63): 4946, ('conan', 63): 4947, ('mum', 63): 4948, ('subtli', 63): 4949, ('rosario', 63): 4950, ('inclus', 63): 4951, ('poker', 63): 4952, ('kiddi', 63): 4953, ('cape', 63): 4954, ('porter', 63): 4955, ('propheci', 63): 4956, ('goldblum', 63): 4957, ('galaxi', 63): 4958, ('spray', 63): 4959, ('ash', 63): 4960, ('congratul', 63): 4961, ('lanc', 63): 4962, ('basket', 63): 4963, ('scariest', 62): 4964, ('omin', 62): 4965, ('drone', 62): 4966, ('substanti', 62): 4967, ('assort', 62): 4968, ('handicap', 62): 4969, ('profil', 62): 4970, ('rapidli', 62): 4971, ('ghetto', 62): 4972, ('sparkl', 62): 4973, ('playboy', 62): 4974, ('bach', 62): 4975, ('detach', 62): 4976, ('modest', 62): 4977, ('frontal', 62): 4978, ('sophi', 62): 4979, ('monti', 62): 4980, ('victorian', 62): 4981, ('orchestr', 62): 4982, ('jill', 62): 4983, ('mice', 62): 4984, ('verg', 62): 4985, ('masterson', 62): 4986, ('hostil', 62): 4987, ('evan', 62): 4988, ('spill', 62): 4989, ('asset', 62): 4990, ('21st', 62): 4991, ('cypher', 62): 4992, ('hackman', 62): 4993, ('weari', 62): 4994, ('bravo', 62): 4995, ('growth', 62): 4996, ('vastli', 62): 4997, ('incorrect', 62): 4998, ('dubiou', 62): 4999}\n"
     ]
    }
   ],
   "source": [
    "# TODO: Use this space to determine the five most frequently appearing words in the training set.\n",
    "\n",
    "print(word_dict)"
   ]
  },
  {
   "cell_type": "markdown",
   "metadata": {},
   "source": [
    "### Save `word_dict`\n",
    "\n",
    "Later on when we construct an endpoint which processes a submitted review we will need to make use of the `word_dict` which we have created. As such, we will save it to a file now for future use."
   ]
  },
  {
   "cell_type": "code",
   "execution_count": 14,
   "metadata": {},
   "outputs": [],
   "source": [
    "data_dir = '../data/pytorch' # The folder we will use for storing data\n",
    "if not os.path.exists(data_dir): # Make sure that the folder exists\n",
    "    os.makedirs(data_dir)"
   ]
  },
  {
   "cell_type": "code",
   "execution_count": 15,
   "metadata": {},
   "outputs": [],
   "source": [
    "with open(os.path.join(data_dir, 'word_dict.pkl'), \"wb\") as f:\n",
    "    pickle.dump(word_dict, f)"
   ]
  },
  {
   "cell_type": "markdown",
   "metadata": {},
   "source": [
    "### Transform the reviews\n",
    "\n",
    "Now that we have our word dictionary which allows us to transform the words appearing in the reviews into integers, it is time to make use of it and convert our reviews to their integer sequence representation, making sure to pad or truncate to a fixed length, which in our case is `500`."
   ]
  },
  {
   "cell_type": "code",
   "execution_count": 16,
   "metadata": {},
   "outputs": [],
   "source": [
    "def convert_and_pad(word_dict, sentence, pad=500):\n",
    "    NOWORD = 0 # We will use 0 to represent the 'no word' category\n",
    "    INFREQ = 1 # and we use 1 to represent the infrequent words, i.e., words not appearing in word_dict\n",
    "    \n",
    "    working_sentence = [NOWORD] * pad\n",
    "    for word_index, word in enumerate(sentence[:pad]):\n",
    "        if word in word_dict:\n",
    "            working_sentence[word_index] = word_dict[word]\n",
    "            print('found match')\n",
    "        else:\n",
    "            working_sentence[word_index] = INFREQ\n",
    "            \n",
    "    return working_sentence, min(len(sentence), pad)\n",
    "\n",
    "def convert_and_pad_data(word_dict, data, pad=500):\n",
    "    result = []\n",
    "    lengths = []\n",
    "    \n",
    "    for sentence in data:\n",
    "        converted, leng = convert_and_pad(word_dict, sentence, pad)\n",
    "        result.append(converted)\n",
    "        lengths.append(leng)\n",
    "    \n",
    "    return np.array(result), np.array(lengths)"
   ]
  },
  {
   "cell_type": "code",
   "execution_count": 17,
   "metadata": {},
   "outputs": [],
   "source": [
    "train_X, train_X_len = convert_and_pad_data(word_dict, train_X)\n",
    "test_X, test_X_len = convert_and_pad_data(word_dict, test_X)"
   ]
  },
  {
   "cell_type": "markdown",
   "metadata": {},
   "source": [
    "As a quick check to make sure that things are working as intended, check to see what one of the reviews in the training set looks like after having been processeed. Does this look reasonable? What is the length of a review in the training set?"
   ]
  },
  {
   "cell_type": "code",
   "execution_count": 18,
   "metadata": {},
   "outputs": [
    {
     "name": "stdout",
     "output_type": "stream",
     "text": [
      "25000\n",
      "[1 1 1 1 1 1 1 1 1 1 1 1 1 1 1 1 1 1 1 1 1 1 1 1 1 1 1 1 1 1 1 1 1 1 1 1 1\n",
      " 1 1 1 1 1 1 1 1 1 1 1 1 1 1 1 1 1 1 1 1 1 1 1 1 1 1 1 1 1 1 1 0 0 0 0 0 0\n",
      " 0 0 0 0 0 0 0 0 0 0 0 0 0 0 0 0 0 0 0 0 0 0 0 0 0 0 0 0 0 0 0 0 0 0 0 0 0\n",
      " 0 0 0 0 0 0 0 0 0 0 0 0 0 0 0 0 0 0 0 0 0 0 0 0 0 0 0 0 0 0 0 0 0 0 0 0 0\n",
      " 0 0 0 0 0 0 0 0 0 0 0 0 0 0 0 0 0 0 0 0 0 0 0 0 0 0 0 0 0 0 0 0 0 0 0 0 0\n",
      " 0 0 0 0 0 0 0 0 0 0 0 0 0 0 0 0 0 0 0 0 0 0 0 0 0 0 0 0 0 0 0 0 0 0 0 0 0\n",
      " 0 0 0 0 0 0 0 0 0 0 0 0 0 0 0 0 0 0 0 0 0 0 0 0 0 0 0 0 0 0 0 0 0 0 0 0 0\n",
      " 0 0 0 0 0 0 0 0 0 0 0 0 0 0 0 0 0 0 0 0 0 0 0 0 0 0 0 0 0 0 0 0 0 0 0 0 0\n",
      " 0 0 0 0 0 0 0 0 0 0 0 0 0 0 0 0 0 0 0 0 0 0 0 0 0 0 0 0 0 0 0 0 0 0 0 0 0\n",
      " 0 0 0 0 0 0 0 0 0 0 0 0 0 0 0 0 0 0 0 0 0 0 0 0 0 0 0 0 0 0 0 0 0 0 0 0 0\n",
      " 0 0 0 0 0 0 0 0 0 0 0 0 0 0 0 0 0 0 0 0 0 0 0 0 0 0 0 0 0 0 0 0 0 0 0 0 0\n",
      " 0 0 0 0 0 0 0 0 0 0 0 0 0 0 0 0 0 0 0 0 0 0 0 0 0 0 0 0 0 0 0 0 0 0 0 0 0\n",
      " 0 0 0 0 0 0 0 0 0 0 0 0 0 0 0 0 0 0 0 0 0 0 0 0 0 0 0 0 0 0 0 0 0 0 0 0 0\n",
      " 0 0 0 0 0 0 0 0 0 0 0 0 0 0 0 0 0 0 0] 68\n"
     ]
    }
   ],
   "source": [
    "# Use this cell to examine one of the processed reviews to make sure everything is working as intended.\n",
    "print(len(test_X))\n",
    "print(train_X[47], train_X_len[47])"
   ]
  },
  {
   "cell_type": "markdown",
   "metadata": {},
   "source": [
    "**Question:** In the cells above we use the `preprocess_data` and `convert_and_pad_data` methods to process both the training and testing set. Why or why not might this be a problem?"
   ]
  },
  {
   "cell_type": "markdown",
   "metadata": {},
   "source": [
    "**Answer:** I don't see preprocess_data method posing a problem. Truncating the reviews on convert_and_pad_data might be a problem."
   ]
  },
  {
   "cell_type": "markdown",
   "metadata": {},
   "source": [
    "## Step 3: Upload the data to S3\n",
    "\n",
    "As in the XGBoost notebook, we will need to upload the training dataset to S3 in order for our training code to access it. For now we will save it locally and we will upload to S3 later on.\n",
    "\n",
    "### Save the processed training dataset locally\n",
    "\n",
    "It is important to note the format of the data that we are saving as we will need to know it when we write the training code. In our case, each row of the dataset has the form `label`, `length`, `review[500]` where `review[500]` is a sequence of `500` integers representing the words in the review."
   ]
  },
  {
   "cell_type": "code",
   "execution_count": 19,
   "metadata": {},
   "outputs": [],
   "source": [
    "import pandas as pd\n",
    "    \n",
    "pd.concat([pd.DataFrame(train_y), pd.DataFrame(train_X_len), pd.DataFrame(train_X)], axis=1) \\\n",
    "        .to_csv(os.path.join(data_dir, 'train.csv'), header=False, index=False)"
   ]
  },
  {
   "cell_type": "markdown",
   "metadata": {},
   "source": [
    "### Uploading the training data\n",
    "\n",
    "\n",
    "Next, we need to upload the training data to the SageMaker default S3 bucket so that we can provide access to it while training our model."
   ]
  },
  {
   "cell_type": "code",
   "execution_count": 20,
   "metadata": {},
   "outputs": [],
   "source": [
    "import sagemaker\n",
    "\n",
    "sagemaker_session = sagemaker.Session()\n",
    "\n",
    "bucket = sagemaker_session.default_bucket()\n",
    "prefix = 'sagemaker/sentiment_rnn'\n",
    "\n",
    "role = sagemaker.get_execution_role()"
   ]
  },
  {
   "cell_type": "code",
   "execution_count": 21,
   "metadata": {},
   "outputs": [],
   "source": [
    "input_data = sagemaker_session.upload_data(path=data_dir, bucket=bucket, key_prefix=prefix)"
   ]
  },
  {
   "cell_type": "markdown",
   "metadata": {},
   "source": [
    "**NOTE:** The cell above uploads the entire contents of our data directory. This includes the `word_dict.pkl` file. This is fortunate as we will need this later on when we create an endpoint that accepts an arbitrary review. For now, we will just take note of the fact that it resides in the data directory (and so also in the S3 training bucket) and that we will need to make sure it gets saved in the model directory."
   ]
  },
  {
   "cell_type": "markdown",
   "metadata": {},
   "source": [
    "## Step 4: Build and Train the PyTorch Model\n",
    "\n",
    "In the XGBoost notebook we discussed what a model is in the SageMaker framework. In particular, a model comprises three objects\n",
    "\n",
    " - Model Artifacts,\n",
    " - Training Code, and\n",
    " - Inference Code,\n",
    " \n",
    "each of which interact with one another. In the XGBoost example we used training and inference code that was provided by Amazon. Here we will still be using containers provided by Amazon with the added benefit of being able to include our own custom code.\n",
    "\n",
    "We will start by implementing our own neural network in PyTorch along with a training script. For the purposes of this project we have provided the necessary model object in the `model.py` file, inside of the `train` folder. You can see the provided implementation by running the cell below."
   ]
  },
  {
   "cell_type": "code",
   "execution_count": 22,
   "metadata": {},
   "outputs": [
    {
     "name": "stdout",
     "output_type": "stream",
     "text": [
      "\u001b[34mimport\u001b[39;49;00m \u001b[04m\u001b[36mtorch\u001b[39;49;00m\u001b[04m\u001b[36m.\u001b[39;49;00m\u001b[04m\u001b[36mnn\u001b[39;49;00m \u001b[34mas\u001b[39;49;00m \u001b[04m\u001b[36mnn\u001b[39;49;00m\r\n",
      "\r\n",
      "\u001b[34mclass\u001b[39;49;00m \u001b[04m\u001b[32mLSTMClassifier\u001b[39;49;00m(nn.Module):\r\n",
      "    \u001b[33m\"\"\"\u001b[39;49;00m\r\n",
      "\u001b[33m    This is the simple RNN model we will be using to perform Sentiment Analysis.\u001b[39;49;00m\r\n",
      "\u001b[33m    \"\"\"\u001b[39;49;00m\r\n",
      " \r\n",
      "\r\n",
      "    \u001b[34mdef\u001b[39;49;00m \u001b[32m__init__\u001b[39;49;00m(\u001b[36mself\u001b[39;49;00m, embedding_dim, hidden_dim, vocab_size):\r\n",
      "        \u001b[33m\"\"\"\u001b[39;49;00m\r\n",
      "\u001b[33m        Initialize the model by settingg up the various layers.\u001b[39;49;00m\r\n",
      "\u001b[33m        \"\"\"\u001b[39;49;00m\r\n",
      "        \u001b[36msuper\u001b[39;49;00m(LSTMClassifier, \u001b[36mself\u001b[39;49;00m).\u001b[32m__init__\u001b[39;49;00m()\r\n",
      "\r\n",
      "        \u001b[36mself\u001b[39;49;00m.embedding = nn.Embedding(vocab_size, embedding_dim, padding_idx=\u001b[34m0\u001b[39;49;00m)\r\n",
      "        \u001b[36mself\u001b[39;49;00m.lstm = nn.LSTM(embedding_dim, hidden_dim)\r\n",
      "        \u001b[36mself\u001b[39;49;00m.dense = nn.Linear(in_features=hidden_dim, out_features=\u001b[34m1\u001b[39;49;00m)\r\n",
      "        \u001b[36mself\u001b[39;49;00m.sig = nn.Sigmoid()\r\n",
      "        \r\n",
      "        \u001b[36mself\u001b[39;49;00m.word_dict = \u001b[34mNone\u001b[39;49;00m\r\n",
      "\r\n",
      "    \u001b[34mdef\u001b[39;49;00m \u001b[32mforward\u001b[39;49;00m(\u001b[36mself\u001b[39;49;00m, x):\r\n",
      "        \u001b[33m\"\"\"\u001b[39;49;00m\r\n",
      "\u001b[33m        Perform a forward pass of our model on some input.\u001b[39;49;00m\r\n",
      "\u001b[33m        \"\"\"\u001b[39;49;00m\r\n",
      "        x = x.t()\r\n",
      "        lengths = x[\u001b[34m0\u001b[39;49;00m,:]\r\n",
      "        reviews = x[\u001b[34m1\u001b[39;49;00m:,:]\r\n",
      "        embeds = \u001b[36mself\u001b[39;49;00m.embedding(reviews)\r\n",
      "        lstm_out, _ = \u001b[36mself\u001b[39;49;00m.lstm(embeds)\r\n",
      "        out = \u001b[36mself\u001b[39;49;00m.dense(lstm_out)\r\n",
      "        out = out[lengths - \u001b[34m1\u001b[39;49;00m, \u001b[36mrange\u001b[39;49;00m(\u001b[36mlen\u001b[39;49;00m(lengths))]\r\n",
      "        \u001b[34mreturn\u001b[39;49;00m \u001b[36mself\u001b[39;49;00m.sig(out.squeeze())\r\n",
      "    \r\n",
      "    \r\n"
     ]
    }
   ],
   "source": [
    "!pygmentize train/model.py"
   ]
  },
  {
   "cell_type": "markdown",
   "metadata": {},
   "source": [
    "The important takeaway from the implementation provided is that there are three parameters that we may wish to tweak to improve the performance of our model. These are the embedding dimension, the hidden dimension and the size of the vocabulary. We will likely want to make these parameters configurable in the training script so that if we wish to modify them we do not need to modify the script itself. We will see how to do this later on. To start we will write some of the training code in the notebook so that we can more easily diagnose any issues that arise.\n",
    "\n",
    "First we will load a small portion of the training data set to use as a sample. It would be very time consuming to try and train the model completely in the notebook as we do not have access to a gpu and the compute instance that we are using is not particularly powerful. However, we can work on a small bit of the data to get a feel for how our training script is behaving."
   ]
  },
  {
   "cell_type": "code",
   "execution_count": 23,
   "metadata": {},
   "outputs": [],
   "source": [
    "import torch\n",
    "import torch.utils.data\n",
    "\n",
    "# Read in only the first 250 rows\n",
    "train_sample = pd.read_csv(os.path.join(data_dir, 'train.csv'), header=None, names=None, nrows=250)\n",
    "\n",
    "# Turn the input pandas dataframe into tensors\n",
    "train_sample_y = torch.from_numpy(train_sample[[0]].values).float().squeeze()\n",
    "train_sample_X = torch.from_numpy(train_sample.drop([0], axis=1).values).long()\n",
    "\n",
    "\n",
    "# Build the dataset\n",
    "train_sample_ds = torch.utils.data.TensorDataset(train_sample_X, train_sample_y)\n",
    "# Build the dataloader\n",
    "train_sample_dl = torch.utils.data.DataLoader(train_sample_ds, batch_size=50)"
   ]
  },
  {
   "cell_type": "markdown",
   "metadata": {},
   "source": [
    "### (TODO) Writing the training method\n",
    "\n",
    "Next we need to write the training code itself. This should be very similar to training methods that you have written before to train PyTorch models. We will leave any difficult aspects such as model saving / loading and parameter loading until a little later."
   ]
  },
  {
   "cell_type": "code",
   "execution_count": 24,
   "metadata": {},
   "outputs": [],
   "source": [
    "\n",
    "\n",
    "\n",
    "def train(model, train_loader, epochs, optimizer, loss_fn, device):\n",
    "    for epoch in range(1, epochs + 1):\n",
    "        model.train()\n",
    "        total_loss = 0\n",
    "        for batch in train_loader:         \n",
    "            batch_X, batch_y = batch\n",
    "            \n",
    "            batch_X = batch_X.to(device)\n",
    "            batch_y = batch_y.to(device)\n",
    "            \n",
    "            # TODO: Complete this train method to train the model provided.\n",
    "            \n",
    "            optimizer.zero_grad()\n",
    "            outputs = model(batch_X)\n",
    "            loss = loss_fn(outputs, batch_y)\n",
    "            loss.backward()\n",
    "            optimizer.step()\n",
    "\n",
    "            \n",
    "            \n",
    "            \n",
    "            total_loss += loss.data.item()\n",
    "        print(\"Epoch: {}, BCELoss: {}\".format(epoch, total_loss / len(train_loader)))"
   ]
  },
  {
   "cell_type": "markdown",
   "metadata": {},
   "source": [
    "Supposing we have the training method above, we will test that it is working by writing a bit of code in the notebook that executes our training method on the small sample training set that we loaded earlier. The reason for doing this in the notebook is so that we have an opportunity to fix any errors that arise early when they are easier to diagnose."
   ]
  },
  {
   "cell_type": "code",
   "execution_count": 25,
   "metadata": {},
   "outputs": [
    {
     "name": "stdout",
     "output_type": "stream",
     "text": [
      "Epoch: 1, BCELoss: 0.6979031205177307\n",
      "Epoch: 2, BCELoss: 0.6914586901664734\n",
      "Epoch: 3, BCELoss: 0.6929645299911499\n",
      "Epoch: 4, BCELoss: 0.6936670780181885\n",
      "Epoch: 5, BCELoss: 0.6934082388877869\n"
     ]
    }
   ],
   "source": [
    "import torch.optim as optim\n",
    "from train.model import LSTMClassifier\n",
    "\n",
    "device = torch.device(\"cuda\" if torch.cuda.is_available() else \"cpu\")\n",
    "model = LSTMClassifier(50, 100, 5000).to(device)\n",
    "optimizer = optim.Adam(model.parameters(), lr=0.001)\n",
    "loss_fn = torch.nn.BCELoss()\n",
    "\n",
    "\n",
    "train(model, train_sample_dl, 5, optimizer, loss_fn, device)"
   ]
  },
  {
   "cell_type": "markdown",
   "metadata": {},
   "source": [
    "In order to construct a PyTorch model using SageMaker we must provide SageMaker with a training script. We may optionally include a directory which will be copied to the container and from which our training code will be run. When the training container is executed it will check the uploaded directory (if there is one) for a `requirements.txt` file and install any required Python libraries, after which the training script will be run."
   ]
  },
  {
   "cell_type": "markdown",
   "metadata": {},
   "source": [
    "### (TODO) Training the model\n",
    "\n",
    "When a PyTorch model is constructed in SageMaker, an entry point must be specified. This is the Python file which will be executed when the model is trained. Inside of the `train` directory is a file called `train.py` which has been provided and which contains most of the necessary code to train our model. The only thing that is missing is the implementation of the `train()` method which you wrote earlier in this notebook.\n",
    "\n",
    "**TODO**: Copy the `train()` method written above and paste it into the `train/train.py` file where required.\n",
    "\n",
    "The way that SageMaker passes hyperparameters to the training script is by way of arguments. These arguments can then be parsed and used in the training script. To see how this is done take a look at the provided `train/train.py` file."
   ]
  },
  {
   "cell_type": "code",
   "execution_count": 26,
   "metadata": {},
   "outputs": [],
   "source": [
    "from sagemaker.pytorch import PyTorch\n",
    "\n",
    "estimator = PyTorch(entry_point=\"train.py\",\n",
    "                    source_dir=\"train\",\n",
    "                    role=role,\n",
    "                    framework_version='0.4.0',\n",
    "                    train_instance_count=1,\n",
    "                    train_instance_type='ml.p2.xlarge',\n",
    "                    hyperparameters={\n",
    "                        'epochs': 5,\n",
    "                        'hidden_dim': 100,\n",
    "                    })"
   ]
  },
  {
   "cell_type": "code",
   "execution_count": 27,
   "metadata": {},
   "outputs": [
    {
     "name": "stderr",
     "output_type": "stream",
     "text": [
      "'create_image_uri' will be deprecated in favor of 'ImageURIProvider' class in SageMaker Python SDK v2.\n",
      "'s3_input' class will be renamed to 'TrainingInput' in SageMaker Python SDK v2.\n",
      "'create_image_uri' will be deprecated in favor of 'ImageURIProvider' class in SageMaker Python SDK v2.\n"
     ]
    },
    {
     "name": "stdout",
     "output_type": "stream",
     "text": [
      "2020-08-12 12:30:30 Starting - Starting the training job...\n",
      "2020-08-12 12:30:32 Starting - Launching requested ML instances......\n",
      "2020-08-12 12:31:36 Starting - Preparing the instances for training............\n",
      "2020-08-12 12:33:48 Downloading - Downloading input data...\n",
      "2020-08-12 12:34:30 Training - Downloading the training image...\n",
      "2020-08-12 12:34:53 Training - Training image download completed. Training in progress.\u001b[34mbash: cannot set terminal process group (-1): Inappropriate ioctl for device\u001b[0m\n",
      "\u001b[34mbash: no job control in this shell\u001b[0m\n",
      "\u001b[34m2020-08-12 12:34:54,196 sagemaker-containers INFO     Imported framework sagemaker_pytorch_container.training\u001b[0m\n",
      "\u001b[34m2020-08-12 12:34:54,222 sagemaker_pytorch_container.training INFO     Block until all host DNS lookups succeed.\u001b[0m\n",
      "\u001b[34m2020-08-12 12:34:55,647 sagemaker_pytorch_container.training INFO     Invoking user training script.\u001b[0m\n",
      "\u001b[34m2020-08-12 12:34:55,869 sagemaker-containers INFO     Module train does not provide a setup.py. \u001b[0m\n",
      "\u001b[34mGenerating setup.py\u001b[0m\n",
      "\u001b[34m2020-08-12 12:34:55,869 sagemaker-containers INFO     Generating setup.cfg\u001b[0m\n",
      "\u001b[34m2020-08-12 12:34:55,869 sagemaker-containers INFO     Generating MANIFEST.in\u001b[0m\n",
      "\u001b[34m2020-08-12 12:34:55,869 sagemaker-containers INFO     Installing module with the following command:\u001b[0m\n",
      "\u001b[34m/usr/bin/python -m pip install -U . -r requirements.txt\u001b[0m\n",
      "\u001b[34mProcessing /opt/ml/code\u001b[0m\n",
      "\u001b[34mCollecting pandas (from -r requirements.txt (line 1))\n",
      "  Downloading https://files.pythonhosted.org/packages/74/24/0cdbf8907e1e3bc5a8da03345c23cbed7044330bb8f73bb12e711a640a00/pandas-0.24.2-cp35-cp35m-manylinux1_x86_64.whl (10.0MB)\u001b[0m\n",
      "\u001b[34mCollecting numpy (from -r requirements.txt (line 2))\n",
      "  Downloading https://files.pythonhosted.org/packages/b5/36/88723426b4ff576809fec7d73594fe17a35c27f8d01f93637637a29ae25b/numpy-1.18.5-cp35-cp35m-manylinux1_x86_64.whl (19.9MB)\u001b[0m\n",
      "\u001b[34mCollecting nltk (from -r requirements.txt (line 3))\n",
      "  Downloading https://files.pythonhosted.org/packages/92/75/ce35194d8e3022203cca0d2f896dbb88689f9b3fce8e9f9cff942913519d/nltk-3.5.zip (1.4MB)\u001b[0m\n",
      "\u001b[34mCollecting beautifulsoup4 (from -r requirements.txt (line 4))\n",
      "  Downloading https://files.pythonhosted.org/packages/66/25/ff030e2437265616a1e9b25ccc864e0371a0bc3adb7c5a404fd661c6f4f6/beautifulsoup4-4.9.1-py3-none-any.whl (115kB)\u001b[0m\n",
      "\u001b[34mCollecting html5lib (from -r requirements.txt (line 5))\u001b[0m\n",
      "\u001b[34m  Downloading https://files.pythonhosted.org/packages/6c/dd/a834df6482147d48e225a49515aabc28974ad5a4ca3215c18a882565b028/html5lib-1.1-py2.py3-none-any.whl (112kB)\u001b[0m\n",
      "\u001b[34mRequirement already satisfied, skipping upgrade: python-dateutil>=2.5.0 in /usr/local/lib/python3.5/dist-packages (from pandas->-r requirements.txt (line 1)) (2.7.5)\u001b[0m\n",
      "\u001b[34mCollecting pytz>=2011k (from pandas->-r requirements.txt (line 1))\n",
      "  Downloading https://files.pythonhosted.org/packages/4f/a4/879454d49688e2fad93e59d7d4efda580b783c745fd2ec2a3adf87b0808d/pytz-2020.1-py2.py3-none-any.whl (510kB)\u001b[0m\n",
      "\u001b[34mRequirement already satisfied, skipping upgrade: click in /usr/local/lib/python3.5/dist-packages (from nltk->-r requirements.txt (line 3)) (7.0)\u001b[0m\n",
      "\u001b[34mCollecting joblib (from nltk->-r requirements.txt (line 3))\n",
      "  Downloading https://files.pythonhosted.org/packages/28/5c/cf6a2b65a321c4a209efcdf64c2689efae2cb62661f8f6f4bb28547cf1bf/joblib-0.14.1-py2.py3-none-any.whl (294kB)\u001b[0m\n",
      "\u001b[34mCollecting regex (from nltk->-r requirements.txt (line 3))\u001b[0m\n",
      "\u001b[34m  Downloading https://files.pythonhosted.org/packages/09/c3/ddaa87500f31ed86290e3d014c0302a51fde28d7139eda0b5f33733726db/regex-2020.7.14.tar.gz (690kB)\u001b[0m\n",
      "\u001b[34mCollecting tqdm (from nltk->-r requirements.txt (line 3))\n",
      "  Downloading https://files.pythonhosted.org/packages/28/7e/281edb5bc3274dfb894d90f4dbacfceaca381c2435ec6187a2c6f329aed7/tqdm-4.48.2-py2.py3-none-any.whl (68kB)\u001b[0m\n",
      "\u001b[34mCollecting soupsieve>1.2 (from beautifulsoup4->-r requirements.txt (line 4))\n",
      "  Downloading https://files.pythonhosted.org/packages/6f/8f/457f4a5390eeae1cc3aeab89deb7724c965be841ffca6cfca9197482e470/soupsieve-2.0.1-py3-none-any.whl\u001b[0m\n",
      "\u001b[34mRequirement already satisfied, skipping upgrade: six>=1.9 in /usr/local/lib/python3.5/dist-packages (from html5lib->-r requirements.txt (line 5)) (1.11.0)\u001b[0m\n",
      "\u001b[34mCollecting webencodings (from html5lib->-r requirements.txt (line 5))\n",
      "  Downloading https://files.pythonhosted.org/packages/f4/24/2a3e3df732393fed8b3ebf2ec078f05546de641fe1b667ee316ec1dcf3b7/webencodings-0.5.1-py2.py3-none-any.whl\u001b[0m\n",
      "\u001b[34mBuilding wheels for collected packages: nltk, train, regex\n",
      "  Running setup.py bdist_wheel for nltk: started\u001b[0m\n",
      "\u001b[34m  Running setup.py bdist_wheel for nltk: finished with status 'done'\n",
      "  Stored in directory: /root/.cache/pip/wheels/ae/8c/3f/b1fe0ba04555b08b57ab52ab7f86023639a526d8bc8d384306\n",
      "  Running setup.py bdist_wheel for train: started\u001b[0m\n",
      "\u001b[34m  Running setup.py bdist_wheel for train: finished with status 'done'\n",
      "  Stored in directory: /tmp/pip-ephem-wheel-cache-gugyat2z/wheels/35/24/16/37574d11bf9bde50616c67372a334f94fa8356bc7164af8ca3\n",
      "  Running setup.py bdist_wheel for regex: started\u001b[0m\n",
      "\u001b[34m  Running setup.py bdist_wheel for regex: finished with status 'done'\n",
      "  Stored in directory: /root/.cache/pip/wheels/53/55/dc/e17fa4568958f4c53be34b65e474a1327b64641f65df379ec3\u001b[0m\n",
      "\u001b[34mSuccessfully built nltk train regex\u001b[0m\n",
      "\u001b[34mInstalling collected packages: numpy, pytz, pandas, joblib, regex, tqdm, nltk, soupsieve, beautifulsoup4, webencodings, html5lib, train\n",
      "  Found existing installation: numpy 1.15.4\n",
      "    Uninstalling numpy-1.15.4:\n",
      "      Successfully uninstalled numpy-1.15.4\u001b[0m\n",
      "\u001b[34mSuccessfully installed beautifulsoup4-4.9.1 html5lib-1.1 joblib-0.14.1 nltk-3.5 numpy-1.18.5 pandas-0.24.2 pytz-2020.1 regex-2020.7.14 soupsieve-2.0.1 tqdm-4.48.2 train-1.0.0 webencodings-0.5.1\u001b[0m\n",
      "\u001b[34mYou are using pip version 18.1, however version 20.2.2 is available.\u001b[0m\n",
      "\u001b[34mYou should consider upgrading via the 'pip install --upgrade pip' command.\u001b[0m\n",
      "\u001b[34m2020-08-12 12:35:19,347 sagemaker-containers INFO     Invoking user script\n",
      "\u001b[0m\n",
      "\u001b[34mTraining Env:\n",
      "\u001b[0m\n",
      "\u001b[34m{\n",
      "    \"output_intermediate_dir\": \"/opt/ml/output/intermediate\",\n",
      "    \"input_data_config\": {\n",
      "        \"training\": {\n",
      "            \"RecordWrapperType\": \"None\",\n",
      "            \"S3DistributionType\": \"FullyReplicated\",\n",
      "            \"TrainingInputMode\": \"File\"\n",
      "        }\n",
      "    },\n",
      "    \"framework_module\": \"sagemaker_pytorch_container.training:main\",\n",
      "    \"resource_config\": {\n",
      "        \"current_host\": \"algo-1\",\n",
      "        \"hosts\": [\n",
      "            \"algo-1\"\n",
      "        ],\n",
      "        \"network_interface_name\": \"eth0\"\n",
      "    },\n",
      "    \"hosts\": [\n",
      "        \"algo-1\"\n",
      "    ],\n",
      "    \"channel_input_dirs\": {\n",
      "        \"training\": \"/opt/ml/input/data/training\"\n",
      "    },\n",
      "    \"additional_framework_parameters\": {},\n",
      "    \"output_data_dir\": \"/opt/ml/output/data\",\n",
      "    \"current_host\": \"algo-1\",\n",
      "    \"hyperparameters\": {\n",
      "        \"hidden_dim\": 100,\n",
      "        \"epochs\": 5\n",
      "    },\n",
      "    \"module_dir\": \"s3://sagemaker-us-east-2-531474096424/sagemaker-pytorch-2020-08-12-12-30-30-229/source/sourcedir.tar.gz\",\n",
      "    \"num_gpus\": 1,\n",
      "    \"input_config_dir\": \"/opt/ml/input/config\",\n",
      "    \"job_name\": \"sagemaker-pytorch-2020-08-12-12-30-30-229\",\n",
      "    \"num_cpus\": 4,\n",
      "    \"model_dir\": \"/opt/ml/model\",\n",
      "    \"log_level\": 20,\n",
      "    \"user_entry_point\": \"train.py\",\n",
      "    \"module_name\": \"train\",\n",
      "    \"output_dir\": \"/opt/ml/output\",\n",
      "    \"network_interface_name\": \"eth0\",\n",
      "    \"input_dir\": \"/opt/ml/input\"\u001b[0m\n",
      "\u001b[34m}\n",
      "\u001b[0m\n",
      "\u001b[34mEnvironment variables:\n",
      "\u001b[0m\n",
      "\u001b[34mSM_HP_EPOCHS=5\u001b[0m\n",
      "\u001b[34mSM_FRAMEWORK_PARAMS={}\u001b[0m\n",
      "\u001b[34mSM_NETWORK_INTERFACE_NAME=eth0\u001b[0m\n",
      "\u001b[34mSM_USER_ARGS=[\"--epochs\",\"5\",\"--hidden_dim\",\"100\"]\u001b[0m\n",
      "\u001b[34mSM_NUM_GPUS=1\u001b[0m\n",
      "\u001b[34mSM_OUTPUT_INTERMEDIATE_DIR=/opt/ml/output/intermediate\u001b[0m\n",
      "\u001b[34mSM_CHANNELS=[\"training\"]\u001b[0m\n",
      "\u001b[34mSM_HOSTS=[\"algo-1\"]\u001b[0m\n",
      "\u001b[34mSM_HP_HIDDEN_DIM=100\u001b[0m\n",
      "\u001b[34mSM_NUM_CPUS=4\u001b[0m\n",
      "\u001b[34mSM_OUTPUT_DIR=/opt/ml/output\u001b[0m\n",
      "\u001b[34mSM_FRAMEWORK_MODULE=sagemaker_pytorch_container.training:main\u001b[0m\n",
      "\u001b[34mSM_INPUT_CONFIG_DIR=/opt/ml/input/config\u001b[0m\n",
      "\u001b[34mSM_MODEL_DIR=/opt/ml/model\u001b[0m\n",
      "\u001b[34mSM_RESOURCE_CONFIG={\"current_host\":\"algo-1\",\"hosts\":[\"algo-1\"],\"network_interface_name\":\"eth0\"}\u001b[0m\n",
      "\u001b[34mSM_OUTPUT_DATA_DIR=/opt/ml/output/data\u001b[0m\n",
      "\u001b[34mSM_INPUT_DATA_CONFIG={\"training\":{\"RecordWrapperType\":\"None\",\"S3DistributionType\":\"FullyReplicated\",\"TrainingInputMode\":\"File\"}}\u001b[0m\n",
      "\u001b[34mSM_CURRENT_HOST=algo-1\u001b[0m\n",
      "\u001b[34mPYTHONPATH=/usr/local/bin:/usr/lib/python35.zip:/usr/lib/python3.5:/usr/lib/python3.5/plat-x86_64-linux-gnu:/usr/lib/python3.5/lib-dynload:/usr/local/lib/python3.5/dist-packages:/usr/lib/python3/dist-packages\u001b[0m\n",
      "\u001b[34mSM_TRAINING_ENV={\"additional_framework_parameters\":{},\"channel_input_dirs\":{\"training\":\"/opt/ml/input/data/training\"},\"current_host\":\"algo-1\",\"framework_module\":\"sagemaker_pytorch_container.training:main\",\"hosts\":[\"algo-1\"],\"hyperparameters\":{\"epochs\":5,\"hidden_dim\":100},\"input_config_dir\":\"/opt/ml/input/config\",\"input_data_config\":{\"training\":{\"RecordWrapperType\":\"None\",\"S3DistributionType\":\"FullyReplicated\",\"TrainingInputMode\":\"File\"}},\"input_dir\":\"/opt/ml/input\",\"job_name\":\"sagemaker-pytorch-2020-08-12-12-30-30-229\",\"log_level\":20,\"model_dir\":\"/opt/ml/model\",\"module_dir\":\"s3://sagemaker-us-east-2-531474096424/sagemaker-pytorch-2020-08-12-12-30-30-229/source/sourcedir.tar.gz\",\"module_name\":\"train\",\"network_interface_name\":\"eth0\",\"num_cpus\":4,\"num_gpus\":1,\"output_data_dir\":\"/opt/ml/output/data\",\"output_dir\":\"/opt/ml/output\",\"output_intermediate_dir\":\"/opt/ml/output/intermediate\",\"resource_config\":{\"current_host\":\"algo-1\",\"hosts\":[\"algo-1\"],\"network_interface_name\":\"eth0\"},\"user_entry_point\":\"train.py\"}\u001b[0m\n",
      "\u001b[34mSM_MODULE_DIR=s3://sagemaker-us-east-2-531474096424/sagemaker-pytorch-2020-08-12-12-30-30-229/source/sourcedir.tar.gz\u001b[0m\n",
      "\u001b[34mSM_INPUT_DIR=/opt/ml/input\u001b[0m\n",
      "\u001b[34mSM_MODULE_NAME=train\u001b[0m\n",
      "\u001b[34mSM_LOG_LEVEL=20\u001b[0m\n",
      "\u001b[34mSM_HPS={\"epochs\":5,\"hidden_dim\":100}\u001b[0m\n",
      "\u001b[34mSM_CHANNEL_TRAINING=/opt/ml/input/data/training\u001b[0m\n",
      "\u001b[34mSM_USER_ENTRY_POINT=train.py\n",
      "\u001b[0m\n",
      "\u001b[34mInvoking script with the following command:\n",
      "\u001b[0m\n",
      "\u001b[34m/usr/bin/python -m train --epochs 5 --hidden_dim 100\n",
      "\n",
      "\u001b[0m\n",
      "\u001b[34mUsing device cuda.\u001b[0m\n",
      "\u001b[34mGet train data loader.\u001b[0m\n"
     ]
    },
    {
     "name": "stdout",
     "output_type": "stream",
     "text": [
      "\u001b[34mModel loaded with embedding_dim 32, hidden_dim 100, vocab_size 5000.\u001b[0m\n",
      "\u001b[34mEpoch: 1, BCELoss: 0.6934784954907943\u001b[0m\n",
      "\u001b[34mEpoch: 2, BCELoss: 0.6933080128261021\u001b[0m\n",
      "\u001b[34mEpoch: 3, BCELoss: 0.6932913527196768\u001b[0m\n",
      "\u001b[34mEpoch: 4, BCELoss: 0.6932699047789281\u001b[0m\n",
      "\n",
      "2020-08-12 12:36:30 Uploading - Uploading generated training model\u001b[34mEpoch: 5, BCELoss: 0.6932509371212551\u001b[0m\n",
      "\u001b[34m2020-08-12 12:36:26,456 sagemaker-containers INFO     Reporting training SUCCESS\u001b[0m\n",
      "\n",
      "2020-08-12 12:36:37 Completed - Training job completed\n",
      "Training seconds: 169\n",
      "Billable seconds: 169\n"
     ]
    }
   ],
   "source": [
    "estimator.fit({'training': input_data})"
   ]
  },
  {
   "cell_type": "markdown",
   "metadata": {},
   "source": [
    "## Step 5: Testing the model\n",
    "\n",
    "As mentioned at the top of this notebook, we will be testing this model by first deploying it and then sending the testing data to the deployed endpoint. We will do this so that we can make sure that the deployed model is working correctly.\n",
    "\n",
    "## Step 6: Deploy the model for testing\n",
    "\n",
    "Now that we have trained our model, we would like to test it to see how it performs. Currently our model takes input of the form `review_length, review[500]` where `review[500]` is a sequence of `500` integers which describe the words present in the review, encoded using `word_dict`. Fortunately for us, SageMaker provides built-in inference code for models with simple inputs such as this.\n",
    "\n",
    "There is one thing that we need to provide, however, and that is a function which loads the saved model. This function must be called `model_fn()` and takes as its only parameter a path to the directory where the model artifacts are stored. This function must also be present in the python file which we specified as the entry point. In our case the model loading function has been provided and so no changes need to be made.\n",
    "\n",
    "**NOTE**: When the built-in inference code is run it must import the `model_fn()` method from the `train.py` file. This is why the training code is wrapped in a main guard ( ie, `if __name__ == '__main__':` )\n",
    "\n",
    "Since we don't need to change anything in the code that was uploaded during training, we can simply deploy the current model as-is.\n",
    "\n",
    "**NOTE:** When deploying a model you are asking SageMaker to launch an compute instance that will wait for data to be sent to it. As a result, this compute instance will continue to run until *you* shut it down. This is important to know since the cost of a deployed endpoint depends on how long it has been running for.\n",
    "\n",
    "In other words **If you are no longer using a deployed endpoint, shut it down!**\n",
    "\n",
    "**TODO:** Deploy the trained model."
   ]
  },
  {
   "cell_type": "code",
   "execution_count": 28,
   "metadata": {},
   "outputs": [
    {
     "name": "stderr",
     "output_type": "stream",
     "text": [
      "Parameter image will be renamed to image_uri in SageMaker Python SDK v2.\n",
      "'create_image_uri' will be deprecated in favor of 'ImageURIProvider' class in SageMaker Python SDK v2.\n"
     ]
    },
    {
     "name": "stdout",
     "output_type": "stream",
     "text": [
      "---------------!"
     ]
    }
   ],
   "source": [
    "# TODO: Deploy the trained model\n",
    "\n",
    "predictor = estimator.deploy(initial_instance_count=1, instance_type='ml.m4.xlarge')"
   ]
  },
  {
   "cell_type": "markdown",
   "metadata": {},
   "source": [
    "## Step 7 - Use the model for testing\n",
    "\n",
    "Once deployed, we can read in the test data and send it off to our deployed model to get some results. Once we collect all of the results we can determine how accurate our model is."
   ]
  },
  {
   "cell_type": "code",
   "execution_count": 29,
   "metadata": {},
   "outputs": [],
   "source": [
    "test_X = pd.concat([pd.DataFrame(test_X_len), pd.DataFrame(test_X)], axis=1)"
   ]
  },
  {
   "cell_type": "code",
   "execution_count": 30,
   "metadata": {},
   "outputs": [],
   "source": [
    "# We split the data into chunks and send each chunk seperately, accumulating the results.\n",
    "\n",
    "def predict(data, rows=512):\n",
    "    split_array = np.array_split(data, int(data.shape[0] / float(rows) + 1))\n",
    "    predictions = np.array([])\n",
    "    for array in split_array:\n",
    "        predictions = np.append(predictions, predictor.predict(array))\n",
    "    \n",
    "    return predictions"
   ]
  },
  {
   "cell_type": "code",
   "execution_count": 31,
   "metadata": {},
   "outputs": [],
   "source": [
    "predictions = predict(test_X.values)\n",
    "predictions = [round(num) for num in predictions]\n"
   ]
  },
  {
   "cell_type": "code",
   "execution_count": 32,
   "metadata": {},
   "outputs": [
    {
     "data": {
      "text/plain": [
       "0.5"
      ]
     },
     "execution_count": 32,
     "metadata": {},
     "output_type": "execute_result"
    }
   ],
   "source": [
    "from sklearn.metrics import accuracy_score\n",
    "accuracy_score(test_y, predictions)"
   ]
  },
  {
   "cell_type": "markdown",
   "metadata": {},
   "source": [
    "**Question:** How does this model compare to the XGBoost model you created earlier? Why might these two models perform differently on this dataset? Which do *you* think is better for sentiment analysis?"
   ]
  },
  {
   "cell_type": "markdown",
   "metadata": {},
   "source": [
    "**Answer:** This model scores around 0.5 compared to the 0.86 for the xgboost model. I haven't been able to figure out why that is, perhaps the learning rate is too slow. Or the model is overfitting."
   ]
  },
  {
   "cell_type": "markdown",
   "metadata": {},
   "source": [
    "### (TODO) More testing\n",
    "\n",
    "We now have a trained model which has been deployed and which we can send processed reviews to and which returns the predicted sentiment. However, ultimately we would like to be able to send our model an unprocessed review. That is, we would like to send the review itself as a string. For example, suppose we wish to send the following review to our model."
   ]
  },
  {
   "cell_type": "code",
   "execution_count": 33,
   "metadata": {},
   "outputs": [],
   "source": [
    "test_review = 'The simplest pleasures in life are the best, and this film is one of them. Combining a rather basic storyline of love and adventure this movie transcends the usual weekend fair with wit and unmitigated charm.'"
   ]
  },
  {
   "cell_type": "markdown",
   "metadata": {},
   "source": [
    "The question we now need to answer is, how do we send this review to our model?\n",
    "\n",
    "Recall in the first section of this notebook we did a bunch of data processing to the IMDb dataset. In particular, we did two specific things to the provided reviews.\n",
    " - Removed any html tags and stemmed the input\n",
    " - Encoded the review as a sequence of integers using `word_dict`\n",
    " \n",
    "In order process the review we will need to repeat these two steps.\n",
    "\n",
    "**TODO**: Using the `review_to_words` and `convert_and_pad` methods from section one, convert `test_review` into a numpy array `test_data` suitable to send to our model. Remember that our model expects input of the form `review_length, review[500]`."
   ]
  },
  {
   "cell_type": "code",
   "execution_count": 34,
   "metadata": {},
   "outputs": [],
   "source": [
    "# TODO: Convert test_review into a form usable by the model and save the results in test_data\n",
    "test_data = review_to_words(test_review)\n",
    "test_data = [np.array(convert_and_pad(word_dict, test_data)[0])]"
   ]
  },
  {
   "cell_type": "markdown",
   "metadata": {},
   "source": [
    "Now that we have processed the review, we can send the resulting array to our model to predict the sentiment of the review."
   ]
  },
  {
   "cell_type": "code",
   "execution_count": 35,
   "metadata": {},
   "outputs": [
    {
     "data": {
      "text/plain": [
       "array(0.50985086, dtype=float32)"
      ]
     },
     "execution_count": 35,
     "metadata": {},
     "output_type": "execute_result"
    }
   ],
   "source": [
    "\n",
    "predictor.predict(test_data)\n"
   ]
  },
  {
   "cell_type": "markdown",
   "metadata": {},
   "source": [
    "Since the return value of our model is close to `1`, we can be certain that the review we submitted is positive."
   ]
  },
  {
   "cell_type": "markdown",
   "metadata": {},
   "source": [
    "### Delete the endpoint\n",
    "\n",
    "Of course, just like in the XGBoost notebook, once we've deployed an endpoint it continues to run until we tell it to shut down. Since we are done using our endpoint for now, we can delete it."
   ]
  },
  {
   "cell_type": "code",
   "execution_count": 36,
   "metadata": {},
   "outputs": [
    {
     "name": "stderr",
     "output_type": "stream",
     "text": [
      "estimator.delete_endpoint() will be deprecated in SageMaker Python SDK v2. Please use the delete_endpoint() function on your predictor instead.\n"
     ]
    }
   ],
   "source": [
    "estimator.delete_endpoint()"
   ]
  },
  {
   "cell_type": "markdown",
   "metadata": {},
   "source": [
    "## Step 6 (again) - Deploy the model for the web app\n",
    "\n",
    "Now that we know that our model is working, it's time to create some custom inference code so that we can send the model a review which has not been processed and have it determine the sentiment of the review.\n",
    "\n",
    "As we saw above, by default the estimator which we created, when deployed, will use the entry script and directory which we provided when creating the model. However, since we now wish to accept a string as input and our model expects a processed review, we need to write some custom inference code.\n",
    "\n",
    "We will store the code that we write in the `serve` directory. Provided in this directory is the `model.py` file that we used to construct our model, a `utils.py` file which contains the `review_to_words` and `convert_and_pad` pre-processing functions which we used during the initial data processing, and `predict.py`, the file which will contain our custom inference code. Note also that `requirements.txt` is present which will tell SageMaker what Python libraries are required by our custom inference code.\n",
    "\n",
    "When deploying a PyTorch model in SageMaker, you are expected to provide four functions which the SageMaker inference container will use.\n",
    " - `model_fn`: This function is the same function that we used in the training script and it tells SageMaker how to load our model.\n",
    " - `input_fn`: This function receives the raw serialized input that has been sent to the model's endpoint and its job is to de-serialize and make the input available for the inference code.\n",
    " - `output_fn`: This function takes the output of the inference code and its job is to serialize this output and return it to the caller of the model's endpoint.\n",
    " - `predict_fn`: The heart of the inference script, this is where the actual prediction is done and is the function which you will need to complete.\n",
    "\n",
    "For the simple website that we are constructing during this project, the `input_fn` and `output_fn` methods are relatively straightforward. We only require being able to accept a string as input and we expect to return a single value as output. You might imagine though that in a more complex application the input or output may be image data or some other binary data which would require some effort to serialize.\n",
    "\n",
    "### (TODO) Writing inference code\n",
    "\n",
    "Before writing our custom inference code, we will begin by taking a look at the code which has been provided."
   ]
  },
  {
   "cell_type": "code",
   "execution_count": 37,
   "metadata": {},
   "outputs": [
    {
     "name": "stdout",
     "output_type": "stream",
     "text": [
      "\u001b[34mimport\u001b[39;49;00m \u001b[04m\u001b[36margparse\u001b[39;49;00m\r\n",
      "\u001b[34mimport\u001b[39;49;00m \u001b[04m\u001b[36mjson\u001b[39;49;00m\r\n",
      "\u001b[34mimport\u001b[39;49;00m \u001b[04m\u001b[36mos\u001b[39;49;00m\r\n",
      "\u001b[34mimport\u001b[39;49;00m \u001b[04m\u001b[36mpickle\u001b[39;49;00m\r\n",
      "\u001b[34mimport\u001b[39;49;00m \u001b[04m\u001b[36msys\u001b[39;49;00m\r\n",
      "\u001b[34mimport\u001b[39;49;00m \u001b[04m\u001b[36msagemaker_containers\u001b[39;49;00m\r\n",
      "\u001b[34mimport\u001b[39;49;00m \u001b[04m\u001b[36mpandas\u001b[39;49;00m \u001b[34mas\u001b[39;49;00m \u001b[04m\u001b[36mpd\u001b[39;49;00m\r\n",
      "\u001b[34mimport\u001b[39;49;00m \u001b[04m\u001b[36mnumpy\u001b[39;49;00m \u001b[34mas\u001b[39;49;00m \u001b[04m\u001b[36mnp\u001b[39;49;00m\r\n",
      "\u001b[34mimport\u001b[39;49;00m \u001b[04m\u001b[36mtorch\u001b[39;49;00m\r\n",
      "\u001b[34mimport\u001b[39;49;00m \u001b[04m\u001b[36mtorch\u001b[39;49;00m\u001b[04m\u001b[36m.\u001b[39;49;00m\u001b[04m\u001b[36mnn\u001b[39;49;00m \u001b[34mas\u001b[39;49;00m \u001b[04m\u001b[36mnn\u001b[39;49;00m\r\n",
      "\u001b[34mimport\u001b[39;49;00m \u001b[04m\u001b[36mtorch\u001b[39;49;00m\u001b[04m\u001b[36m.\u001b[39;49;00m\u001b[04m\u001b[36moptim\u001b[39;49;00m \u001b[34mas\u001b[39;49;00m \u001b[04m\u001b[36moptim\u001b[39;49;00m\r\n",
      "\u001b[34mimport\u001b[39;49;00m \u001b[04m\u001b[36mtorch\u001b[39;49;00m\u001b[04m\u001b[36m.\u001b[39;49;00m\u001b[04m\u001b[36mutils\u001b[39;49;00m\u001b[04m\u001b[36m.\u001b[39;49;00m\u001b[04m\u001b[36mdata\u001b[39;49;00m\r\n",
      "\r\n",
      "\u001b[34mfrom\u001b[39;49;00m \u001b[04m\u001b[36mmodel\u001b[39;49;00m \u001b[34mimport\u001b[39;49;00m LSTMClassifier\r\n",
      "\r\n",
      "\u001b[34mfrom\u001b[39;49;00m \u001b[04m\u001b[36mutils\u001b[39;49;00m \u001b[34mimport\u001b[39;49;00m review_to_words, convert_and_pad\r\n",
      "\r\n",
      "\u001b[34mdef\u001b[39;49;00m \u001b[32mmodel_fn\u001b[39;49;00m(model_dir):\r\n",
      "    \u001b[33m\"\"\"Load the PyTorch model from the `model_dir` directory.\"\"\"\u001b[39;49;00m\r\n",
      "    \u001b[36mprint\u001b[39;49;00m(\u001b[33m\"\u001b[39;49;00m\u001b[33mLoading model.\u001b[39;49;00m\u001b[33m\"\u001b[39;49;00m)\r\n",
      "\r\n",
      "    \u001b[37m# First, load the parameters used to create the model.\u001b[39;49;00m\r\n",
      "    model_info = {}\r\n",
      "    model_info_path = os.path.join(model_dir, \u001b[33m'\u001b[39;49;00m\u001b[33mmodel_info.pth\u001b[39;49;00m\u001b[33m'\u001b[39;49;00m)\r\n",
      "    \u001b[34mwith\u001b[39;49;00m \u001b[36mopen\u001b[39;49;00m(model_info_path, \u001b[33m'\u001b[39;49;00m\u001b[33mrb\u001b[39;49;00m\u001b[33m'\u001b[39;49;00m) \u001b[34mas\u001b[39;49;00m f:\r\n",
      "        model_info = torch.load(f)\r\n",
      "\r\n",
      "    \u001b[36mprint\u001b[39;49;00m(\u001b[33m\"\u001b[39;49;00m\u001b[33mmodel_info: \u001b[39;49;00m\u001b[33m{}\u001b[39;49;00m\u001b[33m\"\u001b[39;49;00m.format(model_info))\r\n",
      "\r\n",
      "    \u001b[37m# Determine the device and construct the model.\u001b[39;49;00m\r\n",
      "    device = torch.device(\u001b[33m\"\u001b[39;49;00m\u001b[33mcuda\u001b[39;49;00m\u001b[33m\"\u001b[39;49;00m \u001b[34mif\u001b[39;49;00m torch.cuda.is_available() \u001b[34melse\u001b[39;49;00m \u001b[33m\"\u001b[39;49;00m\u001b[33mcpu\u001b[39;49;00m\u001b[33m\"\u001b[39;49;00m)\r\n",
      "    model = LSTMClassifier(model_info[\u001b[33m'\u001b[39;49;00m\u001b[33membedding_dim\u001b[39;49;00m\u001b[33m'\u001b[39;49;00m], model_info[\u001b[33m'\u001b[39;49;00m\u001b[33mhidden_dim\u001b[39;49;00m\u001b[33m'\u001b[39;49;00m], model_info[\u001b[33m'\u001b[39;49;00m\u001b[33mvocab_size\u001b[39;49;00m\u001b[33m'\u001b[39;49;00m])\r\n",
      "\r\n",
      "    \u001b[37m# Load the store model parameters.\u001b[39;49;00m\r\n",
      "    model_path = os.path.join(model_dir, \u001b[33m'\u001b[39;49;00m\u001b[33mmodel.pth\u001b[39;49;00m\u001b[33m'\u001b[39;49;00m)\r\n",
      "    \u001b[34mwith\u001b[39;49;00m \u001b[36mopen\u001b[39;49;00m(model_path, \u001b[33m'\u001b[39;49;00m\u001b[33mrb\u001b[39;49;00m\u001b[33m'\u001b[39;49;00m) \u001b[34mas\u001b[39;49;00m f:\r\n",
      "        model.load_state_dict(torch.load(f))\r\n",
      "\r\n",
      "    \u001b[37m# Load the saved word_dict.\u001b[39;49;00m\r\n",
      "    word_dict_path = os.path.join(model_dir, \u001b[33m'\u001b[39;49;00m\u001b[33mword_dict.pkl\u001b[39;49;00m\u001b[33m'\u001b[39;49;00m)\r\n",
      "    \u001b[34mwith\u001b[39;49;00m \u001b[36mopen\u001b[39;49;00m(word_dict_path, \u001b[33m'\u001b[39;49;00m\u001b[33mrb\u001b[39;49;00m\u001b[33m'\u001b[39;49;00m) \u001b[34mas\u001b[39;49;00m f:\r\n",
      "        model.word_dict = pickle.load(f)\r\n",
      "\r\n",
      "    model.to(device).eval()\r\n",
      "\r\n",
      "    \u001b[36mprint\u001b[39;49;00m(\u001b[33m\"\u001b[39;49;00m\u001b[33mDone loading model.\u001b[39;49;00m\u001b[33m\"\u001b[39;49;00m)\r\n",
      "    \u001b[34mreturn\u001b[39;49;00m model\r\n",
      "\r\n",
      "\u001b[34mdef\u001b[39;49;00m \u001b[32minput_fn\u001b[39;49;00m(serialized_input_data, content_type):\r\n",
      "    \u001b[36mprint\u001b[39;49;00m(\u001b[33m'\u001b[39;49;00m\u001b[33mDeserializing the input data.\u001b[39;49;00m\u001b[33m'\u001b[39;49;00m)\r\n",
      "    \u001b[34mif\u001b[39;49;00m content_type == \u001b[33m'\u001b[39;49;00m\u001b[33mtext/plain\u001b[39;49;00m\u001b[33m'\u001b[39;49;00m:\r\n",
      "        data = serialized_input_data.decode(\u001b[33m'\u001b[39;49;00m\u001b[33mutf-8\u001b[39;49;00m\u001b[33m'\u001b[39;49;00m)\r\n",
      "        \u001b[34mreturn\u001b[39;49;00m data\r\n",
      "    \u001b[34mraise\u001b[39;49;00m \u001b[36mException\u001b[39;49;00m(\u001b[33m'\u001b[39;49;00m\u001b[33mRequested unsupported ContentType in content_type: \u001b[39;49;00m\u001b[33m'\u001b[39;49;00m + content_type)\r\n",
      "\r\n",
      "\u001b[34mdef\u001b[39;49;00m \u001b[32moutput_fn\u001b[39;49;00m(prediction_output, accept):\r\n",
      "    \u001b[36mprint\u001b[39;49;00m(\u001b[33m'\u001b[39;49;00m\u001b[33mSerializing the generated output.\u001b[39;49;00m\u001b[33m'\u001b[39;49;00m)\r\n",
      "    \u001b[34mreturn\u001b[39;49;00m \u001b[36mstr\u001b[39;49;00m(prediction_output)\r\n",
      "\r\n",
      "\u001b[34mdef\u001b[39;49;00m \u001b[32mpredict_fn\u001b[39;49;00m(input_data, model):\r\n",
      "    \u001b[36mprint\u001b[39;49;00m(\u001b[33m'\u001b[39;49;00m\u001b[33mInferring sentiment of input data.\u001b[39;49;00m\u001b[33m'\u001b[39;49;00m)\r\n",
      "\r\n",
      "    device = torch.device(\u001b[33m\"\u001b[39;49;00m\u001b[33mcuda\u001b[39;49;00m\u001b[33m\"\u001b[39;49;00m \u001b[34mif\u001b[39;49;00m torch.cuda.is_available() \u001b[34melse\u001b[39;49;00m \u001b[33m\"\u001b[39;49;00m\u001b[33mcpu\u001b[39;49;00m\u001b[33m\"\u001b[39;49;00m)\r\n",
      "    \r\n",
      "    \u001b[34mif\u001b[39;49;00m model.word_dict \u001b[35mis\u001b[39;49;00m \u001b[34mNone\u001b[39;49;00m:\r\n",
      "        \u001b[34mraise\u001b[39;49;00m \u001b[36mException\u001b[39;49;00m(\u001b[33m'\u001b[39;49;00m\u001b[33mModel has not been loaded properly, no word_dict.\u001b[39;49;00m\u001b[33m'\u001b[39;49;00m)\r\n",
      "    \r\n",
      "    \u001b[37m# TODO: Process input_data so that it is ready to be sent to our model.\u001b[39;49;00m\r\n",
      "    \u001b[37m#       You should produce two variables:\u001b[39;49;00m\r\n",
      "    \u001b[37m#         data_X   - A sequence of length 500 which represents the converted review\u001b[39;49;00m\r\n",
      "    \u001b[37m#         data_len - The length of the review\u001b[39;49;00m\r\n",
      "\r\n",
      "    words = review_to_words(input_data)\r\n",
      "    data_X, data_len = convert_and_pad(model.word_dict, words)\r\n",
      "    \r\n",
      "\r\n",
      "    \u001b[37m# Using data_X and data_len we construct an appropriate input tensor. Remember\u001b[39;49;00m\r\n",
      "    \u001b[37m# that our model expects input data of the form 'len, review[500]'.\u001b[39;49;00m\r\n",
      "    data_pack = np.hstack((data_len, data_X))\r\n",
      "    data_pack = data_pack.reshape(\u001b[34m1\u001b[39;49;00m, -\u001b[34m1\u001b[39;49;00m)\r\n",
      "    \r\n",
      "    data = torch.from_numpy(data_pack)\r\n",
      "    data = data.to(device)\r\n",
      "\r\n",
      "    \u001b[37m# Make sure to put the model into evaluation mode\u001b[39;49;00m\r\n",
      "    model.eval()\r\n",
      "\r\n",
      "    \u001b[37m# TODO: Compute the result of applying the model to the input data. The variable `result` should\u001b[39;49;00m\r\n",
      "    \u001b[37m#       be a numpy array which contains a single integer which is either 1 or 0\u001b[39;49;00m\r\n",
      "    output = model(data)\r\n",
      "    result = torch.round(output.squeeze()).detach().cpu().clone().numpy()\r\n",
      "\r\n",
      "    \u001b[34mreturn\u001b[39;49;00m result\r\n"
     ]
    }
   ],
   "source": [
    "!pygmentize serve/predict.py"
   ]
  },
  {
   "cell_type": "markdown",
   "metadata": {},
   "source": [
    "As mentioned earlier, the `model_fn` method is the same as the one provided in the training code and the `input_fn` and `output_fn` methods are very simple and your task will be to complete the `predict_fn` method. Make sure that you save the completed file as `predict.py` in the `serve` directory.\n",
    "\n",
    "**TODO**: Complete the `predict_fn()` method in the `serve/predict.py` file."
   ]
  },
  {
   "cell_type": "markdown",
   "metadata": {},
   "source": [
    "### Deploying the model\n",
    "\n",
    "Now that the custom inference code has been written, we will create and deploy our model. To begin with, we need to construct a new PyTorchModel object which points to the model artifacts created during training and also points to the inference code that we wish to use. Then we can call the deploy method to launch the deployment container.\n",
    "\n",
    "**NOTE**: The default behaviour for a deployed PyTorch model is to assume that any input passed to the predictor is a `numpy` array. In our case we want to send a string so we need to construct a simple wrapper around the `RealTimePredictor` class to accomodate simple strings. In a more complicated situation you may want to provide a serialization object, for example if you wanted to sent image data."
   ]
  },
  {
   "cell_type": "code",
   "execution_count": 38,
   "metadata": {},
   "outputs": [
    {
     "name": "stderr",
     "output_type": "stream",
     "text": [
      "Parameter image will be renamed to image_uri in SageMaker Python SDK v2.\n",
      "'create_image_uri' will be deprecated in favor of 'ImageURIProvider' class in SageMaker Python SDK v2.\n"
     ]
    },
    {
     "name": "stdout",
     "output_type": "stream",
     "text": [
      "---------------!"
     ]
    }
   ],
   "source": [
    "from sagemaker.predictor import RealTimePredictor\n",
    "from sagemaker.pytorch import PyTorchModel\n",
    "\n",
    "class StringPredictor(RealTimePredictor):\n",
    "    def __init__(self, endpoint_name, sagemaker_session):\n",
    "        super(StringPredictor, self).__init__(endpoint_name, sagemaker_session, content_type='text/plain')\n",
    "\n",
    "model = PyTorchModel(model_data=estimator.model_data,\n",
    "                     role = role,\n",
    "                     framework_version='0.4.0',\n",
    "                     entry_point='predict.py',\n",
    "                     source_dir='serve',\n",
    "                     predictor_cls=StringPredictor)\n",
    "predictor = model.deploy(initial_instance_count=1, instance_type='ml.m4.xlarge')"
   ]
  },
  {
   "cell_type": "markdown",
   "metadata": {},
   "source": [
    "### Testing the model\n",
    "\n",
    "Now that we have deployed our model with the custom inference code, we should test to see if everything is working. Here we test our model by loading the first `250` positive and negative reviews and send them to the endpoint, then collect the results. The reason for only sending some of the data is that the amount of time it takes for our model to process the input and then perform inference is quite long and so testing the entire data set would be prohibitive."
   ]
  },
  {
   "cell_type": "code",
   "execution_count": 39,
   "metadata": {},
   "outputs": [],
   "source": [
    "import glob\n",
    "\n",
    "def test_reviews(data_dir='../data/aclImdb', stop=250):\n",
    "    \n",
    "    results = []\n",
    "    ground = []\n",
    "    \n",
    "    # We make sure to test both positive and negative reviews    \n",
    "    for sentiment in ['pos', 'neg']:\n",
    "        \n",
    "        path = os.path.join(data_dir, 'test', sentiment, '*.txt')\n",
    "        files = glob.glob(path)\n",
    "        \n",
    "        files_read = 0\n",
    "        \n",
    "        print('Starting ', sentiment, ' files')\n",
    "        \n",
    "        # Iterate through the files and send them to the predictor\n",
    "        for f in files:\n",
    "            with open(f) as review:\n",
    "                # First, we store the ground truth (was the review positive or negative)\n",
    "                if sentiment == 'pos':\n",
    "                    ground.append(1)\n",
    "                else:\n",
    "                    ground.append(0)\n",
    "                # Read in the review and convert to 'utf-8' for transmission via HTTP\n",
    "                review_input = review.read().encode('utf-8')\n",
    "                # Send the review to the predictor and store the results\n",
    "                results.append(float(predictor.predict(review_input)))\n",
    "                \n",
    "            # Sending reviews to our endpoint one at a time takes a while so we\n",
    "            # only send a small number of reviews\n",
    "            files_read += 1\n",
    "            if files_read == stop:\n",
    "                break\n",
    "            \n",
    "    return ground, results"
   ]
  },
  {
   "cell_type": "code",
   "execution_count": 40,
   "metadata": {},
   "outputs": [
    {
     "name": "stdout",
     "output_type": "stream",
     "text": [
      "Starting  pos  files\n",
      "Starting  neg  files\n"
     ]
    }
   ],
   "source": [
    "ground, results = test_reviews()"
   ]
  },
  {
   "cell_type": "code",
   "execution_count": 41,
   "metadata": {},
   "outputs": [
    {
     "data": {
      "text/plain": [
       "0.5"
      ]
     },
     "execution_count": 41,
     "metadata": {},
     "output_type": "execute_result"
    }
   ],
   "source": [
    "from sklearn.metrics import accuracy_score\n",
    "accuracy_score(ground, results)"
   ]
  },
  {
   "cell_type": "markdown",
   "metadata": {},
   "source": [
    "As an additional test, we can try sending the `test_review` that we looked at earlier."
   ]
  },
  {
   "cell_type": "code",
   "execution_count": 42,
   "metadata": {},
   "outputs": [
    {
     "data": {
      "text/plain": [
       "b'1.0'"
      ]
     },
     "execution_count": 42,
     "metadata": {},
     "output_type": "execute_result"
    }
   ],
   "source": [
    "predictor.predict(test_review)"
   ]
  },
  {
   "cell_type": "markdown",
   "metadata": {},
   "source": [
    "Now that we know our endpoint is working as expected, we can set up the web page that will interact with it. If you don't have time to finish the project now, make sure to skip down to the end of this notebook and shut down your endpoint. You can deploy it again when you come back."
   ]
  },
  {
   "cell_type": "markdown",
   "metadata": {},
   "source": [
    "## Step 7 (again): Use the model for the web app\n",
    "\n",
    "> **TODO:** This entire section and the next contain tasks for you to complete, mostly using the AWS console.\n",
    "\n",
    "So far we have been accessing our model endpoint by constructing a predictor object which uses the endpoint and then just using the predictor object to perform inference. What if we wanted to create a web app which accessed our model? The way things are set up currently makes that not possible since in order to access a SageMaker endpoint the app would first have to authenticate with AWS using an IAM role which included access to SageMaker endpoints. However, there is an easier way! We just need to use some additional AWS services.\n",
    "\n",
    "<img src=\"Web App Diagram.svg\">\n",
    "\n",
    "The diagram above gives an overview of how the various services will work together. On the far right is the model which we trained above and which is deployed using SageMaker. On the far left is our web app that collects a user's movie review, sends it off and expects a positive or negative sentiment in return.\n",
    "\n",
    "In the middle is where some of the magic happens. We will construct a Lambda function, which you can think of as a straightforward Python function that can be executed whenever a specified event occurs. We will give this function permission to send and recieve data from a SageMaker endpoint.\n",
    "\n",
    "Lastly, the method we will use to execute the Lambda function is a new endpoint that we will create using API Gateway. This endpoint will be a url that listens for data to be sent to it. Once it gets some data it will pass that data on to the Lambda function and then return whatever the Lambda function returns. Essentially it will act as an interface that lets our web app communicate with the Lambda function.\n",
    "\n",
    "### Setting up a Lambda function\n",
    "\n",
    "The first thing we are going to do is set up a Lambda function. This Lambda function will be executed whenever our public API has data sent to it. When it is executed it will receive the data, perform any sort of processing that is required, send the data (the review) to the SageMaker endpoint we've created and then return the result.\n",
    "\n",
    "#### Part A: Create an IAM Role for the Lambda function\n",
    "\n",
    "Since we want the Lambda function to call a SageMaker endpoint, we need to make sure that it has permission to do so. To do this, we will construct a role that we can later give the Lambda function.\n",
    "\n",
    "Using the AWS Console, navigate to the **IAM** page and click on **Roles**. Then, click on **Create role**. Make sure that the **AWS service** is the type of trusted entity selected and choose **Lambda** as the service that will use this role, then click **Next: Permissions**.\n",
    "\n",
    "In the search box type `sagemaker` and select the check box next to the **AmazonSageMakerFullAccess** policy. Then, click on **Next: Review**.\n",
    "\n",
    "Lastly, give this role a name. Make sure you use a name that you will remember later on, for example `LambdaSageMakerRole`. Then, click on **Create role**.\n",
    "\n",
    "#### Part B: Create a Lambda function\n",
    "\n",
    "Now it is time to actually create the Lambda function.\n",
    "\n",
    "Using the AWS Console, navigate to the AWS Lambda page and click on **Create a function**. When you get to the next page, make sure that **Author from scratch** is selected. Now, name your Lambda function, using a name that you will remember later on, for example `sentiment_analysis_func`. Make sure that the **Python 3.6** runtime is selected and then choose the role that you created in the previous part. Then, click on **Create Function**.\n",
    "\n",
    "On the next page you will see some information about the Lambda function you've just created. If you scroll down you should see an editor in which you can write the code that will be executed when your Lambda function is triggered. In our example, we will use the code below. \n",
    "\n",
    "```python\n",
    "# We need to use the low-level library to interact with SageMaker since the SageMaker API\n",
    "# is not available natively through Lambda.\n",
    "import boto3\n",
    "\n",
    "def lambda_handler(event, context):\n",
    "\n",
    "    # The SageMaker runtime is what allows us to invoke the endpoint that we've created.\n",
    "    runtime = boto3.Session().client('sagemaker-runtime')\n",
    "\n",
    "    # Now we use the SageMaker runtime to invoke our endpoint, sending the review we were given\n",
    "    response = runtime.invoke_endpoint(EndpointName = '**ENDPOINT NAME HERE**',    # The name of the endpoint we created\n",
    "                                       ContentType = 'text/plain',                 # The data format that is expected\n",
    "                                       Body = event['body'])                       # The actual review\n",
    "\n",
    "    # The response is an HTTP response whose body contains the result of our inference\n",
    "    result = response['Body'].read().decode('utf-8')\n",
    "\n",
    "    return {\n",
    "        'statusCode' : 200,\n",
    "        'headers' : { 'Content-Type' : 'text/plain', 'Access-Control-Allow-Origin' : '*' },\n",
    "        'body' : result\n",
    "    }\n",
    "```\n",
    "\n",
    "Once you have copy and pasted the code above into the Lambda code editor, replace the `**ENDPOINT NAME HERE**` portion with the name of the endpoint that we deployed earlier. You can determine the name of the endpoint using the code cell below."
   ]
  },
  {
   "cell_type": "code",
   "execution_count": 44,
   "metadata": {},
   "outputs": [
    {
     "data": {
      "text/plain": [
       "'sagemaker-pytorch-2020-08-12-12-48-38-587'"
      ]
     },
     "execution_count": 44,
     "metadata": {},
     "output_type": "execute_result"
    }
   ],
   "source": [
    "predictor.endpoint"
   ]
  },
  {
   "cell_type": "markdown",
   "metadata": {},
   "source": [
    "Once you have added the endpoint name to the Lambda function, click on **Save**. Your Lambda function is now up and running. Next we need to create a way for our web app to execute the Lambda function.\n",
    "\n",
    "### Setting up API Gateway\n",
    "\n",
    "Now that our Lambda function is set up, it is time to create a new API using API Gateway that will trigger the Lambda function we have just created.\n",
    "\n",
    "Using AWS Console, navigate to **Amazon API Gateway** and then click on **Get started**.\n",
    "\n",
    "On the next page, make sure that **New API** is selected and give the new api a name, for example, `sentiment_analysis_api`. Then, click on **Create API**.\n",
    "\n",
    "Now we have created an API, however it doesn't currently do anything. What we want it to do is to trigger the Lambda function that we created earlier.\n",
    "\n",
    "Select the **Actions** dropdown menu and click **Create Method**. A new blank method will be created, select its dropdown menu and select **POST**, then click on the check mark beside it.\n",
    "\n",
    "For the integration point, make sure that **Lambda Function** is selected and click on the **Use Lambda Proxy integration**. This option makes sure that the data that is sent to the API is then sent directly to the Lambda function with no processing. It also means that the return value must be a proper response object as it will also not be processed by API Gateway.\n",
    "\n",
    "Type the name of the Lambda function you created earlier into the **Lambda Function** text entry box and then click on **Save**. Click on **OK** in the pop-up box that then appears, giving permission to API Gateway to invoke the Lambda function you created.\n",
    "\n",
    "The last step in creating the API Gateway is to select the **Actions** dropdown and click on **Deploy API**. You will need to create a new Deployment stage and name it anything you like, for example `prod`.\n",
    "\n",
    "You have now successfully set up a public API to access your SageMaker model. Make sure to copy or write down the URL provided to invoke your newly created public API as this will be needed in the next step. This URL can be found at the top of the page, highlighted in blue next to the text **Invoke URL**."
   ]
  },
  {
   "cell_type": "markdown",
   "metadata": {},
   "source": [
    "## Step 4: Deploying our web app\n",
    "\n",
    "Now that we have a publicly available API, we can start using it in a web app. For our purposes, we have provided a simple static html file which can make use of the public api you created earlier.\n",
    "\n",
    "In the `website` folder there should be a file called `index.html`. Download the file to your computer and open that file up in a text editor of your choice. There should be a line which contains **\\*\\*REPLACE WITH PUBLIC API URL\\*\\***. Replace this string with the url that you wrote down in the last step and then save the file.\n",
    "\n",
    "Now, if you open `index.html` on your local computer, your browser will behave as a local web server and you can use the provided site to interact with your SageMaker model.\n",
    "\n",
    "If you'd like to go further, you can host this html file anywhere you'd like, for example using github or hosting a static site on Amazon's S3. Once you have done this you can share the link with anyone you'd like and have them play with it too!\n",
    "\n",
    "> **Important Note** In order for the web app to communicate with the SageMaker endpoint, the endpoint has to actually be deployed and running. This means that you are paying for it. Make sure that the endpoint is running when you want to use the web app but that you shut it down when you don't need it, otherwise you will end up with a surprisingly large AWS bill.\n",
    "\n",
    "**TODO:** Make sure that you include the edited `index.html` file in your project submission."
   ]
  },
  {
   "cell_type": "markdown",
   "metadata": {},
   "source": [
    "Now that your web app is working, trying playing around with it and see how well it works.\n",
    "\n",
    "**Question**: Give an example of a review that you entered into your web app. What was the predicted sentiment of your example review?"
   ]
  },
  {
   "cell_type": "markdown",
   "metadata": {},
   "source": [
    "**Answer:** 'The death by a thousand cuts that gives this documentary from Ramona S. Diaz its title is the death of democracy — a slow wounding that eventually makes the democracy too weak to survive. And while that assessment, offered by the journalist Maria Ressa, refers to the Philippines under Rodrigo Duterte, the absorbing and multipronged “A Thousand Cuts” presents the country as a test lab for autocracy — and suggests that its experiments have a high potential to travel.\n",
    "\n",
    "Refreshingly, the film is not simply a profile of Ressa, who founded the news site Rappler and has fearlessly chronicled the abuses of Duterte’s presidency and the violence it has encouraged against purported drug dealers and addicts, but a kaleidoscopic dissection of how information courses through the country. It illustrates social media’s capacity to deceive and to entrench political power.' \n",
    "\n",
    "\n",
    "The predicted sentiment was positive.  "
   ]
  },
  {
   "cell_type": "markdown",
   "metadata": {},
   "source": [
    "### Delete the endpoint\n",
    "\n",
    "Remember to always shut down your endpoint if you are no longer using it. You are charged for the length of time that the endpoint is running so if you forget and leave it on you could end up with an unexpectedly large bill."
   ]
  },
  {
   "cell_type": "code",
   "execution_count": 45,
   "metadata": {},
   "outputs": [],
   "source": [
    "predictor.delete_endpoint()"
   ]
  },
  {
   "cell_type": "code",
   "execution_count": null,
   "metadata": {},
   "outputs": [],
   "source": []
  }
 ],
 "metadata": {
  "kernelspec": {
   "display_name": "conda_pytorch_p36",
   "language": "python",
   "name": "conda_pytorch_p36"
  },
  "language_info": {
   "codemirror_mode": {
    "name": "ipython",
    "version": 3
   },
   "file_extension": ".py",
   "mimetype": "text/x-python",
   "name": "python",
   "nbconvert_exporter": "python",
   "pygments_lexer": "ipython3",
   "version": "3.6.10"
  }
 },
 "nbformat": 4,
 "nbformat_minor": 2
}
